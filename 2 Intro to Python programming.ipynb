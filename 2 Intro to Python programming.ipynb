{
 "cells": [
  {
   "cell_type": "markdown",
   "metadata": {},
   "source": [
    "# Intro to Computer Programming"
   ]
  },
  {
   "cell_type": "markdown",
   "metadata": {},
   "source": [
    "## Why program?\n",
    "\n",
    "- You can write programs to streamline tasks that you must repeat frequently.\n",
    "- Writing a program yourself helps you avoid intellectual property and licensing issues: no one can tell you to stop using your own program or charge you for using it\n",
    "- Your program is expandable and customizable: you can add new functionality to it later if you wish\n",
    "- It's fun!"
   ]
  },
  {
   "cell_type": "markdown",
   "metadata": {},
   "source": [
    "## Why program in python?\n",
    "\n",
    "- Scripting language, no need to compile\n",
    "- Simple syntax, uses _duck typing_ (don't need to declare what variables are beforehand)\n",
    "- Fast to develop in\n",
    "- Incredibly well developed, there's a huge community of developers who have made open-source packages available that can do nearly anything\n",
    "- Can use it for sophisticated data/science work"
   ]
  },
  {
   "cell_type": "markdown",
   "metadata": {},
   "source": [
    "## Goals\n",
    "\n",
    "- Understand basic variable types in python including `Bool`, `Int`, `float`, `list`, `tuple` and `str`\n",
    "- Learn a few basic operations with `list`s\n",
    "    - creating a range of numbers\n",
    "    - accessing individual elements of a list or a range of values\n",
    "    - combining lists\n",
    "- Learn basic syntax\n",
    "    - equivalence `=`\n",
    "    - mathematical operations `+`, `-`, `*`, `/`, `**`, `%`\n",
    "    - comparisons `==`, `>`, et. \n",
    "    - `if`, `elif`, `else`\n",
    "    - `for` loops\n",
    "    - defining functions (subroutines)\n",
    "- Importing packages\n",
    "- Basics of numpy \n",
    "- Basics of scipy"
   ]
  },
  {
   "cell_type": "markdown",
   "metadata": {},
   "source": [
    "## Table of Contents \n",
    "\n",
    "* [2.1 Basic arithmatic](#arithmetic)\n",
    "* [2.2 Variables and data types](#variables)\n",
    "* [2.3 Functions](#functions) \n",
    "* [2.4 Control syntax](#control)\n",
    "* [2.5 Lists in python](#lists) \n",
    "* [2.6 Loops](#loops)\n",
    "* [2.7 Accessing packages](#packages)\n",
    "* [2.8 Introduction to `numpy`](#numpy)\n",
    "* [2.9 Introduction to `scipy`](#scipy)\n"
   ]
  },
  {
   "cell_type": "markdown",
   "metadata": {},
   "source": [
    "# 2.1 Basic arithmetic <a name=\"arithmatic\">"
   ]
  },
  {
   "cell_type": "markdown",
   "metadata": {},
   "source": [
    "We'll start off by learning to use python as a calculator both for numbers and defined variables. We'll end by learning how to wrap a computation as a function that we can reuse.  "
   ]
  },
  {
   "cell_type": "markdown",
   "metadata": {},
   "source": [
    "additon and subtraction follow the syntax `A + B` and `A - B` where `A` and `B` can be many kinds of objects but for right now we'll use integers (e.g. `34`) and floating point numbers (e.g. `2.1`, `34.0`). These two types are handled differently by your computer (for example how they are stored in memory) but python figures out what you'd like to do just based on what types you use. "
   ]
  },
  {
   "cell_type": "code",
   "execution_count": null,
   "metadata": {},
   "outputs": [],
   "source": [
    "3 + 4"
   ]
  },
  {
   "cell_type": "code",
   "execution_count": null,
   "metadata": {},
   "outputs": [],
   "source": [
    "236 - 45"
   ]
  },
  {
   "cell_type": "markdown",
   "metadata": {},
   "source": [
    "Muliplication is written `A * B` and expoants `A ** B` ($= A^B$)"
   ]
  },
  {
   "cell_type": "code",
   "execution_count": null,
   "metadata": {},
   "outputs": [],
   "source": [
    "4 * 6"
   ]
  },
  {
   "cell_type": "code",
   "execution_count": null,
   "metadata": {},
   "outputs": [],
   "source": [
    "2 ** 8"
   ]
  },
  {
   "cell_type": "markdown",
   "metadata": {},
   "source": [
    "Play around for yourself. Feel free to use paranethesis to make complex expressions and check that things are working sensibly. "
   ]
  },
  {
   "cell_type": "code",
   "execution_count": null,
   "metadata": {},
   "outputs": [],
   "source": []
  },
  {
   "cell_type": "markdown",
   "metadata": {},
   "source": [
    "What does `A % B` do?"
   ]
  },
  {
   "cell_type": "code",
   "execution_count": null,
   "metadata": {},
   "outputs": [],
   "source": [
    "30 % 7"
   ]
  },
  {
   "cell_type": "code",
   "execution_count": null,
   "metadata": {},
   "outputs": [],
   "source": [
    "24 % 3"
   ]
  },
  {
   "cell_type": "code",
   "execution_count": null,
   "metadata": {},
   "outputs": [],
   "source": [
    "24 % 5"
   ]
  },
  {
   "cell_type": "markdown",
   "metadata": {},
   "source": [
    "# 2.2 Variables and Data Types <a name=\"variables\">"
   ]
  },
  {
   "cell_type": "markdown",
   "metadata": {},
   "source": [
    "to define a variable use the syntax `A = B` to set `A` equal to `B`. **This is not symmetric**. `B = A` sets B to A (not the other way around). "
   ]
  },
  {
   "cell_type": "code",
   "execution_count": null,
   "metadata": {},
   "outputs": [],
   "source": [
    "A = 5\n",
    "A"
   ]
  },
  {
   "cell_type": "code",
   "execution_count": null,
   "metadata": {},
   "outputs": [],
   "source": [
    "B = 2\n",
    "B"
   ]
  },
  {
   "cell_type": "code",
   "execution_count": null,
   "metadata": {},
   "outputs": [],
   "source": [
    "A * B"
   ]
  },
  {
   "cell_type": "code",
   "execution_count": null,
   "metadata": {},
   "outputs": [],
   "source": [
    "A + B"
   ]
  },
  {
   "cell_type": "code",
   "execution_count": null,
   "metadata": {},
   "outputs": [],
   "source": [
    "A = B"
   ]
  },
  {
   "cell_type": "code",
   "execution_count": null,
   "metadata": {},
   "outputs": [],
   "source": [
    "A"
   ]
  },
  {
   "cell_type": "code",
   "execution_count": null,
   "metadata": {},
   "outputs": [],
   "source": [
    "B"
   ]
  },
  {
   "cell_type": "code",
   "execution_count": null,
   "metadata": {},
   "outputs": [],
   "source": []
  },
  {
   "cell_type": "markdown",
   "metadata": {},
   "source": [
    "# 2.3 Defining Functions <a name=\"functions\">"
   ]
  },
  {
   "cell_type": "markdown",
   "metadata": {},
   "source": [
    "The syntax to define python functions is \n",
    "```\n",
    "def NAME_OF_FUNCTION(INPUT_1, INPUT_2, etc):\n",
    "    return OUTPUT_1, OUTPUT_2, etc\n",
    "```\n",
    "(`def` is short for define) \n",
    "\n",
    "You call a function by simply writing \n",
    "\n",
    "```\n",
    "NAME_OF_FUNCTION(INPUT_1, INPUT_2, etc)\n",
    "```\n",
    "\n",
    "You should think of this whole statement being replaced by the outputs. \n",
    "\n",
    "**Note that all the code under the def stament is indented. This is how python knows what goes in the definition versus outside. This will hold for other blocks of code like for loops etc.**"
   ]
  },
  {
   "cell_type": "markdown",
   "metadata": {},
   "source": [
    "Define a function called `squared` that takes a number $x$ as an input and outputs $x^2$"
   ]
  },
  {
   "cell_type": "code",
   "execution_count": null,
   "metadata": {},
   "outputs": [],
   "source": []
  },
  {
   "cell_type": "markdown",
   "metadata": {},
   "source": [
    "Test it out by executing the cell below. "
   ]
  },
  {
   "cell_type": "code",
   "execution_count": null,
   "metadata": {},
   "outputs": [],
   "source": [
    "squared(2)"
   ]
  },
  {
   "cell_type": "markdown",
   "metadata": {},
   "source": [
    "Define a function called `math_widget` that takes three numbers as inputs `x`, `y`, `z` and returns $x^2 + y^z$"
   ]
  },
  {
   "cell_type": "code",
   "execution_count": null,
   "metadata": {},
   "outputs": [],
   "source": []
  },
  {
   "cell_type": "markdown",
   "metadata": {},
   "source": [
    "Test it out in the cell below and see if it gievs you the correct answer"
   ]
  },
  {
   "cell_type": "markdown",
   "metadata": {},
   "source": [
    "If you didn't already, rewrite the function `math_widget` using the function `squared`"
   ]
  },
  {
   "cell_type": "code",
   "execution_count": null,
   "metadata": {},
   "outputs": [],
   "source": []
  },
  {
   "cell_type": "markdown",
   "metadata": {},
   "source": [
    "## Functions with keyword arguments\n",
    "\n",
    "Typically we want the ability to set some defaults for function inputs. This can be accomplished using keyword arguments\n",
    "\n",
    "```\n",
    "def NAME_OF_FUNCTION(INPUT_1, INPUT_2, KW_1 = VALUE_1, KW_2 = VALUE_2):\n",
    "    return OUTPUT_1, OUTPUT_2, etc\n",
    "```\n"
   ]
  },
  {
   "cell_type": "code",
   "execution_count": 7,
   "metadata": {},
   "outputs": [],
   "source": [
    "def powerer(x, n=2):\n",
    "    return(x**n)"
   ]
  },
  {
   "cell_type": "code",
   "execution_count": 8,
   "metadata": {},
   "outputs": [
    {
     "data": {
      "text/plain": [
       "16"
      ]
     },
     "execution_count": 8,
     "metadata": {},
     "output_type": "execute_result"
    }
   ],
   "source": [
    "powerer(4)"
   ]
  },
  {
   "cell_type": "code",
   "execution_count": 9,
   "metadata": {},
   "outputs": [
    {
     "data": {
      "text/plain": [
       "64"
      ]
     },
     "execution_count": 9,
     "metadata": {},
     "output_type": "execute_result"
    }
   ],
   "source": [
    "powerer(4, n=3)"
   ]
  },
  {
   "cell_type": "markdown",
   "metadata": {},
   "source": [
    "# 2.4 Control syntax (True/False variables and `if` statements) <a name=\"control\">"
   ]
  },
  {
   "cell_type": "markdown",
   "metadata": {},
   "source": [
    "To check if the squared function works we could have written..."
   ]
  },
  {
   "cell_type": "code",
   "execution_count": null,
   "metadata": {},
   "outputs": [],
   "source": [
    "squared(2) == 4"
   ]
  },
  {
   "cell_type": "markdown",
   "metadata": {},
   "source": [
    "`A == B` tests if `A` and `B` are equivalent and returns a Boolean valriable (`True` or `False`). You can also compare numbers using `>`, `>=`, `<`, `<=`."
   ]
  },
  {
   "cell_type": "markdown",
   "metadata": {},
   "source": [
    "We can use this to create flow controls that check if something is true before continuing."
   ]
  },
  {
   "cell_type": "code",
   "execution_count": null,
   "metadata": {},
   "outputs": [],
   "source": [
    "if squared(4) == 16:\n",
    "    print(\"Eureka!\")\n",
    "else: #executes if the above are not true\n",
    "    print(\"Uh oh\")"
   ]
  },
  {
   "cell_type": "markdown",
   "metadata": {},
   "source": [
    "Try editing your definition of squared and see what happens to the output of the above cell."
   ]
  },
  {
   "cell_type": "markdown",
   "metadata": {},
   "source": [
    "defining another function called `add_two`:"
   ]
  },
  {
   "cell_type": "code",
   "execution_count": null,
   "metadata": {},
   "outputs": [],
   "source": [
    "def add_two(x):\n",
    "    return(x + 2)"
   ]
  },
  {
   "cell_type": "markdown",
   "metadata": {},
   "source": [
    "We can make multicase if statements that check a few things before going to `else`. Try changing the value of `mystery_function`."
   ]
  },
  {
   "cell_type": "code",
   "execution_count": null,
   "metadata": {},
   "outputs": [],
   "source": [
    "mystery_function = squared\n",
    "\n",
    "if mystery_function(4) == 16:\n",
    "    print(\"I'm a squarer!\")\n",
    "elif mystery_function(4) == 6:\n",
    "    print(\"I'm an add-by-twoer!\")\n",
    "else: #executes if the above are not true\n",
    "    print(\"Uh oh\")"
   ]
  },
  {
   "cell_type": "markdown",
   "metadata": {},
   "source": [
    "### `if` exercises <a name=\"if\">"
   ]
  },
  {
   "cell_type": "code",
   "execution_count": null,
   "metadata": {},
   "outputs": [],
   "source": [
    "# PROBLEM\n",
    "# Write a script below that prints \"even\" if `a` is even and \"odd\" if it is odd. \n",
    "# Hint: use the modulo operator %\n",
    "\n",
    "a = 5\n",
    "\n",
    "\n",
    "\n",
    "\n",
    "\n"
   ]
  },
  {
   "cell_type": "code",
   "execution_count": null,
   "metadata": {},
   "outputs": [],
   "source": [
    "# PROBLEM\n",
    "# Write a Python program to print the mean & median of three given numbers, `a`, `b`, `c`. \n",
    "# Have it print the output nicely using f-strings. \n",
    "\n",
    "\n",
    "a = 3\n",
    "b = 7\n",
    "c = 4\n",
    "\n",
    "\n",
    "\n"
   ]
  },
  {
   "cell_type": "markdown",
   "metadata": {},
   "source": [
    "##  `min_of_two`, `min_of_three`"
   ]
  },
  {
   "cell_type": "markdown",
   "metadata": {},
   "source": [
    "create a function called `min_of_two` that takes two numbers as inputs and returns the minimum of the two. (Hint: there can be multiple `return` statements)"
   ]
  },
  {
   "cell_type": "code",
   "execution_count": null,
   "metadata": {},
   "outputs": [],
   "source": []
  },
  {
   "cell_type": "markdown",
   "metadata": {},
   "source": [
    "test it out below"
   ]
  },
  {
   "cell_type": "code",
   "execution_count": null,
   "metadata": {},
   "outputs": [],
   "source": []
  },
  {
   "cell_type": "markdown",
   "metadata": {},
   "source": [
    "create a function called `min_of_three` that takes three numbers as inputs and returns the minimum of the three. (Hint: there can be multiple `return` statements). Depending on your algorithm you may want to use `min_of_two`"
   ]
  },
  {
   "cell_type": "code",
   "execution_count": null,
   "metadata": {},
   "outputs": [],
   "source": []
  },
  {
   "cell_type": "markdown",
   "metadata": {},
   "source": [
    "test it out below"
   ]
  },
  {
   "cell_type": "code",
   "execution_count": null,
   "metadata": {},
   "outputs": [],
   "source": []
  },
  {
   "cell_type": "markdown",
   "metadata": {},
   "source": [
    "## A recursive function: `factorial`"
   ]
  },
  {
   "cell_type": "markdown",
   "metadata": {},
   "source": [
    "First we'd like to come up with a recursive algorithm for a factorial ($n! = n \\cdot n-1 \\cdot n-2 \\cdot ... \\cdot 2 \\cdot 1$). "
   ]
  },
  {
   "cell_type": "markdown",
   "metadata": {},
   "source": [
    "Implement a funtion that takes one number `n` and calculates its factorial called `factorial`"
   ]
  },
  {
   "cell_type": "code",
   "execution_count": null,
   "metadata": {},
   "outputs": [],
   "source": []
  },
  {
   "cell_type": "markdown",
   "metadata": {},
   "source": [
    "try it out below"
   ]
  },
  {
   "cell_type": "code",
   "execution_count": null,
   "metadata": {},
   "outputs": [],
   "source": []
  },
  {
   "cell_type": "markdown",
   "metadata": {},
   "source": [
    "What happens if you make n large?"
   ]
  },
  {
   "cell_type": "markdown",
   "metadata": {},
   "source": []
  },
  {
   "cell_type": "markdown",
   "metadata": {},
   "source": [
    "What happens if you don't put in an integer?"
   ]
  },
  {
   "cell_type": "markdown",
   "metadata": {},
   "source": []
  },
  {
   "cell_type": "markdown",
   "metadata": {},
   "source": [
    "# 2.5 Lists in python <a name=\"lists\">\n",
    "\n",
    "Lists are one type of collection in python. They can contain multiple objects that are "
   ]
  },
  {
   "cell_type": "markdown",
   "metadata": {},
   "source": [
    "## Defining lists"
   ]
  },
  {
   "cell_type": "markdown",
   "metadata": {},
   "source": [
    "Lists can be declared just as you see them above, as a set of numbers surrounded by `[` and `]` and seperated by `'`. "
   ]
  },
  {
   "cell_type": "code",
   "execution_count": null,
   "metadata": {},
   "outputs": [],
   "source": [
    "A = [2, 4, 7]"
   ]
  },
  {
   "cell_type": "markdown",
   "metadata": {},
   "source": [
    "They can also be generated using functions like `range`"
   ]
  },
  {
   "cell_type": "code",
   "execution_count": null,
   "metadata": {},
   "outputs": [],
   "source": [
    "B = range(5) \n",
    "# b = [0, 1, 2, 3, 4]"
   ]
  },
  {
   "cell_type": "code",
   "execution_count": null,
   "metadata": {},
   "outputs": [],
   "source": [
    "C = range(4, 10)\n",
    "# c = [4 , 5, 6, 7, 8, 9]"
   ]
  },
  {
   "cell_type": "markdown",
   "metadata": {},
   "source": [
    "If you want a list of numbers that uses a specific step size:"
   ]
  },
  {
   "cell_type": "code",
   "execution_count": null,
   "metadata": {},
   "outputs": [],
   "source": [
    "D = np.arange(0, 10, .1)"
   ]
  },
  {
   "cell_type": "code",
   "execution_count": null,
   "metadata": {},
   "outputs": [],
   "source": [
    "D"
   ]
  },
  {
   "cell_type": "markdown",
   "metadata": {},
   "source": [
    "To add an item to a list you can use the `.append()` function on the list you want to add to"
   ]
  },
  {
   "cell_type": "code",
   "execution_count": null,
   "metadata": {},
   "outputs": [],
   "source": [
    "A.append(20)"
   ]
  },
  {
   "cell_type": "code",
   "execution_count": null,
   "metadata": {},
   "outputs": [],
   "source": [
    "A"
   ]
  },
  {
   "cell_type": "markdown",
   "metadata": {},
   "source": [
    "## Accessing lists"
   ]
  },
  {
   "cell_type": "markdown",
   "metadata": {},
   "source": [
    "To access an element of a list you use `a[x]` where x is the index of the item you want (starting with 0)"
   ]
  },
  {
   "cell_type": "code",
   "execution_count": null,
   "metadata": {},
   "outputs": [],
   "source": [
    "A[0]"
   ]
  },
  {
   "cell_type": "code",
   "execution_count": null,
   "metadata": {},
   "outputs": [],
   "source": [
    "B[4]"
   ]
  },
  {
   "cell_type": "markdown",
   "metadata": {},
   "source": [
    "You can also index starting from the end of the list using negative numbers (-1 would be the last item, -2 second to last, etc.)"
   ]
  },
  {
   "cell_type": "code",
   "execution_count": null,
   "metadata": {},
   "outputs": [],
   "source": [
    "C[-1]"
   ]
  },
  {
   "cell_type": "code",
   "execution_count": null,
   "metadata": {},
   "outputs": [],
   "source": [
    "A[-2]"
   ]
  },
  {
   "cell_type": "markdown",
   "metadata": {},
   "source": [
    "python also has the ability to return a range of items in a list with the slice notation `a[start:end]`"
   ]
  },
  {
   "cell_type": "code",
   "execution_count": null,
   "metadata": {},
   "outputs": [],
   "source": [
    "messy_list[1:5] # returns 2nd through 5th elements of the list"
   ]
  },
  {
   "cell_type": "markdown",
   "metadata": {},
   "source": [
    "To go through the end you simply leave off `end`"
   ]
  },
  {
   "cell_type": "code",
   "execution_count": null,
   "metadata": {},
   "outputs": [],
   "source": [
    "messy_list[1:]"
   ]
  },
  {
   "cell_type": "markdown",
   "metadata": {},
   "source": [
    "To calculate the length of a list simply use the function `len`"
   ]
  },
  {
   "cell_type": "code",
   "execution_count": null,
   "metadata": {},
   "outputs": [],
   "source": [
    "len(A)"
   ]
  },
  {
   "cell_type": "code",
   "execution_count": null,
   "metadata": {},
   "outputs": [],
   "source": [
    "len(C)"
   ]
  },
  {
   "cell_type": "markdown",
   "metadata": {},
   "source": [
    "## Modifying lists"
   ]
  },
  {
   "cell_type": "code",
   "execution_count": null,
   "metadata": {},
   "outputs": [],
   "source": [
    "P = [3, 7, 20, 14, 8, 9]\n",
    "P"
   ]
  },
  {
   "cell_type": "markdown",
   "metadata": {},
   "source": [
    "To change the value of an element of a list you can simply index the lement and use `=`"
   ]
  },
  {
   "cell_type": "code",
   "execution_count": null,
   "metadata": {},
   "outputs": [],
   "source": [
    "P[3] = 1000\n",
    "P"
   ]
  },
  {
   "cell_type": "markdown",
   "metadata": {},
   "source": [
    "You can also glue to lists together by using addition `A + B`"
   ]
  },
  {
   "cell_type": "code",
   "execution_count": null,
   "metadata": {},
   "outputs": [],
   "source": [
    "Q = [75, 84, 100]\n",
    "Q"
   ]
  },
  {
   "cell_type": "code",
   "execution_count": null,
   "metadata": {},
   "outputs": [],
   "source": [
    "P + Q"
   ]
  },
  {
   "cell_type": "markdown",
   "metadata": {},
   "source": [
    "You can also change a number of elements at the same time by setting a slice of the list to another list"
   ]
  },
  {
   "cell_type": "code",
   "execution_count": null,
   "metadata": {},
   "outputs": [],
   "source": [
    "P[4:] = [10, 11]\n",
    "P"
   ]
  },
  {
   "cell_type": "markdown",
   "metadata": {},
   "source": [
    "If you just want to add one element `x` to an existing list you can also use the command `A.append(x)`. This is what is called a mutuating function that this modifes the original list p."
   ]
  },
  {
   "cell_type": "code",
   "execution_count": null,
   "metadata": {},
   "outputs": [],
   "source": [
    "P.append(777)\n",
    "P"
   ]
  },
  {
   "cell_type": "markdown",
   "metadata": {},
   "source": [
    "`A.insert(i,x)` inserts a value `x` before index `0`. It also modifies `A` in place"
   ]
  },
  {
   "cell_type": "code",
   "execution_count": null,
   "metadata": {},
   "outputs": [],
   "source": [
    "P.insert(1, 100000)\n",
    "P"
   ]
  },
  {
   "cell_type": "markdown",
   "metadata": {},
   "source": [
    "`A.pop(i)` pops the value at index i out of the list and returns it"
   ]
  },
  {
   "cell_type": "code",
   "execution_count": null,
   "metadata": {},
   "outputs": [],
   "source": [
    "P"
   ]
  },
  {
   "cell_type": "code",
   "execution_count": null,
   "metadata": {},
   "outputs": [],
   "source": [
    "val = P.pop(3)"
   ]
  },
  {
   "cell_type": "code",
   "execution_count": null,
   "metadata": {},
   "outputs": [],
   "source": [
    "P"
   ]
  },
  {
   "cell_type": "code",
   "execution_count": null,
   "metadata": {},
   "outputs": [],
   "source": [
    "val"
   ]
  },
  {
   "cell_type": "markdown",
   "metadata": {},
   "source": [
    "## `move_to_front` "
   ]
  },
  {
   "cell_type": "markdown",
   "metadata": {},
   "source": [
    "Now, we'd like to write a function called `move_to_front` that takes in a list `A` and an index `i` and returns a new list where the value at `i` has been moved to the beginning. "
   ]
  },
  {
   "cell_type": "code",
   "execution_count": null,
   "metadata": {},
   "outputs": [],
   "source": []
  },
  {
   "cell_type": "code",
   "execution_count": null,
   "metadata": {},
   "outputs": [],
   "source": [
    "messy_list_3 = make_messy_list(LEN, LIM)\n",
    "messy_list_3"
   ]
  },
  {
   "cell_type": "code",
   "execution_count": null,
   "metadata": {},
   "outputs": [],
   "source": [
    "move_to_j(messy_list_3, 1, 4)"
   ]
  },
  {
   "cell_type": "markdown",
   "metadata": {},
   "source": [
    "# 2.6 Loops (`for`, `while`) <a name=\"loops\">"
   ]
  },
  {
   "cell_type": "markdown",
   "metadata": {},
   "source": [
    "Loops in python are handled with the syntax \n",
    "\n",
    "```\n",
    "for i in SOME_LIST:\n",
    "    SOME_CODE_THAT_USES_i\n",
    "```\n",
    "\n",
    "the code `SOME_CODE_THAT_USES_i` runs over and over where`i` sequentially takes on the values in `SOME_LIST` . \n",
    "\n",
    "Here's an example that adds the elements of a list `S`"
   ]
  },
  {
   "cell_type": "code",
   "execution_count": null,
   "metadata": {},
   "outputs": [],
   "source": [
    "S = [12, 20, 40]\n",
    "\n",
    "total = 0\n",
    "for i in S:\n",
    "    total = total + i\n",
    "\n",
    "total"
   ]
  },
  {
   "cell_type": "markdown",
   "metadata": {},
   "source": [
    "very often you just want `i` to run through a series of integers sequentially starting with 0, in that case `SOME_LIST` would be `range(NUMBER_OF_ITERATIONS)`. See if you can write a loop that takes a list R and halves each of the elements. "
   ]
  },
  {
   "cell_type": "code",
   "execution_count": null,
   "metadata": {},
   "outputs": [],
   "source": [
    "R = [25, 42, 78]\n"
   ]
  },
  {
   "cell_type": "code",
   "execution_count": null,
   "metadata": {},
   "outputs": [],
   "source": []
  },
  {
   "cell_type": "markdown",
   "metadata": {},
   "source": [
    "### `for` loop exercises <a name=\"for\">"
   ]
  },
  {
   "cell_type": "code",
   "execution_count": null,
   "metadata": {},
   "outputs": [],
   "source": [
    "# EXERCISE \n",
    "# Write a Python program to print each element of the list and how often it appears\n",
    "# Hint: lists have methods of counting counting the number of items. Think about how sets might help you here.  \n",
    "\n",
    "r = [1, 5, 7, 1, 3, 5, 7]\n",
    "\n",
    "\n",
    "\n",
    "\n"
   ]
  },
  {
   "cell_type": "code",
   "execution_count": null,
   "metadata": {},
   "outputs": [],
   "source": [
    "# EXERCISE \n",
    "# Use list comprehension syntax to construct a list that squares each element of the list `nums` below\n",
    "\n",
    "nums = [-2.4, 1.2, 5.7, -5, 4.3]\n",
    "\n"
   ]
  },
  {
   "cell_type": "code",
   "execution_count": null,
   "metadata": {},
   "outputs": [],
   "source": [
    "# EXERCISE \n",
    "# Use list comprehension syntax with if to construct a list that squares each positive element of the list `nums` below\n",
    "# and ignores all negative items\n",
    "\n",
    "nums = [-2.4, 1.2, 5.7, -5, 4.3]\n",
    "\n"
   ]
  },
  {
   "cell_type": "code",
   "execution_count": null,
   "metadata": {},
   "outputs": [],
   "source": [
    "# PROBLEM \n",
    "# Write a Python program to print the mean, median, and mode of a list `nums` of arbitrary length.\n",
    "# Have it print the output nicely using f-strings. \n",
    "\n",
    "nums = [1, 1, 3, 5.7, 7, 8.3, 4.6, 5] \n",
    "\n",
    "\n",
    "\n",
    "\n"
   ]
  },
  {
   "cell_type": "markdown",
   "metadata": {},
   "source": [
    "### `while` loop exerscises <a name=\"while\">"
   ]
  },
  {
   "cell_type": "code",
   "execution_count": null,
   "metadata": {},
   "outputs": [],
   "source": [
    "# PROBLEM \n",
    "# Write a while loop that spits out Fibonacci sequence up until 100. \n",
    "\n",
    "\n",
    "\n",
    "\n",
    "\n",
    "\n"
   ]
  },
  {
   "cell_type": "markdown",
   "metadata": {},
   "source": [
    "## 2.7 Accessing packages <a name=\"packages\">\n",
    "\n",
    "You can acess packages using \n",
    "* `import...`: to import a package under its original name \n",
    "* `import...as...`: to importpackage under a new name\n",
    "* `from...import...`: to import particular functions from a package into your namespace without importing the whole package. \n",
    "\n",
    "Technically, there is one more way but the Python community will be very, very angry with you if you do this (and you **don't** want to see the Python community get angry).\n",
    "\n",
    "* `from...import *` to import all functions from a package into your namespace.\n",
    "    \n",
    "The Python distribution comes with a lot of submoidules. To get used to accessing packages and looking things up we'll play with two."
   ]
  },
  {
   "cell_type": "markdown",
   "metadata": {},
   "source": [
    "## 2.4.1 e.g. itertools <a name=\"itertools\">\n",
    "\n",
    "This is a package for common tasks one enounters when they want to iterate over a collection of objects. "
   ]
  },
  {
   "cell_type": "code",
   "execution_count": null,
   "metadata": {},
   "outputs": [],
   "source": [
    "# EXERCISE \n",
    "# Find a function in the itertools package that allows you to iterate over every combination of one element in `A` and one in `B` \n",
    "# (e.g. (1, 'y')). Import it and use list comprehension to construct a list of all combinations.\n",
    "\n",
    "A = [1, 2, 3]\n",
    "B = ['x', 'y', 'z']\n",
    "\n",
    "\n",
    "\n",
    "\n",
    "\n"
   ]
  },
  {
   "cell_type": "markdown",
   "metadata": {},
   "source": [
    "## 2.8 Introduction to `numpy` <a name=\"numpy\">\n",
    "    \n",
    "`numpy` is the heart of using python for fast, efficient data processing. Python has many advantages, but it was not optimized for data manipulation - instead it was optimized for ease of use and flexiblity. Specifically, the way that python stores sets is not efficient for computations. Each element of a list is really a \"pointer\" to a memeory location that contains the object in question. These locations could be all over the place so as you can imagine if you need to conduct operations that require manipulating many elements at the same time this will be very slow as the program must constantly search all over memory to complete the task. \n",
    "    \n",
    "`numpy` introduces the notion of an `array` which stores elements sequentially in memory for fast processing. These arrays are typically numbers but they can contain any other type of python object and even custom types (see [dtype section](#dtype)). Furthermore, these arrays can be _multidimensional_ (e.g. 2D like a matrix, 3D etc.) \n",
    "    \n",
    "In addition to `arrays` numpy comes with efficient versions of many basic mathematical expressions (i.e. `np.cos`, `np.exp`, etc.) and constants (`np.pi` and `np.e`)\n",
    "    \n",
    "    \n",
    "Much of what is below comes from existing websites\n",
    "* [Numpy Beginners Tutorial](https://numpy.org/doc/stable/user/absolute_beginners.html)\n",
    "* [Numpy Tutorial on Linear Algebra](https://numpy.org/doc/stable/user/tutorial-svd.html)\n",
    "    \n",
    "If you are familiar with MatLab you may want to look at [NumPy for MatLab users](https://numpy.org/doc/stable/user/numpy-for-matlab-users.html).\n",
    "    \n",
    "Typically when numpy is imported it is renamed `np` so that you aren't stuck typing `numpy` every time you want to do anything."
   ]
  },
  {
   "cell_type": "code",
   "execution_count": null,
   "metadata": {},
   "outputs": [],
   "source": [
    "# Let's go!\n",
    "\n",
    "import numpy as np"
   ]
  },
  {
   "cell_type": "markdown",
   "metadata": {},
   "source": [
    "### Creating `numpy` arrays <a name=\"create-arrays\">\n",
    "    \n",
    "There are many ways to create numpy arrays:\n",
    "* `np.array(.)` \n",
    "* `np.zeros(.)` \n",
    "* `np.ones(.)`\n",
    "* `np.full(.)`\n",
    "* `np.empty(.)` \n",
    "* `np.arange(.)`\n",
    "* `np.linspace(.)`\n",
    "    \n",
    "`np.array(.)` converts another list object to an array"
   ]
  },
  {
   "cell_type": "code",
   "execution_count": null,
   "metadata": {},
   "outputs": [],
   "source": [
    "# Creating an array from a list\n",
    "\n",
    "a = np.array([1, 2, 3, 4, 5, 6])\n",
    "a"
   ]
  },
  {
   "cell_type": "code",
   "execution_count": null,
   "metadata": {},
   "outputs": [],
   "source": [
    "# They can be indexed just like lists\n",
    "\n",
    "print(a[0:4])\n",
    "print(a[-1])"
   ]
  },
  {
   "cell_type": "markdown",
   "metadata": {},
   "source": [
    "They can also be indexed in really useful ways that lists can't. For example, if you wanted to spit out the 1st, 3rd, and 4th elements of a list you might try"
   ]
  },
  {
   "cell_type": "code",
   "execution_count": null,
   "metadata": {},
   "outputs": [],
   "source": [
    "# Oops\n",
    "\n",
    "a = [10,20,30,40,50]\n",
    "a[[1,3,4]]"
   ]
  },
  {
   "cell_type": "code",
   "execution_count": null,
   "metadata": {},
   "outputs": [],
   "source": [
    "# But if you make `a` an array....\n",
    "\n",
    "a = np.array([10,20,30,40,50])\n",
    "a[[1,3,4]]"
   ]
  },
  {
   "cell_type": "markdown",
   "metadata": {},
   "source": [
    "The `==` operator also acts _on each element_ of the array **and** the array subscripting allows a Boolean list of equal length to be used. Putting these two facts together you can subselect elements of the array using conditions. "
   ]
  },
  {
   "cell_type": "code",
   "execution_count": null,
   "metadata": {},
   "outputs": [],
   "source": [
    "print(a > 20)\n",
    "print(a[a>20])"
   ]
  },
  {
   "cell_type": "markdown",
   "metadata": {},
   "source": [
    "If you want to know is _any_ elements of the array or _all_ elements of the array meet a critera use the `.any()` or `.all()` methods. "
   ]
  },
  {
   "cell_type": "code",
   "execution_count": null,
   "metadata": {},
   "outputs": [],
   "source": [
    "print((a > 20).any())\n",
    "print((a > 20).all())"
   ]
  },
  {
   "cell_type": "code",
   "execution_count": null,
   "metadata": {},
   "outputs": [],
   "source": [
    "# You can use a list of lists to create a multidimensional array\n",
    "# NOTE: each of the sub-lists MUST be the same length.\n",
    "\n",
    "a = np.array([[1, 2, 3], [10, 12, 13]])\n",
    "a"
   ]
  },
  {
   "cell_type": "code",
   "execution_count": null,
   "metadata": {},
   "outputs": [],
   "source": [
    "# Indexing uses two coordinates ARRAY[ROW, COL]\n",
    "# can also ask numpy to spit out an entire row or column using `:`\n",
    "\n",
    "print(a[0,1])\n",
    "print(a[1,:])\n",
    "print(a[:,2])"
   ]
  },
  {
   "cell_type": "markdown",
   "metadata": {},
   "source": [
    "`np.ones(.)`, `np.zeros(.)`, `np.empty(.)` take a number or a tuple to create an element "
   ]
  },
  {
   "cell_type": "code",
   "execution_count": null,
   "metadata": {},
   "outputs": [],
   "source": [
    "# ones and zeros do exactly what you might expect\n",
    "np.ones(6)"
   ]
  },
  {
   "cell_type": "code",
   "execution_count": null,
   "metadata": {},
   "outputs": [],
   "source": [
    "np.ones((3,2))"
   ]
  },
  {
   "cell_type": "markdown",
   "metadata": {},
   "source": [
    "`np.empty(.)` is a bit more subtle. Use this command if you know you'll be replacing the elements. It just crates an array without clearning memory so the numbers a garbage. It's faster than the other operations. "
   ]
  },
  {
   "cell_type": "code",
   "execution_count": null,
   "metadata": {},
   "outputs": [],
   "source": [
    "np.empty(10)"
   ]
  },
  {
   "cell_type": "markdown",
   "metadata": {},
   "source": [
    "`np.full(., .)` creates arrays filled with a specific values. "
   ]
  },
  {
   "cell_type": "code",
   "execution_count": null,
   "metadata": {},
   "outputs": [],
   "source": [
    "np.full(10, 3.14)"
   ]
  },
  {
   "cell_type": "code",
   "execution_count": null,
   "metadata": {},
   "outputs": [],
   "source": [
    "# All of these functions have a function_like version. Use jupyter's `Shift+TAB` or `Contextual Help` fratures to figure out what they do. \n",
    "\n",
    "np.??????"
   ]
  },
  {
   "cell_type": "markdown",
   "metadata": {},
   "source": [
    "You can also generate sequential numbers one of two ways: `np.arange(.)`, `np.linspace(.)`. `np.arange(.)` works just like range but it creates a numpy array. Just like range the initial number is inlcuded but final number is not. "
   ]
  },
  {
   "cell_type": "code",
   "execution_count": null,
   "metadata": {},
   "outputs": [],
   "source": [
    "# np.arange(START, STOP, STEP)\n",
    "\n",
    "np.arange(1,15,1)"
   ]
  },
  {
   "cell_type": "code",
   "execution_count": null,
   "metadata": {},
   "outputs": [],
   "source": [
    "np.arange(1,15,2)"
   ]
  },
  {
   "cell_type": "markdown",
   "metadata": {},
   "source": [
    "`np.linspace(START, END, LENGTH)` is similar but you specify how long you'd like the array to be with the third argument. Also note that the linspace command creates an array that **includes** the initial and final values. "
   ]
  },
  {
   "cell_type": "code",
   "execution_count": null,
   "metadata": {},
   "outputs": [],
   "source": [
    "np.linspace(1, 15, 100)"
   ]
  },
  {
   "cell_type": "markdown",
   "metadata": {},
   "source": [
    "`numpy`'s random subpackage also includes ways of creating arrays with random values. \n",
    "\n",
    "* `np.random.rand(SHAPE)`: create an array of numbers randomly drawn from the uniform distribution between 0 and 1\n",
    "* `np.radom.normal(MEAN, STD, SIZE)`: create an array of numbers ranomdly drawn from the normal distribution with mean = MEAN and standard deviation = STD"
   ]
  },
  {
   "cell_type": "code",
   "execution_count": null,
   "metadata": {},
   "outputs": [],
   "source": [
    "np.random.rand(10)"
   ]
  },
  {
   "cell_type": "code",
   "execution_count": null,
   "metadata": {},
   "outputs": [],
   "source": [
    "np.random.normal(1, 1, 10)"
   ]
  },
  {
   "cell_type": "code",
   "execution_count": null,
   "metadata": {},
   "outputs": [],
   "source": [
    "# EXERCISE\n",
    "# Create some arrays and use the Boolean subscripting (e.g. a[a >20]) to select elements of the array. \n",
    "\n",
    "\n",
    "\n",
    "\n"
   ]
  },
  {
   "cell_type": "markdown",
   "metadata": {},
   "source": [
    "### Basic operations with numbers <a name=\"numbers\">\n",
    "    \n",
    "You can do standard arithmatic with numbers and arrays (`+`, `*`, etc.). This applies the operation pointwise across each element of the array "
   ]
  },
  {
   "cell_type": "code",
   "execution_count": null,
   "metadata": {},
   "outputs": [],
   "source": [
    "10*np.arange(1,10)"
   ]
  },
  {
   "cell_type": "code",
   "execution_count": null,
   "metadata": {},
   "outputs": [],
   "source": [
    "10*np.arange(1,10) + 1"
   ]
  },
  {
   "cell_type": "markdown",
   "metadata": {},
   "source": [
    "You can apply any function you want across an array. "
   ]
  },
  {
   "cell_type": "code",
   "execution_count": null,
   "metadata": {},
   "outputs": [],
   "source": [
    "def squareer(x):\n",
    "    return x**2\n",
    "\n",
    "a = np.arange(1,100)\n",
    "squareer(a)"
   ]
  },
  {
   "cell_type": "markdown",
   "metadata": {},
   "source": [
    "### Array properties and dtype <a name=\"dtype\">"
   ]
  },
  {
   "cell_type": "markdown",
   "metadata": {},
   "source": [
    "To find the shape and number of dimensions of an array you can use the `ARRAY.shape` and `ARRAY.ndim` variables. "
   ]
  },
  {
   "cell_type": "code",
   "execution_count": null,
   "metadata": {},
   "outputs": [],
   "source": [
    "a = np.empty((10,5))\n",
    "\n",
    "print(a.shape)\n",
    "print(a.ndim)"
   ]
  },
  {
   "cell_type": "markdown",
   "metadata": {},
   "source": [
    "In order to store arrays efficiently, numpy needs to know something about what type of data is in an array. This is called the array's `dtype`. To access an array's dtype use the `ARRAY.dtype` variable. "
   ]
  },
  {
   "cell_type": "code",
   "execution_count": null,
   "metadata": {},
   "outputs": [],
   "source": [
    "a.dtype"
   ]
  },
  {
   "cell_type": "code",
   "execution_count": null,
   "metadata": {},
   "outputs": [],
   "source": [
    "# EXERCISE\n",
    "# Try to interpret the number in the dtype for the array below\n",
    "\n",
    "np.array(['hi', 'there'])"
   ]
  },
  {
   "cell_type": "markdown",
   "metadata": {},
   "source": [
    "### Manuplulating arrays <a name=\"manipulating\">\n",
    "    \n",
    "Numpy provides **a lot** of ways to manipulate arrays. [Check out the API reference here.](https://numpy.org/devdocs/reference/routines.array-manipulation.html) Here we will only look at a few key ones\n",
    "    \n",
    "* `ARRAY.reshape(a, newshape)`, `ARRAY.flatten(.)`, `np.transpose(a)`\n",
    "* `np.concatenate(.)`, `np.hstack(.)`, `np.c_`, `np.vstack(.)`, `np.r_`, `np.split(.)`\n",
    "* `ARRAY.sort(.)`, `ARRAY.argsort(.)`, `ARRAY.searchsorted(.)`"
   ]
  },
  {
   "cell_type": "code",
   "execution_count": null,
   "metadata": {},
   "outputs": [],
   "source": [
    "a = np.arange(0,10)\n",
    "a"
   ]
  },
  {
   "cell_type": "code",
   "execution_count": null,
   "metadata": {},
   "outputs": [],
   "source": [
    "b = a.reshape((5,2))\n",
    "b"
   ]
  },
  {
   "cell_type": "code",
   "execution_count": null,
   "metadata": {},
   "outputs": [],
   "source": [
    "c = b.reshape((2,5))\n",
    "c"
   ]
  },
  {
   "cell_type": "markdown",
   "metadata": {},
   "source": [
    "If you want to \"flatten\" a multidimensional array to a 1D array can use `ARRAY.reshape(-1)` or `ARRAY.flatten()`"
   ]
  },
  {
   "cell_type": "code",
   "execution_count": null,
   "metadata": {},
   "outputs": [],
   "source": [
    "print(f\"flatten\\n{c.flatten()}\\n\")\n",
    "print(f\"reshape\\n{c.reshape(-1)}\\n\")"
   ]
  },
  {
   "cell_type": "code",
   "execution_count": null,
   "metadata": {},
   "outputs": [],
   "source": [
    "# np.concatenate, np.vstack and np.r_ all allow you to combine arrays \"vertically\" (along axis 0)\n",
    "\n",
    "a = np.ones((3, 2))\n",
    "b = np.ones((3, 2))\n",
    "\n",
    "print(f\"concatenate\\n {np.concatenate([a, b], axis=0)}\\n\")\n",
    "print(f\"hstack\\n{np.vstack([a, b])}\\n\")\n",
    "print(f\"r_\\n{np.r_[a, b]}\\n\")"
   ]
  },
  {
   "cell_type": "code",
   "execution_count": null,
   "metadata": {},
   "outputs": [],
   "source": [
    "# np.concatenate, np.hstack, and np.c_ all allow you to combine arrays \"horizontally\" (along axis 1)\n",
    "\n",
    "a = np.ones((3, 2))\n",
    "b = np.ones((3, 2))\n",
    "\n",
    "print(f\"concatenate\\n {np.concatenate([a, b], axis=1)}\\n\")\n",
    "print(f\"hstack\\n{np.hstack([a, b])}\\n\")\n",
    "print(f\"c_\\n{np.c_[a, b]}\\n\")"
   ]
  },
  {
   "cell_type": "code",
   "execution_count": null,
   "metadata": {},
   "outputs": [],
   "source": [
    "# EXERCISE\n",
    "# Build a 2D array where the first row is the first 10 multiples of 1, \n",
    "# the second is the first 10 multiples of 2, \n",
    "# ..., and the last row is the first 10 multiples of 5. \n",
    "\n",
    "\n",
    "\n",
    "\n",
    "\n",
    "\n",
    "\n",
    "\n"
   ]
  },
  {
   "cell_type": "markdown",
   "metadata": {},
   "source": [
    "To sort arrays use the `ARRAY.sort(ARRAY)`, `ARRAY.argsort(ARRAY)`, `ARRAY.searchsorted(ARRAY, VALUE)` commands. `ARRAY.sort(ARRAY)` **does not return anything**. It simply sorts and resaves a a sorted version of an array (i.e. it acts \"in-place\")"
   ]
  },
  {
   "cell_type": "code",
   "execution_count": null,
   "metadata": {},
   "outputs": [],
   "source": [
    "a = np.array([3, 7, 4, 6, 1, 0, 8, 9, 3])\n",
    "\n",
    "a.sort()\n",
    "a"
   ]
  },
  {
   "cell_type": "markdown",
   "metadata": {},
   "source": [
    "There is a command to ranomly shuffle arrays that operates in the same way. "
   ]
  },
  {
   "cell_type": "code",
   "execution_count": null,
   "metadata": {},
   "outputs": [],
   "source": [
    "# Try re-running this to see that `a` is shuffled differently each time. \n",
    "\n",
    "np.random.shuffle(a)\n",
    "a"
   ]
  },
  {
   "cell_type": "markdown",
   "metadata": {},
   "source": [
    "`np.argsort(ARRAY)` returns a list of indicies that _would_ sort `ARRAY`"
   ]
  },
  {
   "cell_type": "code",
   "execution_count": null,
   "metadata": {},
   "outputs": [],
   "source": [
    "a = 10*np.arange(0,9)\n",
    "np.random.shuffle(a)\n",
    "a"
   ]
  },
  {
   "cell_type": "code",
   "execution_count": null,
   "metadata": {},
   "outputs": [],
   "source": [
    "# EXCERSISE\n",
    "# Using argsort, sort the names accoring to their birth month. \n",
    "\n",
    "names = ['Anne', 'Abel', 'Adam', 'Ali', 'Allison']\n",
    "birth_months = [2, 7, 1, 11, 5]\n",
    "\n",
    "\n",
    "\n"
   ]
  },
  {
   "cell_type": "markdown",
   "metadata": {},
   "source": [
    "### Dealing with NaN <a name=\"NaN\">"
   ]
  },
  {
   "cell_type": "markdown",
   "metadata": {},
   "source": [
    "`numpy` includes functionality for missing data via `np.nan` (Not a number) and extremely large numebrs with `np.Infinity`. Arrays can include these values along with other objects. Numpy also includes many functions for dealing with arrays that have NaNs:\n",
    "\n",
    "* `p.nan_to_num(ARRAY)`: replaces np.nans with 0 and np.Infinity with a large number. (Can change the value with nan= keyword argument)\n",
    "* `np.nanmean(ARRAY)`: mean ignoring nans\n",
    "\n"
   ]
  },
  {
   "cell_type": "code",
   "execution_count": null,
   "metadata": {},
   "outputs": [],
   "source": [
    "a = np.array([1.2, 3.4, np.nan, 10.1])"
   ]
  },
  {
   "cell_type": "code",
   "execution_count": null,
   "metadata": {},
   "outputs": [],
   "source": [
    "np.nan_to_num(a)"
   ]
  },
  {
   "cell_type": "code",
   "execution_count": null,
   "metadata": {},
   "outputs": [],
   "source": [
    "np.nan_to_num(a, nan=100)"
   ]
  },
  {
   "cell_type": "code",
   "execution_count": null,
   "metadata": {},
   "outputs": [],
   "source": [
    "# taking the regular means results in a nan value\n",
    "\n",
    "a.mean()"
   ]
  },
  {
   "cell_type": "code",
   "execution_count": null,
   "metadata": {},
   "outputs": [],
   "source": [
    "# using nanmean ignoes the np.NaN. \n",
    "\n",
    "np.nanmean(a)"
   ]
  },
  {
   "cell_type": "markdown",
   "metadata": {},
   "source": [
    "### 2.5.6 Univerate operations <a name=\"univariate-ops\">"
   ]
  },
  {
   "cell_type": "markdown",
   "metadata": {},
   "source": [
    "Numpy provides a **lot** of functions. Go to [the numpy reference](https://numpy.org/doc/stable/reference/ufuncs.html#available-ufuncs) to see what is available. Most important ones are `np.mean`, `np.sum`, `np.maximum`, `np.minimum`, etc. "
   ]
  },
  {
   "cell_type": "markdown",
   "metadata": {},
   "source": [
    "**EXERCISE**\n",
    "\n",
    "Find the values of \n",
    "\n",
    "$$2\\cos(x/\\pi +3) -5$$\n",
    "\n",
    "for \n",
    "\n",
    "$$ x = 0, .5, 1.0, 1.5, \\dots, 12$$"
   ]
  },
  {
   "cell_type": "code",
   "execution_count": null,
   "metadata": {},
   "outputs": [],
   "source": [
    "\n",
    "\n",
    "\n",
    "\n",
    "\n",
    "\n",
    "\n"
   ]
  },
  {
   "cell_type": "code",
   "execution_count": null,
   "metadata": {},
   "outputs": [],
   "source": [
    "# EXERCISE\n",
    "# Find the maximum value of each column of the array below. Also find the maximum of each row\n",
    "\n",
    "A = np.array([[1, 3, 4, 6, 2],\n",
    "             [ 4, 10, -5, 3, 4], \n",
    "             [-1, 2, 4, 1, 7]])\n",
    "\n",
    "\n",
    "\n",
    "\n",
    "\n",
    "\n",
    "\n"
   ]
  },
  {
   "cell_type": "markdown",
   "metadata": {},
   "source": [
    "### Bivariate operations <a name=\"bivariate-ops\">"
   ]
  },
  {
   "cell_type": "markdown",
   "metadata": {},
   "source": [
    "`numpy` also provides a number of ways to combine arrays. Standard operators like `*` and `+` operate _pointwise_. In other words the two arrays must bethe same size and these operators combine each entry. "
   ]
  },
  {
   "cell_type": "code",
   "execution_count": null,
   "metadata": {},
   "outputs": [],
   "source": [
    "# EXERCISE\n",
    "# Define two 2D arrays of the same size and combine them using pointwise operators\n",
    "\n",
    "\n",
    "\n",
    "\n",
    "\n",
    "\n",
    "\n"
   ]
  },
  {
   "cell_type": "markdown",
   "metadata": {},
   "source": [
    "Of course, very often we want to do _matrix_ multiplication. This is represented in Python 3 by the `@` symbol. "
   ]
  },
  {
   "cell_type": "code",
   "execution_count": null,
   "metadata": {},
   "outputs": [],
   "source": [
    "a = np.random.rand(4,3)\n",
    "a"
   ]
  },
  {
   "cell_type": "code",
   "execution_count": null,
   "metadata": {},
   "outputs": [],
   "source": [
    "b = np.arange(1,4)\n",
    "b"
   ]
  },
  {
   "cell_type": "code",
   "execution_count": null,
   "metadata": {},
   "outputs": [],
   "source": [
    "a @ b"
   ]
  },
  {
   "cell_type": "markdown",
   "metadata": {},
   "source": [
    "### Subtleties: views vs copies <a name=\"subtleties\">\n",
    "\n",
    "* `np.copy(.)`\n",
    "* `np.split(.)` vs `np.array_spit(.)`"
   ]
  },
  {
   "cell_type": "markdown",
   "metadata": {},
   "source": [
    "### `numpy` exercises <a name=\"numpy-exercises\">"
   ]
  },
  {
   "cell_type": "code",
   "execution_count": null,
   "metadata": {},
   "outputs": [],
   "source": [
    "# create three matricies and conatenate"
   ]
  },
  {
   "cell_type": "code",
   "execution_count": null,
   "metadata": {},
   "outputs": [],
   "source": []
  },
  {
   "cell_type": "markdown",
   "metadata": {},
   "source": [
    "## 2.8 Introduction to `scipy` <a name=\"scipy\">\n",
    "    \n",
    "`scipy` is a package which contains a number of convinience functions for mathematics and data analysis\n",
    "    \n",
    "* **scipy.cluster**: Vector quantization / Kmeans\n",
    "* **scipy.constants**: Physical and mathematical constants\n",
    "* **scipy.fftpack**: Fourier transform\n",
    "* **scipy.integrate**: Integration routines\n",
    "* **scipy.interpolate**: Interpolation\n",
    "* **scipy.io**: Data input and output\n",
    "* **scipy.linalg**: Linear algebra routines\n",
    "* **scipy.ndimage**: n-dimensional image package\n",
    "* **scipy.odr**: Orthogonal distance regression\n",
    "* **scipy.optimize**: Optimization\n",
    "* **scipy.signal**: Signal processing\n",
    "* **scipy.sparse**: Sparse matrices\n",
    "* **scipy.spatial**: Spatial data structures and algorithms\n",
    "* **scipy.special**: Any special mathematical functions\n",
    "* **scipy.stats**: Statistics"
   ]
  },
  {
   "cell_type": "code",
   "execution_count": null,
   "metadata": {},
   "outputs": [],
   "source": [
    "import scipy as sp"
   ]
  },
  {
   "cell_type": "markdown",
   "metadata": {},
   "source": [
    "### `scipy` exercises <a name=\"scipy-exercises\">"
   ]
  },
  {
   "cell_type": "code",
   "execution_count": null,
   "metadata": {},
   "outputs": [],
   "source": [
    "# EXCERSISE\n",
    "# scipy show and tell: Pick a submodule of interest, use the jupyter autocomplete functionality or the scipy docs to find a \n",
    "# function of interest udnerstand its arguments and try to do a calculation using that function. Play around with the arguments.  \n",
    "\n",
    "\n",
    "\n",
    "\n",
    "\n",
    "\n",
    "\n"
   ]
  }
 ],
 "metadata": {
  "kernelspec": {
   "display_name": "Python 3",
   "language": "python",
   "name": "python3"
  },
  "language_info": {
   "codemirror_mode": {
    "name": "ipython",
    "version": 3
   },
   "file_extension": ".py",
   "mimetype": "text/x-python",
   "name": "python",
   "nbconvert_exporter": "python",
   "pygments_lexer": "ipython3",
   "version": "3.8.5"
  },
  "toc": {
   "base_numbering": 1,
   "nav_menu": {},
   "number_sections": true,
   "sideBar": true,
   "skip_h1_title": false,
   "title_cell": "Table of Contents",
   "title_sidebar": "Contents",
   "toc_cell": false,
   "toc_position": {
    "height": "calc(100% - 180px)",
    "left": "10px",
    "top": "150px",
    "width": "257.594px"
   },
   "toc_section_display": true,
   "toc_window_display": true
  },
  "varInspector": {
   "cols": {
    "lenName": 16,
    "lenType": 16,
    "lenVar": 40
   },
   "kernels_config": {
    "python": {
     "delete_cmd_postfix": "",
     "delete_cmd_prefix": "del ",
     "library": "var_list.py",
     "varRefreshCmd": "print(var_dic_list())"
    },
    "r": {
     "delete_cmd_postfix": ") ",
     "delete_cmd_prefix": "rm(",
     "library": "var_list.r",
     "varRefreshCmd": "cat(var_dic_list()) "
    }
   },
   "types_to_exclude": [
    "module",
    "function",
    "builtin_function_or_method",
    "instance",
    "_Feature"
   ],
   "window_display": false
  }
 },
 "nbformat": 4,
 "nbformat_minor": 4
}
