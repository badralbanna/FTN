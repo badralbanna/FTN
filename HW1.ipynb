{
 "cells": [
  {
   "cell_type": "markdown",
   "metadata": {},
   "source": [
    "# Homework 1"
   ]
  },
  {
   "cell_type": "code",
   "execution_count": null,
   "metadata": {},
   "outputs": [],
   "source": [
    "# Only run this cell on Colab, it downloads the package you need to run code from class \n",
    "!wget https://raw.githubusercontent.com/badralbanna/FTN/master/onedim.py"
   ]
  },
  {
   "cell_type": "code",
   "execution_count": 9,
   "metadata": {},
   "outputs": [],
   "source": [
    "import numpy as np\n",
    "import matplotlib as mpl\n",
    "import matplotlib.pyplot as plt\n",
    "\n",
    "# Importing all the functions from class\n",
    "from onedim import *"
   ]
  },
  {
   "cell_type": "markdown",
   "metadata": {},
   "source": [
    "## Question 1: Why no spikes?"
   ]
  },
  {
   "cell_type": "markdown",
   "metadata": {},
   "source": []
  },
  {
   "cell_type": "markdown",
   "metadata": {},
   "source": [
    "## Question 2: Fun with fibbonacci\n",
    "\n",
    "By "
   ]
  },
  {
   "cell_type": "code",
   "execution_count": null,
   "metadata": {},
   "outputs": [],
   "source": [
    "Fibonacchi sequence, graphing"
   ]
  },
  {
   "cell_type": "markdown",
   "metadata": {},
   "source": [
    "## Question 3: Membrane time constants"
   ]
  },
  {
   "cell_type": "code",
   "execution_count": null,
   "metadata": {},
   "outputs": [],
   "source": []
  },
  {
   "cell_type": "markdown",
   "metadata": {},
   "source": [
    "## Question 4: Testing our RC point neuron\n",
    "\n",
    "In class, i made the claim that out RC \"point neuron\" acts as a low pass filter where the membrane voltage / R tracks the injected current but only if the injected current changes slowly. In this problem you'll evaluate this claim by considering a sinusoidal injected current with a variable period, $T$. After finding the solution you'll determine what happens when the injected current changes slowly (i.e. $\\tau << T$) or quickly ($\\tau >> T$)\n",
    "\n",
    "In this problem you'll assume the injected current takes the form\n",
    "\n",
    "$$ I_{in}(t) = I_0 \\sin\\left(\\frac{t}{T}\\right) $$\n",
    "\n",
    "where $I_0$ sets the amplitude of the oscillating current. You can just assume $I_0 = 1$ in what follows.  \n",
    "\n",
    "Recall that for our RC point neuron \n",
    "\n",
    "$$ \\frac{dV}{dt} + \\frac{1}{\\tau} V =\\frac{1}{C} I_{in}(t) $$\n",
    "\n",
    "where $V$ is the membrane voltage, $\\tau = RC$ is the time constant of the membrane, $R$ is the membrane resistance, and $C$ is the membrane capacitence (both per unit area). You should also feel free to set $C=1$ for simplicity."
   ]
  },
  {
   "cell_type": "markdown",
   "metadata": {},
   "source": [
    "### 4.1 Analytical solution \n",
    "\n",
    "Use the method of integrating factors to find the voltage as a function of time (assuming the initial voltage $V_0 = 0$. You may need to use integration by parts to solve the antiderivative but it's ok if you would like to use a symbolic claculator like [Wolfram Alpha](https://www.wolframalpha.com) to find the solution.\n",
    "\n",
    "After you find the analyic solution you should try to rewrite your solution so that $\\tau$ and $T$s combine into as many $\\frac{\\tau}{T}$ as possible. This is convinient because this will be small when the signal is changing slowly ($\\tau << T$) and large when it is changing quickly ($\\tau >> T$)."
   ]
  },
  {
   "cell_type": "markdown",
   "metadata": {},
   "source": [
    "_Type your solution here or attach as a pdf when you upload to canvas. Please indicate if the solution is attached as a seperate file._"
   ]
  },
  {
   "cell_type": "markdown",
   "metadata": {},
   "source": [
    "### 4.2 Interpreting your solution \n",
    "\n",
    "Now that you have a solution we'd like to interpret what you've found. consider the case of a slowly changing signal when $ \\frac{\\tau}{T} \\approx 0$. What does the voltage  look like as compared to theoriginal injected current? What if $\\frac{\\tau}{T}$ is large? What happens to the aplitude of your solution."
   ]
  },
  {
   "cell_type": "markdown",
   "metadata": {},
   "source": [
    "_Type your solution here or attach as a pdf when you upload to canvas. Please indicate if the solution is attached as a seperate file._"
   ]
  },
  {
   "cell_type": "markdown",
   "metadata": {},
   "source": [
    "### 4.3 Plot analytical solutions \n",
    "\n",
    "Now we'd like to investigate this intuition "
   ]
  },
  {
   "cell_type": "code",
   "execution_count": 16,
   "metadata": {},
   "outputs": [
    {
     "ename": "SyntaxError",
     "evalue": "invalid syntax (<ipython-input-16-3df36844ec04>, line 4)",
     "output_type": "error",
     "traceback": [
      "\u001b[0;36m  File \u001b[0;32m\"<ipython-input-16-3df36844ec04>\"\u001b[0;36m, line \u001b[0;32m4\u001b[0m\n\u001b[0;31m    return(???)\u001b[0m\n\u001b[0m           ^\u001b[0m\n\u001b[0;31mSyntaxError\u001b[0m\u001b[0;31m:\u001b[0m invalid syntax\n"
     ]
    }
   ],
   "source": [
    "# Write a function that returns your solution given the time, the initial voltage, tau, and T\n",
    "\n",
    "def V_solution(t, V_0, tau, T): \n",
    "    return(???)"
   ]
  },
  {
   "cell_type": "code",
   "execution_count": 14,
   "metadata": {},
   "outputs": [],
   "source": [
    "# Calculate Vs from a set of T values\n",
    "\n",
    "V_solution = np.vectorize(V_solution)\n",
    "    \n",
    "T = np.arange(0, 1000, 1)\n",
    "Vs = V_solution(T, 0, 20, 100)"
   ]
  },
  {
   "cell_type": "code",
   "execution_count": null,
   "metadata": {},
   "outputs": [],
   "source": [
    "# Make a plot of one solution\n",
    "\n",
    "\n",
    "\n",
    "\n",
    "\n",
    "\n"
   ]
  },
  {
   "cell_type": "code",
   "execution_count": null,
   "metadata": {},
   "outputs": [],
   "source": [
    "# Make a plot that includes two solutions one where T = 10*tau and one where T = tau/10\n",
    "# Add a legend if you can\n",
    "\n",
    "# T = 10*tau\n",
    "V_slow =  V_solution(T, 0, 20, 200)\n",
    "# T = tau/10\n",
    "V_fast =  V_solution(T, 0, 20, 2)\n",
    "\n",
    "# Write code to plot these (use a legend if possible)\n",
    "\n",
    "\n",
    "\n",
    "\n"
   ]
  },
  {
   "cell_type": "markdown",
   "metadata": {},
   "source": [
    "### 4.3"
   ]
  },
  {
   "cell_type": "code",
   "execution_count": null,
   "metadata": {},
   "outputs": [],
   "source": []
  }
 ],
 "metadata": {
  "kernelspec": {
   "display_name": "Python 3",
   "language": "python",
   "name": "python3"
  },
  "language_info": {
   "codemirror_mode": {
    "name": "ipython",
    "version": 3
   },
   "file_extension": ".py",
   "mimetype": "text/x-python",
   "name": "python",
   "nbconvert_exporter": "python",
   "pygments_lexer": "ipython3",
   "version": "3.8.5"
  }
 },
 "nbformat": 4,
 "nbformat_minor": 4
}
