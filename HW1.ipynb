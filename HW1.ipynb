{
 "cells": [
  {
   "cell_type": "markdown",
   "metadata": {},
   "source": [
    "# Homework 1"
   ]
  },
  {
   "cell_type": "code",
   "execution_count": null,
   "metadata": {},
   "outputs": [],
   "source": [
    "# Only run this cell on Colab, it downloads the package you need to run code from class \n",
    "!wget https://raw.githubusercontent.com/badralbanna/FTN/master/onedim.py"
   ]
  },
  {
   "cell_type": "code",
   "execution_count": null,
   "metadata": {},
   "outputs": [],
   "source": [
    "import numpy as np\n",
    "import matplotlib as mpl\n",
    "import matplotlib.pyplot as plt\n",
    "\n",
    "# Importing all the functions from class\n",
    "from onedim import *"
   ]
  },
  {
   "cell_type": "markdown",
   "metadata": {},
   "source": [
    "## Question 1: Why no spikes?"
   ]
  },
  {
   "cell_type": "markdown",
   "metadata": {},
   "source": [
    "### 1.1 Definition of a dynamical system \n",
    "\n",
    "**Write a short paragraph defining what we mean by a dynamical system and what defines the dimensionality of a dynamical system**"
   ]
  },
  {
   "cell_type": "markdown",
   "metadata": {},
   "source": [
    "_Type your solution here or attach as a pdf when you upload to canvas. Please indicate if the solution is attached as a separate file._"
   ]
  },
  {
   "cell_type": "markdown",
   "metadata": {},
   "source": [
    "### 1.2 What can a 1D dynamical system do?\n",
    "\n",
    "**In class we made some claims about the kind of things that a dynamical system _can_ and _can't_ do. Specifically, we said that a voltage spike would require the voltage to \"double back on itself.\" Explain in your own words why this is not possible for a 1D system and what kinds of things a 1D system _can_ do.**"
   ]
  },
  {
   "cell_type": "markdown",
   "metadata": {},
   "source": [
    "_Type your solution here or attach as a pdf when you upload to canvas. Please indicate if the solution is attached as a separate file._"
   ]
  },
  {
   "cell_type": "markdown",
   "metadata": {},
   "source": [
    "## Question 2: Designing dynamical systems\n",
    "\n",
    "**In these three questions I'd like you to get some practice modeling either physical system (like a population of animals) or computations using 1D dynamical systems. In each of these questions your answer will be in the form of the 1st order differential equation for the state variable of the system or an explanation for why it's not possible to implement the system using a 1D dynamical system. I advise thinking about where you expect stable or unstable critical points in the system and sketching what the derivative must look like to create those points.**"
   ]
  },
  {
   "cell_type": "markdown",
   "metadata": {},
   "source": [
    "### 2.1 Population growth\n",
    "\n",
    "**A population of a species, $p$ will grow exponentially with unlimited resources. If the rate of growth is $R$ this can be modeled as a 1D dynamical system for $p$ by**\n",
    "\n",
    "$$\\frac{dp}{dt} = R p$$ \n",
    "\n",
    "**where $R$ is a constant representing the growth rate.**"
   ]
  },
  {
   "cell_type": "markdown",
   "metadata": {},
   "source": [
    "#### 2.2.1 Adding in carrying capacity\n",
    "\n",
    "**Of course, real populations do not grow exponentially forever. They will asymptotically reach some carrying capacity $C$. Modify the existing law by multiplying it by some factor that depends on $p$ and $C$ such that the new system behaves more realistically. Try to accomplish this as simply as possibly. You may want to think about what kind of critical point $p = C$ should represent. Explain briefly why your solution should work.**"
   ]
  },
  {
   "cell_type": "markdown",
   "metadata": {},
   "source": [
    "_Type your solution here or attach as a pdf when you upload to canvas. Please indicate if the solution is attached as a separate file._"
   ]
  },
  {
   "cell_type": "markdown",
   "metadata": {},
   "source": [
    "#### 2.2.2 (Bonus) Solving analytically\n",
    "\n",
    "**Use calculus wizardry to solve this differential equation analytically in terms of the initial population and the constants that appear in the differential equation.**"
   ]
  },
  {
   "cell_type": "markdown",
   "metadata": {},
   "source": [
    "_Type your solution here or attach as a pdf when you upload to canvas. Please indicate if the solution is attached as a separate file._"
   ]
  },
  {
   "cell_type": "markdown",
   "metadata": {},
   "source": [
    "### 2.2 Computing with 1D dynamical systems"
   ]
  },
  {
   "cell_type": "markdown",
   "metadata": {},
   "source": [
    "#### 2.2.1 Sign calculator"
   ]
  },
  {
   "cell_type": "markdown",
   "metadata": {},
   "source": [
    "**We'd like to create a dynamical system which performs a simple \"computation\": Define a law so that it takes the initial value and converge to $x=+1$ if it starts on a positive value and $x=-1$ if it starts on a negative initial value.**"
   ]
  },
  {
   "cell_type": "markdown",
   "metadata": {},
   "source": [
    "_Type your solution here or attach as a pdf when you upload to canvas. Please indicate if the solution is attached as a seperate file._"
   ]
  },
  {
   "cell_type": "markdown",
   "metadata": {},
   "source": [
    "#### 2.2.2 even/odd calculator"
   ]
  },
  {
   "cell_type": "markdown",
   "metadata": {},
   "source": [
    "**Now for another simple \"computation\": Define a law so that it takes the initial value and converges to $x=+1$ if it starts on an even initial value and $x=-1$ if it starts on an odd initial value.**"
   ]
  },
  {
   "cell_type": "markdown",
   "metadata": {},
   "source": [
    "_Type your solution here or attach as a pdf when you upload to canvas. Please indicate if the solution is attached as a seperate file._"
   ]
  },
  {
   "cell_type": "markdown",
   "metadata": {},
   "source": [
    "## Question 2: Fun with prime numbers (programming practice)"
   ]
  },
  {
   "cell_type": "markdown",
   "metadata": {},
   "source": [
    "### 2.1 prime number calculator\n",
    "\n",
    "**Complete the function that checks if a number `n` is prime.**"
   ]
  },
  {
   "cell_type": "code",
   "execution_count": null,
   "metadata": {},
   "outputs": [],
   "source": [
    "def is_prime(n):\n",
    "    # Loop through all numbers from 2 to n-1\n",
    "    for i in range(2, n):\n",
    "        # Check if i is a divisor of n...\n",
    "        if ?????:\n",
    "            # If it is then n is not prime\n",
    "            return(False)\n",
    "    # If no numbers < n are divisors then it is prime.\n",
    "    return(True)    "
   ]
  },
  {
   "cell_type": "code",
   "execution_count": null,
   "metadata": {},
   "outputs": [],
   "source": [
    "# You can check if it's working here if you want \n",
    "\n"
   ]
  },
  {
   "cell_type": "markdown",
   "metadata": {},
   "source": [
    "### 2.2 find all prime numbers < 1000 using `is_prime`"
   ]
  },
  {
   "cell_type": "code",
   "execution_count": null,
   "metadata": {},
   "outputs": [],
   "source": [
    "primes = []\n",
    "for i in range(2, 1000):\n",
    "    ???"
   ]
  },
  {
   "cell_type": "markdown",
   "metadata": {},
   "source": [
    "### 2.3 plot all # of prime numbers below x using `step`\n",
    "\n",
    "Use the code below to plot a step function showing the number of primes below a certain value."
   ]
  },
  {
   "cell_type": "code",
   "execution_count": null,
   "metadata": {},
   "outputs": [],
   "source": [
    "fig, ax = plt.subplots()\n",
    "num = range(1, len(primes)+1)\n",
    "ax.step(primes, num)\n",
    "ax.set_xlabel(\"#\")\n",
    "ax.set_ylabel(\"prime < #\")"
   ]
  },
  {
   "cell_type": "markdown",
   "metadata": {},
   "source": [
    "## Question 4: Testing our RC point neuron\n",
    "\n",
    "**In class, i made the claim that out RC \"point neuron\" acts as a low pass filter where the membrane voltage / R tracks the injected current but only if the injected current changes slowly. In this problem you'll evaluate this claim by considering a sinusoidal injected current with a variable period, $T$. After finding the solution you'll determine what happens when the injected current changes slowly (i.e. $\\tau << T$) or quickly ($\\tau >> T$)**\n",
    "\n",
    "**In this problem you'll assume the injected current takes the form\n",
    "$$ I_{in}(t) = I_0 \\sin\\left(\\frac{t}{T}\\right) $$\n",
    "where $I_0$ sets the amplitude of the oscillating current. You can just assume $I_0 = 1$ in what follows.**  \n",
    "\n",
    "**Recall that for our RC point neuron \n",
    "$$ \\frac{dV}{dt} + \\frac{1}{\\tau} V =\\frac{R}{\\tau} I_{in}(t) $$\n",
    "where $V$ is the membrane voltage, $\\tau = RC$ is the time constant of the membrane, $R$ is the membrane resistance, and $C$ is the membrane capacitance (both per unit area). You should also feel free to set $R=1$ for simplicity.**"
   ]
  },
  {
   "cell_type": "markdown",
   "metadata": {},
   "source": [
    "### 4.1 Analytical solution \n",
    "\n",
    "**Use the method of integrating factors to find the voltage as a function of time (assuming the initial voltage $V_0 = 0$. You may need to use integration by parts to solve the antiderivative but it's ok if you would like to use a symbolic claculator like [Wolfram Alpha](https://www.wolframalpha.com) to find the solution.**\n",
    "\n",
    "**After you find the analyic solution you should try to rewrite your solution so that $\\tau$ and $T$s combine into as many $\\frac{\\tau}{T}$ as possible. This is convinient because this will be small when the signal is changing slowly ($\\tau << T$) and large when it is changing quickly ($\\tau >> T$).**"
   ]
  },
  {
   "cell_type": "markdown",
   "metadata": {},
   "source": [
    "_Type your solution here or attach as a pdf when you upload to canvas. Please indicate if the solution is attached as a seperate file._"
   ]
  },
  {
   "cell_type": "markdown",
   "metadata": {},
   "source": [
    "### 4.2 Interpreting your solution \n",
    "\n",
    "**Now that you have a solution we'd like to interpret what you've found. consider the case of a slowly changing signal when $ \\frac{\\tau}{T} \\approx 0$. What does the voltage look like as compared to the injected current? What if $\\frac{\\tau}{T}$ is large? What happens to the amplitude of your solution.**"
   ]
  },
  {
   "cell_type": "markdown",
   "metadata": {},
   "source": [
    "_Type your solution here or attach as a pdf when you upload to canvas. Please indicate if the solution is attached as a separate file._"
   ]
  },
  {
   "cell_type": "markdown",
   "metadata": {},
   "source": [
    "### 4.3 Plot analytical solutions \n",
    "\n",
    "**Now we'd like to investigate this intuition**"
   ]
  },
  {
   "cell_type": "code",
   "execution_count": null,
   "metadata": {},
   "outputs": [],
   "source": [
    "# Write a function that returns your solution given the time, the initial voltage, tau, and T\n",
    "\n",
    "def V_solution(t, V_0, tau, T): \n",
    "    return(???)"
   ]
  },
  {
   "cell_type": "code",
   "execution_count": null,
   "metadata": {},
   "outputs": [],
   "source": [
    "# Calculate Vs from a set of T values\n",
    "\n",
    "V_solution = np.vectorize(V_solution)\n",
    "    \n",
    "T = np.arange(0, 1000, 1)\n",
    "Vs = V_solution(T, 0, 20, 100)"
   ]
  },
  {
   "cell_type": "code",
   "execution_count": null,
   "metadata": {},
   "outputs": [],
   "source": [
    "# Make a plot of one solution\n",
    "\n",
    "\n",
    "\n",
    "\n",
    "\n",
    "\n"
   ]
  },
  {
   "cell_type": "code",
   "execution_count": null,
   "metadata": {},
   "outputs": [],
   "source": [
    "# Make a plot that includes two solutions one where T = 10*tau and one where T = tau/10\n",
    "# Add a legend if you can\n",
    "\n",
    "# T = 10*tau\n",
    "V_slow =  V_solution(T, 0, 20, 200)\n",
    "# T = tau/10\n",
    "V_fast =  V_solution(T, 0, 20, 2)\n",
    "\n",
    "# Write code to plot these (use a legend if possible)\n",
    "\n",
    "\n",
    "\n",
    "\n"
   ]
  },
  {
   "cell_type": "markdown",
   "metadata": {},
   "source": [
    "### 4.3 Discussing your solutions\n",
    "\n",
    "**Discuss how these results demonstrate our RC point neuron acts a as a low pass filter capable of only tracking slowly changing signals**. "
   ]
  },
  {
   "cell_type": "markdown",
   "metadata": {},
   "source": [
    "_Type your solution here or attach as a pdf when you upload to canvas. Please indicate if the solution is attached as a separate file._"
   ]
  }
 ],
 "metadata": {
  "kernelspec": {
   "display_name": "Python 3",
   "language": "python",
   "name": "python3"
  },
  "language_info": {
   "codemirror_mode": {
    "name": "ipython",
    "version": 3
   },
   "file_extension": ".py",
   "mimetype": "text/x-python",
   "name": "python",
   "nbconvert_exporter": "python",
   "pygments_lexer": "ipython3",
   "version": "3.8.5"
  }
 },
 "nbformat": 4,
 "nbformat_minor": 4
}
