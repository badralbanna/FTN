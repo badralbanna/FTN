{
 "cells": [
  {
   "cell_type": "markdown",
   "metadata": {},
   "source": [
    "# Homework 1"
   ]
  },
  {
   "cell_type": "code",
   "execution_count": null,
   "metadata": {},
   "outputs": [],
   "source": [
    "# Only run this cell on Colab, it downloads the package you need to run code from class \n",
    "!wget https://raw.githubusercontent.com/badralbanna/FTN/master/onedim.py"
   ]
  },
  {
   "cell_type": "code",
   "execution_count": 2,
   "metadata": {},
   "outputs": [],
   "source": [
    "import numpy as np\n",
    "import matplotlib as mpl\n",
    "import matplotlib.pyplot as plt\n",
    "\n",
    "# Importing all the functions from class\n",
    "from onedim import *"
   ]
  },
  {
   "cell_type": "markdown",
   "metadata": {},
   "source": [
    "## Question 1: Why no spikes?"
   ]
  },
  {
   "cell_type": "markdown",
   "metadata": {},
   "source": [
    "### 1.1 Definition of a dynamical system \n",
    "\n",
    "**Write a short paragraph defining what we mean by a dynamical system and what defines the dimensionality of a dynamical system**"
   ]
  },
  {
   "cell_type": "markdown",
   "metadata": {},
   "source": [
    "A dynamical system is mathematical description of a a system changes in time. The system is defined by a number of state variables and a corresponding set of first order differential equations for each variable that **only** depend on the state variables themselves (not time or other functions of time). In this way the state always determines what happens next. The number of state variables is the dimensionality of the system. "
   ]
  },
  {
   "cell_type": "markdown",
   "metadata": {},
   "source": [
    "### 1.2 What can a 1D dynamical system do?\n",
    "\n",
    "**In class we made some claims about the kind of things that a dynamical system _can_ and _can't_ do. Specifically, we said that a voltage spike would require the voltage to \"double back on itself.\" Explain in your own words why this is not possible for a 1D system and what kinds of things a 1D system _can_ do.**"
   ]
  },
  {
   "cell_type": "markdown",
   "metadata": {},
   "source": [
    "1D dynamical systems can at most divide the 1 state variable into a series of \"wells\" divided by unstable critical points which contain at most one stable critical point. Starting conditions in each well are drawn towards the stable critical point or pushed out to $\\pm \\infty$."
   ]
  },
  {
   "cell_type": "markdown",
   "metadata": {},
   "source": [
    "## Question 2: Designing dynamical systems\n",
    "\n",
    "**In these three questions I'd like you to get some practice modeling either physical system (like a population of animals) or computations using 1D dynamical systems. In each of these questions your answer will be in the form of the 1st order differential equation for the state variable of the system or an explanation for why it's not possible to implement the system using a 1D dynamical system. I advise thinking about where you expect stable or unstable critical points in the system and sketching what the derivative must look like to create those points.**"
   ]
  },
  {
   "cell_type": "markdown",
   "metadata": {},
   "source": [
    "### 2.1 Population growth\n",
    "\n",
    "**A population of a species, $p$ will grow exponentially with unlimited resources. If the rate of growth is $R$ this can be modeled as a 1D dynamical system for $p$ by**\n",
    "\n",
    "$$\\frac{dp}{dt} = R p$$ \n",
    "\n",
    "**where $R$ is a constant representing the growth rate.**"
   ]
  },
  {
   "cell_type": "markdown",
   "metadata": {},
   "source": [
    "#### 2.2.1 Adding in carrying capacity\n",
    "\n",
    "**Of course, real populations do not grow exponentially forever. They will asymptotically reach some carrying capacity $C$. Modify the existing law by multiplying it by some factor that depends on $p$ and $C$ such that the new system behaves more realistically. Try to accomplish this as simply as possibly. You may want to think about what kind of critical point $p = C$ should represent. Explain briefly why your solution should work.**"
   ]
  },
  {
   "cell_type": "markdown",
   "metadata": {},
   "source": [
    "We'd like another stable critical point at $p=C$ meaning we'd like $\\frac{dp}{dt} = 0$ there with a negative slope. If we multiply the existing function with by $(C - p)$ this will create such a point. This gives us \n",
    "\n",
    "$$\\frac{dp}{dt} = R p (C - p)$$ \n",
    "\n",
    "The phase diagram for this looks like:"
   ]
  },
  {
   "cell_type": "code",
   "execution_count": 9,
   "metadata": {},
   "outputs": [
    {
     "data": {
      "image/png": "[encoded data removed]",
      "text/plain": [
       "<Figure size 432x288 with 1 Axes>"
      ]
     },
     "metadata": {
      "needs_background": "light"
     },
     "output_type": "display_data"
    }
   ],
   "source": [
    "def dpdt(p, R=1, C=1):\n",
    "    return(R*p*(C- p))\n",
    "\n",
    "plot_1D_phase_space(dpdt, xlim=(0, 1.5), x_label=\"Population\")"
   ]
  },
  {
   "cell_type": "markdown",
   "metadata": {},
   "source": [
    "#### 2.2.2 (Bonus) Solving analytically\n",
    "\n",
    "**Use calculus wizardry to solve this differential equation analytically in terms of the initial population and the constants that appear in the differential equation.**"
   ]
  },
  {
   "cell_type": "markdown",
   "metadata": {},
   "source": [
    "_Type your solution here or attach as a pdf when you upload to canvas. Please indicate if the solution is attached as a separate file._"
   ]
  },
  {
   "cell_type": "markdown",
   "metadata": {},
   "source": [
    "### 2.2 Computing with 1D dynamical systems"
   ]
  },
  {
   "cell_type": "markdown",
   "metadata": {},
   "source": [
    "#### 2.2.1 Sign calculator"
   ]
  },
  {
   "cell_type": "markdown",
   "metadata": {},
   "source": [
    "**We'd like to create a dynamical system which performs a simple \"computation\": Define a law so that it takes the initial value and converge to $x=+1$ if it starts on a positive value and $x=-1$ if it starts on a negative initial value.**"
   ]
  },
  {
   "cell_type": "markdown",
   "metadata": {},
   "source": [
    "Here we need a stable point at $x=+1$ and $x=-1$ and an unstable point at $x=0$. This means roots at all these locations. Simplest function that accomplishes this is\n",
    "\n",
    "$$\\frac{dx}{dt} = -(x-1)(x)(x+1)$$"
   ]
  },
  {
   "cell_type": "code",
   "execution_count": 13,
   "metadata": {},
   "outputs": [
    {
     "data": {
      "image/png": "[encoded data removed]",
      "text/plain": [
       "<Figure size 432x288 with 1 Axes>"
      ]
     },
     "metadata": {
      "needs_background": "light"
     },
     "output_type": "display_data"
    }
   ],
   "source": [
    "def dxdt(x):\n",
    "    return(-(x-1)*x*(x+1))\n",
    "\n",
    "plot_1D_phase_space(dxdt, xlim=(-2, 2), x_label=\"x\")"
   ]
  },
  {
   "cell_type": "markdown",
   "metadata": {},
   "source": [
    "#### 2.2.2 even/odd calculator"
   ]
  },
  {
   "cell_type": "markdown",
   "metadata": {},
   "source": [
    "**Now for another simple \"computation\": Define a law so that it takes the initial value and converges to $x=+1$ if it starts on an even initial value and $x=-1$ if it starts on an odd initial value.**"
   ]
  },
  {
   "cell_type": "markdown",
   "metadata": {},
   "source": [
    "**Not possible!** You can try a few examples to see that to make this work you would need different starting conditions to travel in different directions at the same point. Not possible for a 1D dynamical system.  "
   ]
  },
  {
   "cell_type": "markdown",
   "metadata": {},
   "source": [
    "## Question 2: Fun with prime numbers (programming practice)"
   ]
  },
  {
   "cell_type": "markdown",
   "metadata": {},
   "source": [
    "### 2.1 prime number calculator\n",
    "\n",
    "**Complete the function that checks if a number `n` is prime.**"
   ]
  },
  {
   "cell_type": "code",
   "execution_count": 14,
   "metadata": {},
   "outputs": [],
   "source": [
    "def is_prime(n):\n",
    "    # Loop through all numbers from 2 to n-1\n",
    "    for i in range(2, n):\n",
    "        # Check if i is a divisor of n...\n",
    "        if n%i == 0:\n",
    "            # If it is then n is not prime\n",
    "            return(False)\n",
    "    # If no numbers < n are divisors then it is prime.\n",
    "    return(True)    "
   ]
  },
  {
   "cell_type": "code",
   "execution_count": 18,
   "metadata": {},
   "outputs": [
    {
     "data": {
      "text/plain": [
       "False"
      ]
     },
     "execution_count": 18,
     "metadata": {},
     "output_type": "execute_result"
    }
   ],
   "source": [
    "# You can check if it's working here if you want \n",
    "\n",
    "is_prime(9)"
   ]
  },
  {
   "cell_type": "markdown",
   "metadata": {},
   "source": [
    "### 2.2 find all prime numbers < 1000 using `is_prime`"
   ]
  },
  {
   "cell_type": "code",
   "execution_count": 22,
   "metadata": {},
   "outputs": [],
   "source": [
    "primes = []\n",
    "for i in range(3, 1000):\n",
    "    if is_prime(i):\n",
    "        primes.append(i)"
   ]
  },
  {
   "cell_type": "code",
   "execution_count": 23,
   "metadata": {},
   "outputs": [
    {
     "data": {
      "text/plain": [
       "[3,\n",
       " 5,\n",
       " 7,\n",
       " 11,\n",
       " 13,\n",
       " 17,\n",
       " 19,\n",
       " 23,\n",
       " 29,\n",
       " 31,\n",
       " 37,\n",
       " 41,\n",
       " 43,\n",
       " 47,\n",
       " 53,\n",
       " 59,\n",
       " 61,\n",
       " 67,\n",
       " 71,\n",
       " 73,\n",
       " 79,\n",
       " 83,\n",
       " 89,\n",
       " 97,\n",
       " 101,\n",
       " 103,\n",
       " 107,\n",
       " 109,\n",
       " 113,\n",
       " 127,\n",
       " 131,\n",
       " 137,\n",
       " 139,\n",
       " 149,\n",
       " 151,\n",
       " 157,\n",
       " 163,\n",
       " 167,\n",
       " 173,\n",
       " 179,\n",
       " 181,\n",
       " 191,\n",
       " 193,\n",
       " 197,\n",
       " 199,\n",
       " 211,\n",
       " 223,\n",
       " 227,\n",
       " 229,\n",
       " 233,\n",
       " 239,\n",
       " 241,\n",
       " 251,\n",
       " 257,\n",
       " 263,\n",
       " 269,\n",
       " 271,\n",
       " 277,\n",
       " 281,\n",
       " 283,\n",
       " 293,\n",
       " 307,\n",
       " 311,\n",
       " 313,\n",
       " 317,\n",
       " 331,\n",
       " 337,\n",
       " 347,\n",
       " 349,\n",
       " 353,\n",
       " 359,\n",
       " 367,\n",
       " 373,\n",
       " 379,\n",
       " 383,\n",
       " 389,\n",
       " 397,\n",
       " 401,\n",
       " 409,\n",
       " 419,\n",
       " 421,\n",
       " 431,\n",
       " 433,\n",
       " 439,\n",
       " 443,\n",
       " 449,\n",
       " 457,\n",
       " 461,\n",
       " 463,\n",
       " 467,\n",
       " 479,\n",
       " 487,\n",
       " 491,\n",
       " 499,\n",
       " 503,\n",
       " 509,\n",
       " 521,\n",
       " 523,\n",
       " 541,\n",
       " 547,\n",
       " 557,\n",
       " 563,\n",
       " 569,\n",
       " 571,\n",
       " 577,\n",
       " 587,\n",
       " 593,\n",
       " 599,\n",
       " 601,\n",
       " 607,\n",
       " 613,\n",
       " 617,\n",
       " 619,\n",
       " 631,\n",
       " 641,\n",
       " 643,\n",
       " 647,\n",
       " 653,\n",
       " 659,\n",
       " 661,\n",
       " 673,\n",
       " 677,\n",
       " 683,\n",
       " 691,\n",
       " 701,\n",
       " 709,\n",
       " 719,\n",
       " 727,\n",
       " 733,\n",
       " 739,\n",
       " 743,\n",
       " 751,\n",
       " 757,\n",
       " 761,\n",
       " 769,\n",
       " 773,\n",
       " 787,\n",
       " 797,\n",
       " 809,\n",
       " 811,\n",
       " 821,\n",
       " 823,\n",
       " 827,\n",
       " 829,\n",
       " 839,\n",
       " 853,\n",
       " 857,\n",
       " 859,\n",
       " 863,\n",
       " 877,\n",
       " 881,\n",
       " 883,\n",
       " 887,\n",
       " 907,\n",
       " 911,\n",
       " 919,\n",
       " 929,\n",
       " 937,\n",
       " 941,\n",
       " 947,\n",
       " 953,\n",
       " 967,\n",
       " 971,\n",
       " 977,\n",
       " 983,\n",
       " 991,\n",
       " 997]"
      ]
     },
     "execution_count": 23,
     "metadata": {},
     "output_type": "execute_result"
    }
   ],
   "source": [
    "primes"
   ]
  },
  {
   "cell_type": "markdown",
   "metadata": {},
   "source": [
    "### 2.3 plot all # of prime numbers below x using `step`\n",
    "\n",
    "Use the code below to plot a step function showing the number of primes below a certain value."
   ]
  },
  {
   "cell_type": "code",
   "execution_count": 21,
   "metadata": {},
   "outputs": [
    {
     "data": {
      "text/plain": [
       "Text(0, 0.5, 'prime < #')"
      ]
     },
     "execution_count": 21,
     "metadata": {},
     "output_type": "execute_result"
    },
    {
     "data": {
      "image/png": "[encoded data removed]",
      "text/plain": [
       "<Figure size 432x288 with 1 Axes>"
      ]
     },
     "metadata": {
      "needs_background": "light"
     },
     "output_type": "display_data"
    }
   ],
   "source": [
    "fig, ax = plt.subplots()\n",
    "num = range(1, len(primes)+1)\n",
    "ax.step(primes, num)\n",
    "ax.set_xlabel(\"#\")\n",
    "ax.set_ylabel(\"prime < #\")"
   ]
  },
  {
   "cell_type": "markdown",
   "metadata": {},
   "source": [
    "_It's linear!_ One of the great mysteries of the universe."
   ]
  },
  {
   "cell_type": "markdown",
   "metadata": {},
   "source": [
    "## Question 4: Testing our RC point neuron\n",
    "\n",
    "**In class, i made the claim that out RC \"point neuron\" acts as a low pass filter where the membrane voltage / R tracks the injected current but only if the injected current changes slowly. In this problem you'll evaluate this claim by considering a sinusoidal injected current with a variable period, $T$. After finding the solution you'll determine what happens when the injected current changes slowly (i.e. $\\tau << T$) or quickly ($\\tau >> T$)**\n",
    "\n",
    "**In this problem you'll assume the injected current takes the form\n",
    "$$ I_{in}(t) = I_0 \\sin\\left(\\frac{t}{T}\\right) $$\n",
    "where $I_0$ sets the amplitude of the oscillating current. You can just assume $I_0 = 1$ in what follows.**  \n",
    "\n",
    "**Recall that for our RC point neuron \n",
    "$$ \\frac{dV}{dt} + \\frac{1}{\\tau} V =\\frac{R}{\\tau} I_{in}(t) $$\n",
    "where $V$ is the membrane voltage, $\\tau = RC$ is the time constant of the membrane, $R$ is the membrane resistance, and $C$ is the membrane capacitance (both per unit area). You should also feel free to set $R=1$ for simplicity.**"
   ]
  },
  {
   "cell_type": "markdown",
   "metadata": {},
   "source": [
    "### 4.1 Analytical solution \n",
    "\n",
    "**Use the method of integrating factors to find the voltage as a function of time (assuming the initial voltage $V_0 = 0$. You may need to use integration by parts to solve the antiderivative but it's ok if you would like to use a symbolic claculator like [Wolfram Alpha](https://www.wolframalpha.com) to find the solution.**\n",
    "\n",
    "**After you find the analyic solution you should try to rewrite your solution so that $\\tau$ and $T$s combine into as many $\\frac{\\tau}{T}$ as possible. This is convinient because this will be small when the signal is changing slowly ($\\tau << T$) and large when it is changing quickly ($\\tau >> T$).**"
   ]
  },
  {
   "cell_type": "markdown",
   "metadata": {},
   "source": [
    "Setting $I_0$ and $R$ to 1 our equation is \n",
    "\n",
    "$$ \\frac{dV}{dt} + \\frac{1}{\\tau} V = \\frac{1}{\\tau}\\sin\\left(\\frac{t}{T}\\right) $$\n",
    "\n",
    "Using the method of integrating factors $\\mu(t) = e^{t/\\tau}$ and \n",
    "\n",
    "$$V(t) = \\frac{1}{\\mu(t)} \\int{\\mu(t)\\frac{1}{\\tau}\\sin\\left(\\frac{t}{T}\\right)}$$\n",
    "$$V(t) =  \\frac{e^{-t/\\tau}}{\\tau} \\int{ e^{t/\\tau} \\sin\\left(\\frac{t}{T}\\right)}$$\n",
    "$$V(t) = \\frac{T (\\tau \\cos(t/T) + T \\sin(t/T))}{\\tau^2 + T^2} + Ce^{-t/\\tau}$$\n",
    "\n",
    "To get factors of $\\frac{\\tau}{T}$ we divide top and bottom by $T^2$\n",
    "\n",
    "$$V(t) = \\frac{\\frac{\\tau}{T} \\cos(t/T) + \\sin(t/T)}{\\left(\\frac{\\tau}{T}\\right)^2 + 1} + Ce^{-t/\\tau}$$\n",
    "\n",
    "Finding $C$ in terms of $V(0) = V_0$ \n",
    "\n",
    "$$V_0 = \\frac{\\frac{\\tau}{T} \\cos(0) + \\sin(0)}{\\left(\\frac{\\tau}{T}\\right)^2 + 1} + Ce^{0} = \\frac{\\frac{\\tau}{T}}{\\left(\\frac{\\tau}{T}\\right)^2 + 1} + C$$\n",
    "\n",
    "This means\n",
    "\n",
    "$$C = V_0 - \\frac{\\frac{\\tau}{T}}{\\left(\\frac{\\tau}{T}\\right)^2 + 1}$$\n",
    "\n",
    "$$V(t) = \\frac{\\frac{\\tau}{T} (\\cos(t/T) - e^{-t/\\tau}) + \\sin(t/T)}{\\left(\\frac{\\tau}{T}\\right)^2 + 1} + V_0 e^{-t/\\tau}$$\n"
   ]
  },
  {
   "cell_type": "markdown",
   "metadata": {},
   "source": [
    "### 4.2 Interpreting your solution \n",
    "\n",
    "**Now that you have a solution we'd like to interpret what you've found. consider the case of a slowly changing signal when $\\frac{\\tau}{T} \\approx 0$. What does the voltage look like as compared to the injected current? What if $\\frac{\\tau}{T}$ is large? What happens to the amplitude of your solution.**"
   ]
  },
  {
   "cell_type": "markdown",
   "metadata": {},
   "source": [
    "When $\\frac{\\tau}{T} \\approx 0$ our solution becomes\n",
    "\n",
    "$$V(t) = \\frac{0 \\cdot(\\cos(t/T) - e^{-t/\\tau}) + \\sin(t/T)}{0 + 1} + V_0 e^{-t/\\tau}$$ \n",
    "\n",
    "Which becomes \n",
    "\n",
    "$$V(t) = \\sin(t/T) + V_0 e^{-t/\\tau}$$ \n",
    "\n",
    "In other words, it tracks the input perfectly! (after a period where the constant term disappears.\n"
   ]
  },
  {
   "cell_type": "markdown",
   "metadata": {},
   "source": [
    "### 4.3 Plot analytical solutions \n",
    "\n",
    "**Now we'd like to investigate this intuition**"
   ]
  },
  {
   "cell_type": "code",
   "execution_count": 39,
   "metadata": {},
   "outputs": [],
   "source": [
    "# Write a function that returns your solution given the time, the initial voltage, tau, and T\n",
    "\n",
    "def V_solution(t, V_0, tau, T): \n",
    "    a = tau/T\n",
    "    b = t/T\n",
    "    return((a*(np.cos(b) - np.exp(-b)) + np.sin(b)) / (a**2 + 1) + V_0 * np.exp(-b))"
   ]
  },
  {
   "cell_type": "code",
   "execution_count": 40,
   "metadata": {},
   "outputs": [],
   "source": [
    "# Calculate Vs from a set of T values\n",
    "\n",
    "V_solution = np.vectorize(V_solution)\n",
    "    \n",
    "T = np.arange(0, 2000, 1)\n",
    "Vs = V_solution(T, 0, 20, 100)"
   ]
  },
  {
   "cell_type": "code",
   "execution_count": 41,
   "metadata": {},
   "outputs": [
    {
     "data": {
      "text/plain": [
       "Text(0, 0.5, 'voltage (mV)')"
      ]
     },
     "execution_count": 41,
     "metadata": {},
     "output_type": "execute_result"
    },
    {
     "data": {
      "image/png": "[encoded data removed]",
      "text/plain": [
       "<Figure size 432x288 with 1 Axes>"
      ]
     },
     "metadata": {
      "needs_background": "light"
     },
     "output_type": "display_data"
    }
   ],
   "source": [
    "# Make a plot of one solution\n",
    "\n",
    "fig, ax = plt.subplots()\n",
    "ax.plot(T, Vs)\n",
    "ax.set_xlabel(\"Time (ms)\")\n",
    "ax.set_ylabel(\"voltage (mV)\")\n",
    "\n"
   ]
  },
  {
   "cell_type": "code",
   "execution_count": 42,
   "metadata": {},
   "outputs": [
    {
     "data": {
      "text/plain": [
       "<matplotlib.legend.Legend at 0x7fe6c23db0a0>"
      ]
     },
     "execution_count": 42,
     "metadata": {},
     "output_type": "execute_result"
    },
    {
     "data": {
      "image/png": "[encoded data removed]",
      "text/plain": [
       "<Figure size 432x288 with 1 Axes>"
      ]
     },
     "metadata": {
      "needs_background": "light"
     },
     "output_type": "display_data"
    }
   ],
   "source": [
    "# Make a plot that includes two solutions one where T = 10*tau and one where T = tau/10\n",
    "# Add a legend if you can\n",
    "\n",
    "# T = 10*tau\n",
    "V_slow =  V_solution(T, 0, 20, 200)\n",
    "# T = tau/10\n",
    "V_fast =  V_solution(T, 0, 20, 2)\n",
    "\n",
    "# Write code to plot these (use a legend if possible)\n",
    "fig, ax = plt.subplots()\n",
    "ax.plot(T, V_slow, label=\"slow\")\n",
    "ax.plot(T, V_fast, label=\"fast\")\n",
    "ax.set_xlabel(\"Time (ms)\")\n",
    "ax.set_ylabel(\"voltage (mV)\")\n",
    "fig.legend()"
   ]
  },
  {
   "cell_type": "markdown",
   "metadata": {},
   "source": [
    "### 4.3 Discussing your solutions\n",
    "\n",
    "**Discuss how these results demonstrate our RC point neuron acts a as a low pass filter capable of only tracking slowly changing signals**. "
   ]
  },
  {
   "cell_type": "markdown",
   "metadata": {},
   "source": [
    "In our graph you can see clearly the weak response to the faster signal, this means that signals with high enough frequencies will not be strongly reflected in the membrane voltage whereas slower signals will not. "
   ]
  },
  {
   "cell_type": "code",
   "execution_count": null,
   "metadata": {},
   "outputs": [],
   "source": []
  }
 ],
 "metadata": {
  "kernelspec": {
   "display_name": "Python 3",
   "language": "python",
   "name": "python3"
  },
  "language_info": {
   "codemirror_mode": {
    "name": "ipython",
    "version": 3
   },
   "file_extension": ".py",
   "mimetype": "text/x-python",
   "name": "python",
   "nbconvert_exporter": "python",
   "pygments_lexer": "ipython3",
   "version": "3.8.5"
  }
 },
 "nbformat": 4,
 "nbformat_minor": 4
}
