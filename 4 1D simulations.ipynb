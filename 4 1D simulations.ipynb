{
 "cells": [
  {
   "cell_type": "markdown",
   "metadata": {},
   "source": [
    "# Simulating 1D dynamical systems \n",
    "\n",
    "\n",
    "## Table of Contents \n",
    "\n",
    "* Defining equations of motion\n",
    "* Rendering phase portrait\n",
    "* Numerical calculation of solutions \n",
    "    * Euler's method\n",
    "    * Midpoint method aka Rundge Kutta order 2 (RK2)\n",
    "\n",
    "## Setup"
   ]
  },
  {
   "cell_type": "code",
   "execution_count": null,
   "metadata": {},
   "outputs": [],
   "source": [
    "import numpy as np\n",
    "from scipy.optimize import fsolve\n",
    "from scipy.misc import derivative\n",
    "import matplotlib as mpl\n",
    "import matplotlib.pyplot as plt\n",
    "\n",
    "# For retina displays only \n",
    "from IPython.display import set_matplotlib_formats\n",
    "set_matplotlib_formats('retina')"
   ]
  },
  {
   "cell_type": "markdown",
   "metadata": {},
   "source": [
    "## Defining variable and equations of motion"
   ]
  },
  {
   "cell_type": "code",
   "execution_count": null,
   "metadata": {},
   "outputs": [],
   "source": [
    "X_LABEL = \"Voltage\"\n",
    "\n",
    "def dXdT(x):\n",
    "    return(np.sin(x))"
   ]
  },
  {
   "cell_type": "markdown",
   "metadata": {},
   "source": [
    "## Rendering the phase portrait"
   ]
  },
  {
   "cell_type": "code",
   "execution_count": null,
   "metadata": {},
   "outputs": [],
   "source": [
    "X_MIN = -5\n",
    "X_MAX = 5\n",
    "\n",
    "# function to find critical points\n",
    "def find_1D_critical_points(dXdT,  xlim=(X_MIN, X_MAX), res_c=0.001, epsilon=0.0001):\n",
    "    x_min, x_max = xlim\n",
    "    \n",
    "    # Define starting positions\n",
    "    X_0s = np.arange(x_min, x_max, res_c)\n",
    "    critical_points = []\n",
    "    # Loop over possible starting positions\n",
    "    for X_0 in X_0s:\n",
    "        # Find critical point from starting position\n",
    "        X_c = fsolve(dXdT, X_0, factor=0.1)[0]\n",
    "        \n",
    "        # Checking if its in range\n",
    "        if (X_c >= x_min) & (X_c <= x_max):\n",
    "            if len(critical_points) > 0:\n",
    "                # Check to make sure the point is not already included\n",
    "                is_included = np.any(np.abs(np.array(critical_points) - X_c) < epsilon)\n",
    "                if not is_included:\n",
    "                    critical_points.append(X_c)\n",
    "            else:\n",
    "                # first point\n",
    "                critical_points.append(X_c)\n",
    "    critical_points = np.array(critical_points)\n",
    "    \n",
    "    # Checking which ones actually worked\n",
    "    \n",
    "    actually_worked = np.isclose(dXdT(critical_points), np.zeros(len(critical_points)))\n",
    "    critical_points = critical_points[actually_worked]\n",
    "    critical_points \n",
    "    \n",
    "    return(critical_points)\n",
    "\n",
    "# function to find sign of function at points\n",
    "def find_sign_of_derivative(func, Xs):\n",
    "    return(np.sign([derivative(func, X) for X in Xs]))\n",
    "\n",
    "# function to plot the phase portrait\n",
    "def plot_1D_phase_space(dXdT, xlim=(X_MIN, X_MAX), x_label=X_LABEL, res_c=0.001, epsilon=0.0001, ax=None):\n",
    "    if ax == None:\n",
    "        fig, ax = plt.subplots()\n",
    "    ax.spines['bottom'].set_position(('data',0))\n",
    "    ax.spines['left'].set_position(('data',0))\n",
    "    \n",
    "    # Plotting derivative\n",
    "    X = np.arange(xlim[0], xlim[1], res_c)\n",
    "    Y = dXdT(X)\n",
    "    ax.plot(X, Y, color='blue')\n",
    "    \n",
    "    # Setting labels and moving them\n",
    "    #ax.set_xlabel(x_label)\n",
    "    #ax.set_ylabel(f\"d({x_label})/dT\")\n",
    "    X_max = np.max(X)\n",
    "    Y_max = np.max(Y)\n",
    "    ax.text(X_max, 0, x_label, va=\"bottom\", ha=\"right\")\n",
    "    ax.text(0, Y_max, f\"d({x_label})/dT\", rotation=\"vertical\", ha=\"left\", va=\"top\")\n",
    "    \n",
    "    # Finding critical points\n",
    "    X_c = find_1D_critical_points(dXdT,  xlim=xlim, res_c=res_c, epsilon=epsilon)\n",
    "    \n",
    "    # Finding stability\n",
    "    X_c_sign = find_sign_of_derivative(dXdT, X_c)\n",
    "    facecolors = [\"blue\" if sign < 0 else \"white\" for sign in X_c_sign]\n",
    "    \n",
    "    # Plotting critical points\n",
    "    ax.scatter(X_c, np.zeros(len(X_c)), s=100, color='blue', marker='o', facecolor=facecolors)\n",
    "    ax.set_xlim(xlim)"
   ]
  },
  {
   "cell_type": "code",
   "execution_count": null,
   "metadata": {},
   "outputs": [],
   "source": [
    "X_c = find_1D_critical_points(dXdT)\n",
    "print(X_c)"
   ]
  },
  {
   "cell_type": "code",
   "execution_count": null,
   "metadata": {},
   "outputs": [],
   "source": [
    "find_sign_of_derivative(dXdT, X_c)"
   ]
  },
  {
   "cell_type": "code",
   "execution_count": null,
   "metadata": {},
   "outputs": [],
   "source": [
    "plot_1D_phase_space(dXdT)"
   ]
  },
  {
   "cell_type": "markdown",
   "metadata": {},
   "source": [
    "## Plotting solutions "
   ]
  },
  {
   "cell_type": "markdown",
   "metadata": {},
   "source": [
    "## Euler's method"
   ]
  },
  {
   "cell_type": "code",
   "execution_count": null,
   "metadata": {},
   "outputs": [],
   "source": [
    "# PROBLEM: write a function to find the nex point in Euler's method\n",
    "\n",
    "DT = 0.01 # Simulation timestep, smaller is more accurate\n",
    "\n",
    "# Functions implimenting Euler's method\n",
    "def find_next_point_Euler(x, dxdt, dt=DT):\n",
    "    ????\n",
    "    return(x_next)"
   ]
  },
  {
   "cell_type": "code",
   "execution_count": null,
   "metadata": {},
   "outputs": [],
   "source": [
    "# PROBLEM: write a function the finds all points in a numerical solution\n",
    "\n",
    "def simulate(x_0, t_f, dxdt, simulation_function, dt=DT):\n",
    "    X_solution = [x_0]\n",
    "    T = np.arange(0, t_f + dt, dt)\n",
    "    ????\n",
    "    return (T, X_solution)"
   ]
  },
  {
   "cell_type": "code",
   "execution_count": null,
   "metadata": {},
   "outputs": [],
   "source": [
    "T, Xs = simulate(1, 5, dXdT, find_next_point_Euler)"
   ]
  },
  {
   "cell_type": "code",
   "execution_count": null,
   "metadata": {},
   "outputs": [],
   "source": [
    "# Some helper functions\n",
    "\n",
    "def simulate_collection(X_0s, t_f, dxdt, simulation_function, dt=DT):\n",
    "    X = []\n",
    "    for X_0, in X_0s:\n",
    "        T, X_sol = simulate(X_0, t_f, dxdt, simulation_function, dt=dt)\n",
    "        X.append(X_sol)\n",
    "    return T, X\n",
    "\n",
    "# Function to plot phase space diagram w/ critical points \n",
    "from itertools import product\n",
    "\n",
    "def plot_solutions(T_f, X_0s, dxdt, simulation_functions, colors=['k'], dt=DT, xlim=(X_MIN, X_MAX), x_label=X_LABEL):\n",
    "    fig, (ax, ax_t) = plt.subplots(ncols=2, figsize=(9, 4))\n",
    "    plot_1D_phase_space(dxdt, xlim=xlim, x_label=x_label, ax=ax)\n",
    "    \n",
    "    X_solutions = []\n",
    "    try:\n",
    "        iter(simulation_functions)\n",
    "    except TypeError:\n",
    "        simulation_functions = [simulation_functions]\n",
    "        \n",
    "    for simulation_function, X_0 in product(simulation_functions, X_0s):\n",
    "        T, X_solution = simulate(X_0, T_f, dxdt, simulation_function, dt=dt)\n",
    "        X_solutions.append(X_solution)\n",
    "\n",
    "    if len(colors) != len(X_solutions):\n",
    "        colors = len(X_solutions) * colors\n",
    "\n",
    "    for X_solution, color in zip(X_solutions, colors):\n",
    "        ax_t.set_title(\"{0} vs. time\".format(x_label))\n",
    "        ax_t.spines['bottom'].set_position(('data',0))\n",
    "        ax_t.plot(T, X_solution, color=color)\n",
    "        ax_t.scatter(T[0], X_solution[0], color=color, zorder=10, s=10.0)\n",
    "        ax_t.set_ylabel(x_label)\n",
    "        ax_t.set_xlabel(\"Time\")\n",
    "        ax_t.set_ylim(xlim)"
   ]
  },
  {
   "cell_type": "markdown",
   "metadata": {},
   "source": [
    "### Simulating Euler's method"
   ]
  },
  {
   "cell_type": "code",
   "execution_count": null,
   "metadata": {},
   "outputs": [],
   "source": [
    "X_0 = 0.5 # starting x\n",
    "T_f = 10 # final time (starting time is always T=0)\n",
    "\n",
    "DT = 0.0001 # Simulation timestep, smaller is more accurate"
   ]
  },
  {
   "cell_type": "code",
   "execution_count": null,
   "metadata": {},
   "outputs": [],
   "source": [
    "# Simulating system starting at X_0, Y_0 from time=0 to T_f using Euler's method\n",
    "T, X_euler = simulate(X_0, T_f, dXdT, find_next_point_Euler, dt=DT)"
   ]
  },
  {
   "cell_type": "code",
   "execution_count": null,
   "metadata": {},
   "outputs": [],
   "source": [
    "# First 10 timesteps\n",
    "T[:10]"
   ]
  },
  {
   "cell_type": "code",
   "execution_count": null,
   "metadata": {},
   "outputs": [],
   "source": [
    "# First 10 X values calculated by Euler's method \n",
    "X_euler[:10]"
   ]
  },
  {
   "cell_type": "markdown",
   "metadata": {},
   "source": [
    "### Graphing the Euler's method simulation"
   ]
  },
  {
   "cell_type": "code",
   "execution_count": null,
   "metadata": {},
   "outputs": [],
   "source": [
    "plot_solutions(10, [-4, -3, -2, -1, 0, 1, 2, 3, 4], dXdT, find_next_point_Euler)"
   ]
  },
  {
   "cell_type": "markdown",
   "metadata": {},
   "source": [
    "## Midpoint method aka Rundge Kutta order 2 (RK2)"
   ]
  },
  {
   "cell_type": "code",
   "execution_count": null,
   "metadata": {},
   "outputs": [],
   "source": [
    "# PROBLEM: write a function implimenting the midpoint method aka RK2\n",
    "\n",
    "def find_next_point_midpoint(x, dxdt, dt=DT):\n",
    "    ????\n",
    "    return(x_next)"
   ]
  },
  {
   "cell_type": "code",
   "execution_count": null,
   "metadata": {},
   "outputs": [],
   "source": [
    "plot_solutions(10, [-4, -3, -2, -1, 0, 1, 2, 3, 4], dXdT, [find_next_point_Euler, find_next_point_midpoint], colors=['.2', 'k'], dt=.5)"
   ]
  },
  {
   "cell_type": "markdown",
   "metadata": {},
   "source": [
    "## Possible solutions to notebook problems"
   ]
  },
  {
   "cell_type": "code",
   "execution_count": null,
   "metadata": {},
   "outputs": [],
   "source": [
    "# Functions implimenting Euler's method\n",
    "def find_next_point_Euler(x, dxdt, dt=DT):\n",
    "    x_next = x + dxdt(x)*dt\n",
    "    return(x_next)\n",
    "\n",
    "def simulate(x_0, t_f, dxdt, simulation_function, dt=DT):\n",
    "    X_solution = [x_0]\n",
    "    T = np.arange(0, t_f + dt, dt)\n",
    "    for t in T[1:]:\n",
    "        x_previous = X_solution[-1]\n",
    "        x_next = simulation_function(x_previous, dxdt, dt=dt)\n",
    "        X_solution.append(x_next)\n",
    "    return (T, X_solution)\n",
    "\n",
    "# Function implimenting the midpoint method aka RK2\n",
    "def find_next_point_midpoint(x, dxdt, dt=DT):\n",
    "    x_test = x + dxdt(x)*dt\n",
    "    x_next = x + dxdt((x + x_test)/2.)*dt\n",
    "    return(x_next)"
   ]
  }
 ],
 "metadata": {
  "kernelspec": {
   "display_name": "Python 3 (QN)",
   "language": "python",
   "name": "py3-qn"
  },
  "language_info": {
   "codemirror_mode": {
    "name": "ipython",
    "version": 3
   },
   "file_extension": ".py",
   "mimetype": "text/x-python",
   "name": "python",
   "nbconvert_exporter": "python",
   "pygments_lexer": "ipython3",
   "version": "3.8.5"
  }
 },
 "nbformat": 4,
 "nbformat_minor": 4
}
