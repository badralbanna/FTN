{
 "cells": [
  {
   "cell_type": "code",
   "execution_count": null,
   "metadata": {},
   "outputs": [],
   "source": []
  },
  {
   "cell_type": "markdown",
   "metadata": {},
   "source": [
    "# Example 2D neural models"
   ]
  },
  {
   "cell_type": "code",
   "execution_count": null,
   "metadata": {},
   "outputs": [],
   "source": [
    "# Setting current \n",
    "I = 0"
   ]
  },
  {
   "cell_type": "code",
   "execution_count": 15,
   "metadata": {},
   "outputs": [],
   "source": [
    "# SNIC\n",
    "\n",
    "X_LABEL = \"V\"\n",
    "Y_LABEL = \"w\"\n",
    "\n",
    "def DXDT(x, y, t):\n",
    "    return(20*(-x*(x-1)*(x-0.1) - y + I))\n",
    "    \n",
    "def DYDT(x, y, t):\n",
    "    return(20*.1*(x**4 - y))\n"
   ]
  },
  {
   "cell_type": "code",
   "execution_count": 22,
   "metadata": {},
   "outputs": [],
   "source": [
    "# Saddle/node\n",
    "\n",
    "X_LABEL = \"V\"\n",
    "Y_LABEL = \"w\"\n",
    "\n",
    "def DXDT(x, y, t):\n",
    "    return(20*(-x*(x-1)*(x-0.2) - y + I))\n",
    "    \n",
    "def DYDT(x, y, t):\n",
    "    return(20*.1862*(x**4 - y))"
   ]
  },
  {
   "cell_type": "code",
   "execution_count": 23,
   "metadata": {},
   "outputs": [],
   "source": [
    "# Supercirtical AH\n",
    "\n",
    "X_LABEL = \"V\"\n",
    "Y_LABEL = \"w\"\n",
    "\n",
    "def DXDT(x, y, t):\n",
    "    return(20*(-x*(x-1)*(x-0.1) - y + 0.0 + I))\n",
    "    \n",
    "def DYDT(x, y, t):\n",
    "    return(20*.1*(x - y)) "
   ]
  },
  {
   "cell_type": "code",
   "execution_count": 20,
   "metadata": {},
   "outputs": [],
   "source": [
    "# Subcritical AH\n",
    "\n",
    "X_LABEL = \"V\"\n",
    "Y_LABEL = \"w\"\n",
    "\n",
    "def DXDT(x, y, t):\n",
    "    return(20*(-x*(x-1)*(x-0.4) - y + .031 + I))\n",
    "    \n",
    "def DYDT(x, y, t):\n",
    "    return(20*.1*(2*x**4 - y))"
   ]
  }
 ],
 "metadata": {
  "kernelspec": {
   "display_name": "Python 3",
   "language": "python",
   "name": "python3"
  },
  "language_info": {
   "codemirror_mode": {
    "name": "ipython",
    "version": 3
   },
   "file_extension": ".py",
   "mimetype": "text/x-python",
   "name": "python",
   "nbconvert_exporter": "python",
   "pygments_lexer": "ipython3",
   "version": "3.8.5"
  }
 },
 "nbformat": 4,
 "nbformat_minor": 4
}
