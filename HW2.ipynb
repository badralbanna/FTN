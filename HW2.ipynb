{
 "cells": [
  {
   "cell_type": "markdown",
   "metadata": {},
   "source": [
    "# Homework 2\n",
    "\n",
    "In this homework, you'll get a chance to \n",
    "\n",
    "1. Run some numerical experiments with the HH model, \n",
    "2. Get a feel for ho to simplify the model to a lower dimension and represent its state \n",
    "3. Learn about the idea of _bifurcations_ in a 1D neural model and understand how these mathematical phenomena represent spiking thresholds and dynamics. "
   ]
  },
  {
   "cell_type": "code",
   "execution_count": null,
   "metadata": {},
   "outputs": [],
   "source": [
    "# Only run this cell on Colab, it downloads the package you need to run code from class \n",
    "!wget https://raw.githubusercontent.com/badralbanna/FTN/master/onedim.py"
   ]
  },
  {
   "cell_type": "code",
   "execution_count": null,
   "metadata": {},
   "outputs": [],
   "source": [
    "import numpy as np\n",
    "import matplotlib as mpl\n",
    "import matplotlib.pyplot as plt\n",
    "\n",
    "# Importing all the functions from class\n",
    "from onedim import *"
   ]
  },
  {
   "cell_type": "code",
   "execution_count": null,
   "metadata": {},
   "outputs": [],
   "source": [
    "# Setting plotting defaults\n",
    "\n",
    "# Make legend text small\n",
    "plt.rcParams['legend.fontsize'] = 'small' \n",
    "# Shrink axes labels a bit \n",
    "plt.rcParams['axes.labelsize'] = 'medium'\n",
    "plt.rcParams['xtick.labelsize'] = 'small'\n",
    "plt.rcParams['ytick.labelsize'] = 'small'\n",
    "# Set limits on when scientific notation is used\n",
    "plt.rcParams['axes.formatter.limits'] = [-2, 3] \n",
    "# Use LaTeX to format axes labels and numbers\n",
    "plt.rcParams['axes.formatter.use_mathtext'] = True\n",
    "# Get rid of spines on top and bottom\n",
    "plt.rcParams['axes.spines.top'] = False\n",
    "plt.rcParams['axes.spines.right'] = False\n",
    "# Ticks point in  \n",
    "plt.rcParams['xtick.direction'] = 'in'\n",
    "plt.rcParams['ytick.direction'] = 'in'\n",
    "# Change DPI of figure images\n",
    "plt.rcParams['figure.dpi'] = 150"
   ]
  },
  {
   "cell_type": "markdown",
   "metadata": {},
   "source": [
    "## Question 1: Experimenting with the HH model\n",
    "\n",
    "In this question, you'll get some practice using the HH model from class."
   ]
  },
  {
   "cell_type": "markdown",
   "metadata": {},
   "source": [
    "### 1.1 Implement a simple experiment  \n",
    "\n",
    "All you need to do for this question is write a function to implement one of the experimental current injections we discussed in class (ramp, sinusoidal, noise) and play around a bit with some of the paramaters (e.g. amplitude, etc.). Take notes on what you see and discuss in the text block below. "
   ]
  },
  {
   "cell_type": "code",
   "execution_count": null,
   "metadata": {},
   "outputs": [],
   "source": [
    "# JUST RUN THIS CELL\n",
    "# Setting paramaters\n",
    "\n",
    "## Capacitance (in micro-F/mm^2)\n",
    "c = 0.010\n",
    "\n",
    "## Conductances (in mS/mm^2)\n",
    "gL = 0.003\n",
    "gK = 0.036\n",
    "gNa = 1.2\n",
    "\n",
    "## Reversal potentials (in mV)\n",
    "eL = -70\n",
    "eK = -77\n",
    "eNa = 50\n",
    "\n",
    "# Membrane voltage dynamics\n",
    "def dVdt(V, n, m, h, t):\n",
    "    i_m = gL*(V-eL) + gK*(n**4)*(V-eK) + gNa*(m**3)*h*(V-eNa) \n",
    "    return((-i_m + i(t)) / c)\n",
    "\n",
    "# Voltage-gated channel subunit dynamics\n",
    "\n",
    "def alpha_n(V):\n",
    "    return(0.01*(V + 55) / (1 - np.exp(-0.1*(V + 55))))\n",
    "\n",
    "def beta_n(V):\n",
    "    return(0.125*np.exp(-0.0125*(V + 65)))\n",
    "\n",
    "def dndt(V, n):\n",
    "    delta = alpha_n(V)*(1.0-n) - beta_n(V)*n\n",
    "    if (delta > 1.-n) or (n>1.):\n",
    "        delta = 1.-n\n",
    "    elif (delta < -n) or (n<0):\n",
    "        delta = -n\n",
    "    return(delta) \n",
    "\n",
    "def alpha_m(V):\n",
    "    return(0.1*(V + 40) / (1 - np.exp(-0.1*(V + 40))))\n",
    "\n",
    "def beta_m(V):\n",
    "    return(4*np.exp(-0.0556*(V + 65)))\n",
    "\n",
    "def dmdt(V, m):\n",
    "    delta = alpha_m(V)*(1.0-m) - beta_m(V)*m\n",
    "    if (delta > 1.-m) or (m>1.):\n",
    "        delta = 1. - m\n",
    "    elif (delta < -m) or (m<0.):\n",
    "        delta = -m\n",
    "    return(delta) \n",
    "\n",
    "def alpha_h(V):\n",
    "    return(0.07*np.exp(-0.05*(V + 65)))\n",
    "\n",
    "def beta_h(V):\n",
    "    return(1 / (1 + np.exp(-0.1*(V + 35))))\n",
    "\n",
    "def dhdt(V, h):\n",
    "    delta = alpha_h(V)*(1.0-h) - beta_h(V)*h\n",
    "    if (delta > 1.-h) or (h>1.):\n",
    "        delta = 1.-h\n",
    "    elif (delta < -h) or (h<0.):\n",
    "        delta = -h\n",
    "    return(delta) \n",
    "\n",
    "# Putting all the dynamics together into one function\n",
    "def dSdt(V, n, m, h, t):\n",
    "    return(np.array([dVdt(V, n, m, h, t), dndt(V, n), dmdt(V, m), dhdt(V, h), 1.]))"
   ]
  },
  {
   "cell_type": "code",
   "execution_count": null,
   "metadata": {},
   "outputs": [],
   "source": [
    "# JUST RUN THIS CELL\n",
    "# Simulation functions \n",
    "DT = 0.1\n",
    "\n",
    "# Function implimenting the midpoint method aka RK2\n",
    "def find_next_point_midpoint(s, dsdt, dt=DT):\n",
    "    s_test = s + dsdt(*s)*dt\n",
    "    s_next = s + dsdt(*((s + s_test)/2.))*dt\n",
    "    return(s_next)\n",
    "\n",
    "# Simulation function\n",
    "def simulate(s_0, t_f, dsdt=dSdt, simulation_function=find_next_point_midpoint, dt=DT, verbose=False):\n",
    "    S_solution = [s_0]\n",
    "    T = np.arange(s_0[-1], t_f + dt, dt)\n",
    "    for t in T[1:]:\n",
    "        s_previous = S_solution[-1]\n",
    "        s_next = simulation_function(s_previous, dsdt, dt=dt)\n",
    "        if verbose:\n",
    "            print(s_next)\n",
    "        S_solution.append(s_next)\n",
    "    S_solution = np.array(S_solution)\n",
    "    return(S_solution)"
   ]
  },
  {
   "cell_type": "code",
   "execution_count": null,
   "metadata": {},
   "outputs": [],
   "source": [
    "# EDIT THIS CELL\n",
    "# Functions defining external current\n",
    "\n",
    "## Experimental current\n",
    "def make_experimental_i(???):\n",
    "    def i_e(t):\n",
    "       ???\n",
    "    return(i_e)\n",
    "\n",
    "# Setting paramaters\n",
    "\n",
    "## External current function (in micro-A/mm^2)\n",
    "i = make_experimental_i(???)"
   ]
  },
  {
   "cell_type": "code",
   "execution_count": null,
   "metadata": {},
   "outputs": [],
   "source": [
    "# EDIT AS NEEDED AND RUN\n",
    "## starting values for V, n, m, h, t\n",
    "S_0 = [-80, 0, 0, 0, 0]\n",
    "\n",
    "## Final value for T\n",
    "T_f = 100 # in ms\n",
    "\n",
    "## Simulating all other time points\n",
    "S = simulate(S_0, T_f, verbose=False)\n",
    "\n",
    "## Saving out simulation results as individual variables\n",
    "V = S[:,0]\n",
    "n = S[:,1]\n",
    "m = S[:,2]\n",
    "h = S[:,3]\n",
    "T = S[:,4]"
   ]
  },
  {
   "cell_type": "code",
   "execution_count": null,
   "metadata": {},
   "outputs": [],
   "source": [
    "# JUST RUN THIS CELLTO GENERATE PLOTS\n",
    "fig, (ax_i, ax_v, ax_c, ax_c2) = plt.subplots(nrows=4, sharex=True)\n",
    "\n",
    "## Plotting current\n",
    "ax_i.plot(T, [i(t) for t in T], c='orange', label=\"$i_e$\")\n",
    "ax_i.legend()\n",
    "ax_i.set_ylabel(\"$\\\\mathrm{\\mu A}/\\\\mathrm{mm^2}$\")\n",
    "\n",
    "## Plotting membrane voltage\n",
    "ax_v.plot(T, V, c='k', label=\"$V$\")\n",
    "ax_v.legend()\n",
    "ax_v.set_ylabel(\"$\\\\mathrm{mV}$\")\n",
    "\n",
    "## Plotting activation and inactivation gates\n",
    "ax_c.plot(T, n, c='blue', label=\"$n$\")\n",
    "ax_c.plot(T, m, c='green', label=\"$m$\")\n",
    "ax_c.plot(T, h, c='green', ls=':', label=\"$h$\")\n",
    "ax_c.legend()\n",
    "ax_c.set_ylabel(\"Prob.\")\n",
    "\n",
    "## Plotting conductances\n",
    "ax_c2.plot(T, gK*n**4, c='blue', label=\"$\\\\bar{g}_{K} n^4$\")\n",
    "ax_c2.plot(T, gNa*m**3*h, c='green', label=\"$\\\\bar{g}_{Na} m^3h$\")\n",
    "ax_c2.legend()\n",
    "ax_c2.set_ylabel(\"$\\\\mathrm{mS}/\\\\mathrm{mm}^2$\")\n",
    "\n",
    "ax_c2.set_xlabel(\"Time (ms)\")"
   ]
  },
  {
   "cell_type": "code",
   "execution_count": null,
   "metadata": {},
   "outputs": [],
   "source": [
    "# RUN THIS CELL, YOU CAN USE THIS FUNCTION TO FIND TIMES OF ACTION POTENTIALS\n",
    "# Function to find action potential times\n",
    "from scipy.signal import find_peaks\n",
    "\n",
    "def AP_times(V, T, dt=DT):\n",
    "    return(T[find_peaks(V, height=0, width=int(1./dt))[0]])"
   ]
  },
  {
   "cell_type": "code",
   "execution_count": null,
   "metadata": {},
   "outputs": [],
   "source": [
    "AP_times(V, T)"
   ]
  },
  {
   "cell_type": "code",
   "execution_count": null,
   "metadata": {},
   "outputs": [],
   "source": [
    "# Code block if needed"
   ]
  },
  {
   "cell_type": "markdown",
   "metadata": {},
   "source": [
    "**Discuss your results here**"
   ]
  },
  {
   "cell_type": "markdown",
   "metadata": {},
   "source": [
    "### 1.2 Derive the firing rate vs. injected current curve for a HH neuron\n",
    "\n",
    "Now we'd like to do something a bit more systematic with our HH neuron, namely find the firing rate versus the amplitude of injected current. As we discussed briefly in class, there is a current below which the cell will never fire (the _rheobase_) but above that value the cell will fire and increase its firing rate as teh injected current increases. The question is what happens at the transition from not-firing to firing: does it smoothly rise from a firing rate of 0 or is there a sudden jump? This is a key distinction of the behavior of so-called Type I neurons and Type II neurons that goes along with many other important differences. "
   ]
  },
  {
   "cell_type": "code",
   "execution_count": null,
   "metadata": {},
   "outputs": [],
   "source": [
    "# EDIT THE CELL BELOW TO RUN THE EXPERIMENT FOR THE VALUES IN `i_max_values` AND\n",
    "# SAVE FIRING RATES TO `firing_rates`\n",
    "\n",
    "def make_step_i(t_s, t_f, i_max):\n",
    "    def i_e(t):\n",
    "        if (t>=t_s) & (t<t_f):\n",
    "            return i_max\n",
    "        else:\n",
    "            return 0\n",
    "    return(i_e)\n",
    "\n",
    "i_max_values = np.linspace(0.0, 0.05, 40)\n",
    "firing_rates = [] # this is the list to collect the firing rates\n",
    "T_f = 420 # trial length is 20 ms to stabilize plus 200 ms of current \n",
    "\n",
    "for i_max in i_max_values:\n",
    "    i = ???? # Set the currrent function according to i_max\n",
    "    # Initialize starting simulation values\n",
    "    # Run the simulation and savce results to a variable\n",
    "    # Save out membrane voltage as `V`\n",
    "    # Save out times as `T`\n",
    "    spike_times = AP_times(V, T) # Finding the spike times\n",
    "    firing_rate = ???? # Calculate the firing rate in spikes/s\n",
    "    # Add this value to list of firing rates\n",
    "    \n",
    "print(firing_rates)"
   ]
  },
  {
   "cell_type": "code",
   "execution_count": null,
   "metadata": {},
   "outputs": [],
   "source": [
    "# EDIT TO MAKE A SCATTER PLOT OF FIRING RATE VERSUS CURRENT (MAKE SURE TO LABEL AXES ETC)\n",
    "fig, ax = plt.subplots()\n",
    "ax.scatter(i_max_values, firing_rates)\n",
    "ax.set_ylabel(\"iring rate ($1/\\mathrm{s}$)\")\n",
    "ax.set_xlabel(\"Injected current ($\\mu \\mathrm{A}$/$\\mathrm{mm}^2$)\")"
   ]
  },
  {
   "cell_type": "markdown",
   "metadata": {},
   "source": [
    "**According to your plot, roughly where is the rheobase (min current to fire) for out HH neuron?**"
   ]
  },
  {
   "cell_type": "markdown",
   "metadata": {},
   "source": [
    "**According to your plot, discuss whether the HH model with standard paramaters is a Type I (smooth rise) or Type II (sudden jump) neuron.**"
   ]
  },
  {
   "cell_type": "markdown",
   "metadata": {},
   "source": [
    "## Question 2: Simplifying the HH model\n",
    "\n",
    "In this problem I'd like you to simplify the 4D HH model to something similar using the methods we described in class. \n",
    "\n",
    "In class we observed that $n(t)$ and $h(t)$ are highly correlated in the model. Specifically we found that \n",
    "\n",
    "$$h = -0.906 n + 0.776$$\n",
    "\n",
    "Moreover we argued that we should be able to replace $m(t)$ with its asymptotic values $m_\\infty(V)$. These two replacements would make our 4D model (+ time) into a 2D model (+ time). \n",
    "\n",
    "In a 2D neural model with $V$ and one other variable. The other variable is referred to as the _recovery variable_. In our simplified model $n$ is the recovery variable.\n",
    "\n",
    "_(Note: The numerical stability may not be the same as the original HH model so you may need to tweak the simulation timestep `dt` when you run `simulate` in order to get this to work)_"
   ]
  },
  {
   "cell_type": "markdown",
   "metadata": {},
   "source": [
    "### 2.1 Changing the dynamics"
   ]
  },
  {
   "cell_type": "code",
   "execution_count": null,
   "metadata": {},
   "outputs": [],
   "source": [
    "# COMPLETE `dVdt_simple` BELOW\n",
    "# Setting paramaters\n",
    "\n",
    "## Capacitance (in micro-F/mm^2)\n",
    "c = 0.010\n",
    "\n",
    "## Conductances (in mS/mm^2)\n",
    "gL = 0.003\n",
    "gK = 0.036\n",
    "gNa = 1.2\n",
    "\n",
    "## Reversal potentials (in mV)\n",
    "eL = -70\n",
    "eK = -77\n",
    "eNa = 50\n",
    "\n",
    "def alpha_m(V):\n",
    "    return(0.1*(V + 40) / (1 - np.exp(-0.1*(V + 40))))\n",
    "\n",
    "def beta_m(V):\n",
    "    return(4*np.exp(-0.0556*(V + 65)))\n",
    "\n",
    "# Asymptotic form for m\n",
    "def m_inf(V):\n",
    "    return(alpha_m(V) / (alpha_m(V) + beta_m(V)))\n",
    "\n",
    "# Membrane voltage dynamics\n",
    "## COMPLETE THIS EQUATION \n",
    "def dVdt_simple(V, n, t):\n",
    "    i_m = gL*(V-eL) + gK*(n**4)*(V-eK) + gNa*????*(V-eNa) \n",
    "    return((-i_m + i(t)) / c)\n",
    "\n",
    "# Voltage-gated channel subunit dynamics for n\n",
    "def alpha_n(V):\n",
    "    return(0.01*(V + 55) / (1 - np.exp(-0.1*(V + 55))))\n",
    "\n",
    "def beta_n(V):\n",
    "    return(0.125*np.exp(-0.0125*(V + 65)))\n",
    "\n",
    "def dndt(V, n):\n",
    "    delta = alpha_n(V)*(1.0-n) - beta_n(V)*n\n",
    "    if (delta > 1.-n) or (n>1.):\n",
    "        delta = 1.-n\n",
    "    elif (delta < -n) or (n<0):\n",
    "        delta = -n\n",
    "    return(delta)\n",
    "\n",
    "# Putting all the dynamics together into one function\n",
    "def dSdt_simple(V, n, t):\n",
    "    return(np.array([dVdt_simple(V, n, t), dndt(V, n), 1.]))"
   ]
  },
  {
   "cell_type": "markdown",
   "metadata": {},
   "source": [
    "### 2.2. Simulate the result\n",
    "\n",
    "Simulate the new simplified model using the same experiment you show in **1.1** for the full model. "
   ]
  },
  {
   "cell_type": "code",
   "execution_count": null,
   "metadata": {},
   "outputs": [],
   "source": [
    "# EDIT AS NEEDED AND RUN\n",
    "## starting values for V, n, t\n",
    "S_0_simple = [-80, 0, 0]\n",
    "\n",
    "## Final value for T\n",
    "T_f = 100 # in ms\n",
    "\n",
    "## Simulating all other time points using our simpler dynamics\n",
    "S = simulate(S_0_simple, T_f, dsdt=dSdt_simple, verbose=False)\n",
    "\n",
    "## Saving out simulation results as individual variables\n",
    "V = S[:,0]\n",
    "n = S[:,1]\n",
    "T = S[:,4]"
   ]
  },
  {
   "cell_type": "code",
   "execution_count": null,
   "metadata": {},
   "outputs": [],
   "source": [
    "# JUST RUN THIS CELL TO GENERATE PLOTS fOR SIMPLIFIED MODEL\n",
    "fig, (ax_i, ax_v, ax_n) = plt.subplots(nrows=3, sharex=True)\n",
    "\n",
    "## Plotting current\n",
    "ax_i.plot(T, [i(t) for t in T], c='orange', label=\"$i_e$\")\n",
    "ax_i.legend()\n",
    "ax_i.set_ylabel(\"$\\\\mathrm{\\mu A}/\\\\mathrm{mm^2}$\")\n",
    "\n",
    "## Plotting membrane voltage\n",
    "ax_v.plot(T, V, c='k', label=\"$V$\")\n",
    "ax_v.legend()\n",
    "ax_v.set_ylabel(\"$\\\\mathrm{mV}$\")\n",
    "\n",
    "## Plotting recorvery variable\n",
    "ax_n.plot(T, n, c='blue', label=\"$n$\")\n",
    "ax_n.legend()\n",
    "ax_n.set_ylabel(\"Prob.\")\n",
    "\n",
    "ax_n.set_xlabel(\"Time (ms)\")"
   ]
  },
  {
   "cell_type": "markdown",
   "metadata": {},
   "source": [
    "**Discuss your reduced model in coparison to the full model above**"
   ]
  },
  {
   "cell_type": "markdown",
   "metadata": {},
   "source": [
    "### 2.3 Plotting the n, V phase plane\n",
    "\n",
    "In the next two weeks we'll be looking at a lot of 2D phase planes. Plot the trajectory of your solution in 2D with $n$ vs. $V$."
   ]
  },
  {
   "cell_type": "code",
   "execution_count": null,
   "metadata": {},
   "outputs": [],
   "source": [
    "## MAKE APLOT FROM SCRATCH OF N VERSUS V (LABEL AXES, ETC.)\n",
    "\n"
   ]
  },
  {
   "cell_type": "markdown",
   "metadata": {},
   "source": [
    "**Discuss what the trajectory does in the phase plane as the neuron is spiking.**"
   ]
  },
  {
   "cell_type": "markdown",
   "metadata": {},
   "source": [
    "## Question 3: bifurcations and bistability in a simple 1D neuron model\n",
    "\n",
    "In the coming two weeks we'll talk about how 2D models go from \"sitting at rest\" to \"spiking\" as the current increases. In the language of dynamical systems, the stable critical point at rest becomes unstable as the current is increased. This is what is referred as a _bifurcation_. \n",
    "\n",
    "To get at this idea, we'll consider a very simplified 1D model for a neuron with only a leak current, and a fast Na channel. This neuron will simulate the upswing of the action potential. In addition to exhibiting a _bifurcation_ as the current increase it will be _bistable_ in that it permits to stable critical points: rest and \"firing\". \n",
    "\n",
    "The equation for this simple model is as follows:\n",
    "\n",
    "$$c_m \\frac{dV}{dt} = - g_L (V - E_L) - \\bar{g}_{Na} m_\\inf (V) (V - E_{Na}) + I$$\n",
    "\n",
    "For a rat pyramidal neuron the following values apply\n",
    "\n",
    "$$c_m = 0.010\\;\\textrm{mF}$$\n",
    "\n",
    "$$g_L = 0.19\\;\\textrm{mF}, E_L=-67\\;\\textrm{mV}$$\n",
    "\n",
    "$$\\bar{g}_{Na} = 0.74\\;\\textrm{mF}, E_{Na}= 60\\;\\textrm{mV}$$\n",
    "\n",
    "and \n",
    "\n",
    "$$m_\\inf(V) = \\frac{1}{1 + \\exp((V_{1/2} - V) / k)}$$\n",
    "\n",
    "where \n",
    "\n",
    "$$V_{1/2}=1.5\\;\\textrm{mV}, k=16\\;\\textrm{mV}$$. "
   ]
  },
  {
   "cell_type": "markdown",
   "metadata": {},
   "source": [
    "### 3.1 Plot $\\frac{dV}{dt}$ when $i = 0$, discuss dynamics"
   ]
  },
  {
   "cell_type": "code",
   "execution_count": null,
   "metadata": {},
   "outputs": [],
   "source": [
    "c = 0.10\n",
    "g_L = 0.19\n",
    "E_L = -67\n",
    "g_Na = 0.74\n",
    "E_Na = 60\n",
    "\n",
    "V12 = 1.5\n",
    "k = 16\n",
    "\n",
    "# WRITE FUNCTIONS FOR `m_inf(V)` and `dVdt(V)`\n",
    "def m_inf(V):\n",
    "    return(1 / (1 + np.exp((V12 - V)/k)))\n",
    "\n",
    "def dVdt(V):\n",
    "    i_m = g_L*(V - E_L) + g_Na*m_inf(V)*(V - E_Na)\n",
    "    return((-i_m + i)/c)"
   ]
  },
  {
   "cell_type": "code",
   "execution_count": null,
   "metadata": {},
   "outputs": [],
   "source": [
    "# JUST RUN THIS CELL TO MAKE A PLOT OF THE PHASE SPACE FOR THIS SYSTEM\n",
    "i = 0\n",
    "\n",
    "plot_1D_phase_space(dVdt, xlim=(-60, 60), x_label=\"Voltage\", res_c=1)"
   ]
  },
  {
   "cell_type": "markdown",
   "metadata": {},
   "source": [
    "### 3.2 Discuss what you see in the phase space\n",
    "\n",
    "What do the two stable critical points represent here (in the terms that we use to talk about real neurons)? What happens to cells that start with a membrane voltage below the unstable critical point? What about those that start above? What does the unstable critical point that seperates the two stable points represent in the terms that we use to talk about real neurons)."
   ]
  },
  {
   "cell_type": "markdown",
   "metadata": {},
   "source": [
    "**Put your answer here. Feel free to render any other figures you like using the 1D simulations functions (these have already been loaded into this notebook)**"
   ]
  },
  {
   "cell_type": "markdown",
   "metadata": {},
   "source": [
    "### 3.3 What happens when $i$ increases? \n",
    "\n",
    "How does this picture change as $i$ increases? at what value for $i$ will you see a _qualititative_ change in the dynamics (i.e. critical points appear/dissapear = a bifurcation). How would a cell behave if $i$ is held above this value? What if it is held above this value for a period and then dropped back to $i=0$?"
   ]
  },
  {
   "cell_type": "markdown",
   "metadata": {},
   "source": [
    "**Put your answer here. Feel free to render any other figures you like using the 1D simulations functions (these have already been loaded into this notebook)**"
   ]
  },
  {
   "cell_type": "code",
   "execution_count": null,
   "metadata": {},
   "outputs": [],
   "source": []
  }
 ],
 "metadata": {
  "kernelspec": {
   "display_name": "Python 3 (QN)",
   "language": "python",
   "name": "py3-qn"
  },
  "language_info": {
   "codemirror_mode": {
    "name": "ipython",
    "version": 3
   },
   "file_extension": ".py",
   "mimetype": "text/x-python",
   "name": "python",
   "nbconvert_exporter": "python",
   "pygments_lexer": "ipython3",
   "version": "3.8.2"
  }
 },
 "nbformat": 4,
 "nbformat_minor": 4
}
