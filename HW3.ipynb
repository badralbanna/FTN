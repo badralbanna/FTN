{
 "cells": [
  {
   "cell_type": "markdown",
   "metadata": {},
   "source": [
    "# Homework 3\n",
    "\n",
    "On this Homework you'll get a chance to \n",
    "\n",
    "1. Practice some of your newfound skills interpreting matricies as linear transformations in 2D\n",
    "2. Connect the action of these 2D matricies to their dynamics when they are used to represent the equations of motion for a 2D system. \n",
    "3. Draw phase space diagrams for a non-linear 2D dynamical system\n",
    "4. Characterize the dynamics around the rest state for the Fitzhugh-Nagumo model. \n",
    "5. Examine the dynamics of saddle-node and saddle-node-around "
   ]
  },
  {
   "cell_type": "markdown",
   "metadata": {},
   "source": [
    "## Setting up the notbeook"
   ]
  },
  {
   "cell_type": "code",
   "execution_count": null,
   "metadata": {},
   "outputs": [],
   "source": [
    "# Only run this cell on Colab, it downloads the package you need to run code from class \n",
    "!wget https://raw.githubusercontent.com/badralbanna/FTN/master/onedim.py\n",
    "!wget https://raw.githubusercontent.com/badralbanna/FTN/master/ndim.py\n",
    "!wget https://raw.githubusercontent.com/badralbanna/FTN/master/lintrans.py\n",
    "!wget https://raw.githubusercontent.com/badralbanna/FTN/master/HH.py"
   ]
  },
  {
   "cell_type": "code",
   "execution_count": 4,
   "metadata": {},
   "outputs": [],
   "source": [
    "import numpy as np\n",
    "import matplotlib as mpl\n",
    "import matplotlib.pyplot as plt\n",
    "\n",
    "# Importing all the functions from class\n",
    "from onedim import *\n",
    "from ndim import *\n",
    "from lintrans import *\n",
    "from HH import *"
   ]
  },
  {
   "cell_type": "markdown",
   "metadata": {},
   "source": [
    "## Question 1: Interpreting 2x2 linear tranformations\n",
    "\n",
    "In this problem, you'll use the methods discussed in class to characterize what a given linear transformation is doing geometrically. For each of the matricies below:\n",
    "\n",
    "1. Find $M$'s action on the basis vectors $\\hat{x} = (1,0)$ and $\\hat{y} = (0,1)$ (i..e find $M\\hat{x}$ and $M\\hat{y}$ )\n",
    "2. Find $M$'s determinant (i.e. $||M||$)\n",
    "3. Find $M$'s trace (i.e. $Tr(M)$)\n",
    "4. Based on these results, discuss what type of transformation $M$ is, in other words what is it doing geometrically?\n",
    "5. Calculate $M\\vec{v}$ where $\\vec{v} = (2,3)$ and discuss briefly whether your result makes sense given your geometrical interpretation. "
   ]
  },
  {
   "cell_type": "markdown",
   "metadata": {},
   "source": [
    "### 1.1\n",
    "\n",
    "$$M = \\begin{bmatrix} -2 & 5 \\\\ 0 & 3 \\end{bmatrix}$$"
   ]
  },
  {
   "cell_type": "code",
   "execution_count": null,
   "metadata": {},
   "outputs": [],
   "source": []
  },
  {
   "cell_type": "markdown",
   "metadata": {},
   "source": [
    "### 1.2\n",
    "\n",
    "$$M = \\begin{bmatrix} 2 & 9 \\\\ -2 & -4 \\end{bmatrix}$$"
   ]
  },
  {
   "cell_type": "code",
   "execution_count": null,
   "metadata": {},
   "outputs": [],
   "source": []
  },
  {
   "cell_type": "markdown",
   "metadata": {},
   "source": [
    "## Question 2: Eigenvectors and Eigenvalues\n",
    "\n",
    "For each of the matrices in the previous question:\n",
    "\n",
    "1. Find the eigenvalues and eigenvectors associated with that matrix. If there are no real eigenvectors explain why. Be sure to normalize the eigenvectors (in other words set their length equal to 1 by dividing by their original length). \n",
    "2. If there are real eigenvectors, show directly that $M$ rescales the eigenvectors by a factor $\\lambda$ as it should."
   ]
  },
  {
   "cell_type": "markdown",
   "metadata": {},
   "source": [
    "### 2.1"
   ]
  },
  {
   "cell_type": "markdown",
   "metadata": {},
   "source": []
  },
  {
   "cell_type": "markdown",
   "metadata": {},
   "source": [
    "### 2.2"
   ]
  },
  {
   "cell_type": "markdown",
   "metadata": {},
   "source": []
  },
  {
   "cell_type": "markdown",
   "metadata": {},
   "source": [
    "## Question 3: 2D Linear dynamics\n",
    "\n",
    "If the matricies above are taken to represent the dynamics of a linear 2D dynamical system, i.e. \n",
    "\n",
    "$$ \\frac{d\\vec{x}}{dt} = M \\vec{v}$$\n",
    "\n",
    "a.k.a \n",
    "\n",
    "$$\n",
    "\\begin{bmatrix} \\frac{dx}{dt} \\\\ \\frac{dy}{dt} \\end{bmatrix}\n",
    "= \n",
    "\\begin{bmatrix} a & b \\\\ c & d \\end{bmatrix}\n",
    "\\begin{bmatrix} x \\\\ y \\end{bmatrix}\n",
    "$$\n",
    "\n",
    "For each of the three matricies above \n",
    "\n",
    "1. Using only the matrix itself (i.e. no simulations), discuss whether the dynamics represented by will be a stable, unstable, saddle, sprial in, or spiral out. \n",
    "2. Construct a plot using `plot_2D_solutions` demonstrating that it does in fact have the dynamics you argued in the previous part"
   ]
  },
  {
   "cell_type": "markdown",
   "metadata": {},
   "source": [
    "### 3.1 "
   ]
  },
  {
   "cell_type": "code",
   "execution_count": null,
   "metadata": {},
   "outputs": [],
   "source": []
  },
  {
   "cell_type": "markdown",
   "metadata": {},
   "source": [
    "### 3.2"
   ]
  },
  {
   "cell_type": "code",
   "execution_count": null,
   "metadata": {},
   "outputs": [],
   "source": []
  },
  {
   "cell_type": "markdown",
   "metadata": {},
   "source": [
    "## Question 4: A more flexible look at springs and masses\n",
    "\n",
    "In class we discussed the classic spring and mass system as an example of an oscillating system - something that must be represented by at least a 2D dynamical system. In the case we considered we took the dynamics to be simply \n",
    "\n",
    "$$\n",
    "\\begin{align}\n",
    "\\frac{dx}{dt} & = v \\\\\n",
    "\\frac{dv}{dt} & = -x \\\\\n",
    "\\end{align}\n",
    "$$\n",
    "\n",
    "In this case we showed that the matrix which represents this system is a rotation and the dynamics this corresponds to are stable osicllations around the origin. One way we can see this is that the matrix repreenting the dynamics has eigenvalues of $\\pm i$. \n",
    "\n",
    "In general, if the mass oscillates with an angular frequency $\\omega$ (FYI: if $f$ is the regular frequency, $2 \\pi f = \\omega$ ) the equations are actually,  \n",
    "\n",
    "$$\n",
    "\\begin{align}\n",
    "\\frac{dx}{dt} & = v \\\\\n",
    "\\frac{dv}{dt} & = -\\omega^2 x \\\\\n",
    "\\end{align}\n",
    "$$\n",
    "\n",
    "assuming friction is neglidgable. \n",
    "\n",
    "\n"
   ]
  },
  {
   "cell_type": "markdown",
   "metadata": {},
   "source": [
    "### 4.1\n",
    "\n",
    "Find the eigenvalues of this, more general, oscillator. We've already said in class that the the real part of the eigenvalues represents whether the oscillation is stable or not (i.e. a negative real part indicates a stable spiral, a positive real part indicates an unstable spiral, and real part = 0 indicates stable orbits). What does your answer suggest about how we should interpret the  \n"
   ]
  },
  {
   "cell_type": "markdown",
   "metadata": {},
   "source": []
  },
  {
   "cell_type": "markdown",
   "metadata": {},
   "source": [
    "### 4.2 (BONUS) \n",
    "\n",
    "If you add friction, the equations of motion become\n",
    "\n",
    "$$\n",
    "\\begin{align}\n",
    "\\frac{dx}{dt} & = v \\\\\n",
    "\\frac{dv}{dt} & = -\\omega_0^2 x - b v\\\\\n",
    "\\end{align}\n",
    "$$\n",
    "\n",
    "where $b>0$ represents the strength of friction $\\omega_0$ is the angular frequency without friction. (why do these make sense?)\n",
    "\n",
    "1. How do we see that with friction the system should decay in amplitude?\n",
    "2. For what values of $b$ will the system still show oscillatory behavior? What happens when it doesn't?\n",
    "3. When it is oscillating is the frequency the same as without friction ($\\omega_0$)? Why or why not? "
   ]
  },
  {
   "cell_type": "markdown",
   "metadata": {},
   "source": []
  },
  {
   "cell_type": "markdown",
   "metadata": {},
   "source": [
    "## Question 5: Linearizing the rest state of the Fizhugh-Nagumo model \n",
    "\n",
    "In class, we discussed the classic Fitzhugh-Nagumo model paramaterized by the variables $a$, $b$, and $c$\n",
    "\n",
    "$$\n",
    "\\begin{align}\n",
    "\\frac{dV}{dt} & = -V(V-1)(V-a) - w + I \\\\\n",
    "\\frac{dw}{dt} & = bV - cw \\\\\n",
    "\\end{align}\n",
    "$$"
   ]
  },
  {
   "cell_type": "markdown",
   "metadata": {},
   "source": [
    "### 5.1: Plotting the nullclines\n",
    "\n",
    "Plot the nullclines for the parameters \n",
    "\n",
    "$$\n",
    "\\begin{align}\n",
    "a & = 0.1 \\\\\n",
    "b & = 0.01 \\\\\n",
    "c & = 0.02 \\\\\n",
    "I & = 0\n",
    "\\end{align}\n",
    "$$\n",
    "\n",
    "And show that there is only one critical point at $(0,0)$ (meaning this should represent the resting state)."
   ]
  },
  {
   "cell_type": "code",
   "execution_count": null,
   "metadata": {},
   "outputs": [],
   "source": []
  },
  {
   "cell_type": "markdown",
   "metadata": {},
   "source": [
    "### 5.2: Linearizing the rest state \n",
    "\n",
    "Show that if you linearize the equations at the origin the dynamics are represented (in general) by \n",
    "\n",
    "$$ M = \n",
    "\\begin{bmatrix} -a & -1 \\\\ b & -c \\end{bmatrix}\n",
    "$$\n",
    "\n",
    "Describe the dynamics near rest for the values above.\n",
    "\n",
    "Verify this directly by plotting a few simulations under these conditions. "
   ]
  },
  {
   "cell_type": "code",
   "execution_count": null,
   "metadata": {},
   "outputs": [],
   "source": []
  },
  {
   "cell_type": "markdown",
   "metadata": {},
   "source": [
    "### 5.3: Observing the rest state bifurcation\n",
    "\n",
    "Given that there is only one fixed point at rest the transition to an excitable state must be caused by a Hopf bifurcation. Demonstrate through simulation (using `plot_2D_solutions`) and numerical calculations (using `find_all_2D_critcal_eigenvalues_and_eigenvectors`) that such a bifurcation exists and determine approximately what value of $I$ the bifuraction (transition to a spiking state) exists.  "
   ]
  },
  {
   "cell_type": "code",
   "execution_count": null,
   "metadata": {},
   "outputs": [],
   "source": []
  },
  {
   "cell_type": "markdown",
   "metadata": {},
   "source": [
    "### 5.4: Is FN monostable or bistable? \n",
    "\n",
    "Determine empirically through simulation (using `plot_2D_solutions`) whether FN is monostable or bistable in the resting state.  "
   ]
  },
  {
   "cell_type": "code",
   "execution_count": null,
   "metadata": {},
   "outputs": [],
   "source": []
  },
  {
   "cell_type": "markdown",
   "metadata": {},
   "source": [
    "## Question 6: Welcome to build-a-neuron! \n",
    "\n",
    "Below are two simple 2D neural models. In both models the $V$ dynamics are identical to FN although with two different values for $a$ (there is also a scale factor so time resembles ms). The recovery variable $w$ has a quartic dependance on \n",
    "\n",
    "* What type of model?\n",
    "* Which is monostable bistable?\n",
    "* demonstrate f-I curve"
   ]
  },
  {
   "cell_type": "code",
   "execution_count": 5,
   "metadata": {},
   "outputs": [],
   "source": [
    "# Neuron model 1\n",
    "\n",
    "X_LABEL = \"V\"\n",
    "Y_LABEL = \"w\"\n",
    "i = make_static_i(0)\n",
    "\n",
    "def DXDT_1(x, y, t):\n",
    "    return(20*(-x*(x-1)*(x-0.1) - y + i(t)))\n",
    "    \n",
    "def DYDT_1(x, y, t):\n",
    "    return(2.0*(x**4 - y))\n",
    "\n",
    "def X_nullcline_1(x, t=0):\n",
    "    return(DXDT_1(x, 0, t) / 20)\n",
    "\n",
    "def Y_nullcline_1(x, t=0):\n",
    "    return(DYDT_1(x, 0, t) / 2.0)"
   ]
  },
  {
   "cell_type": "code",
   "execution_count": 6,
   "metadata": {},
   "outputs": [],
   "source": [
    "# Neuron model 2\n",
    "\n",
    "X_LABEL = \"V\"\n",
    "Y_LABEL = \"w\"\n",
    "i = make_static_i(0)\n",
    "\n",
    "def DXDT(x, y, t):\n",
    "    return(20*(-x*(x-1)*(x-0.2) - y + i(t)))\n",
    "    \n",
    "def DYDT(x, y, t):\n",
    "    return(3.724*(x**4 - y))\n",
    "\n",
    "def X_nullcline_1(x, t=0):\n",
    "    return(DXDT_2(x, 0, t) / 20)\n",
    "\n",
    "def Y_nullcline_2(x, t=0):\n",
    "    return(DYDT_1(x, 0, t) / 3.724)"
   ]
  },
  {
   "cell_type": "markdown",
   "metadata": {},
   "source": [
    "### 6.1 What type of neurons are these? \n",
    "\n",
    "Plot the phase spaces (`plot_2D_phase_space`), nullclines (manually, plot_2D_space retruns at `ax` that you can plot more graphs on via `ax.plot`), and characterize the critical points of these model (`find_all_2D_critcal_eigenvalues_and_eigenvectors`). \n",
    "\n",
    "1. What type of neurons could these be (Saddle/node, saddle/node-on-invariant-circle, supercritical Hopf, subcritical Hopf)? \n",
    "2. Given your answer what can we already say about their neuro-computational properties? What remains to be determined?  "
   ]
  },
  {
   "cell_type": "code",
   "execution_count": null,
   "metadata": {},
   "outputs": [],
   "source": []
  },
  {
   "cell_type": "markdown",
   "metadata": {},
   "source": [
    "### 6.2 Monostable or bistable? \n",
    "\n",
    "One of these neurons is monostable, the other is bistable. \n",
    "\n",
    "1. Argue which is which by any means you like. \n",
    "2. Using this info, what type of neuron is each model?\n",
    "3. What additional information have we learned "
   ]
  },
  {
   "cell_type": "code",
   "execution_count": null,
   "metadata": {},
   "outputs": [],
   "source": []
  },
  {
   "cell_type": "markdown",
   "metadata": {},
   "source": [
    "### 6.3 Find spiking threshold\n",
    "\n",
    "Find the approximate I which results in a bifurcation to spiking. Demonstrate the the rest state for sufficient $I$.  "
   ]
  },
  {
   "cell_type": "code",
   "execution_count": null,
   "metadata": {},
   "outputs": [],
   "source": []
  },
  {
   "cell_type": "markdown",
   "metadata": {},
   "source": [
    "### 6.4 Create f-I curve \n",
    "\n",
    "1. Predict how the f-I curves from neuron 1 and 2 will differ.\n",
    "2. Create f-I plots for each and demonstrate that your predictions are correct "
   ]
  },
  {
   "cell_type": "code",
   "execution_count": null,
   "metadata": {},
   "outputs": [],
   "source": []
  }
 ],
 "metadata": {
  "kernelspec": {
   "display_name": "Python 3 (QN)",
   "language": "python",
   "name": "py3-qn"
  },
  "language_info": {
   "codemirror_mode": {
    "name": "ipython",
    "version": 3
   },
   "file_extension": ".py",
   "mimetype": "text/x-python",
   "name": "python",
   "nbconvert_exporter": "python",
   "pygments_lexer": "ipython3",
   "version": "3.8.5"
  }
 },
 "nbformat": 4,
 "nbformat_minor": 4
}
