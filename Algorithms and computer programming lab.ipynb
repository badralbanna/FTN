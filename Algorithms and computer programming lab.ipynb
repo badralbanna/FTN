{
  "cells": [
    {
      "cell_type": "markdown",
      "source": [
        "# Algorithms and computer programming lab"
      ],
      "metadata": {}
    },
    {
      "cell_type": "markdown",
      "source": [
        "## Why program?\n",
        "\n",
        "- You can write programs to streamline tasks that you must repeat frequently.\n",
        "- Writing a program yourself helps you avoid intellectual property and licensing issues: no one can tell you to stop using your own program or charge you for using it\n",
        "- Your program is expandable and customizable: you can add new functionality to it later if you wish\n",
        "- It's fun!"
      ],
      "metadata": {}
    },
    {
      "cell_type": "markdown",
      "source": [
        "## Why program in python?\n",
        "\n",
        "- Scripting language, no need to compile\n",
        "- Simple syntax, uses _duck typing_ (don't need to declare what variables are beforehand)\n",
        "- Fast to develop in\n",
        "- Incredibly well developed, there's a huge community of developers who have made open-source packages available that can do nearly anything\n",
        "- Can use it for sophisticated data/science work"
      ],
      "metadata": {}
    },
    {
      "cell_type": "markdown",
      "source": [
        "## Goals\n",
        "\n",
        "- Understand basic variable types in python including `Bool`, `Int`, `float`, `list`, `tuple` and `str`\n",
        "- Learn a few basic operations with `list`s\n",
        "    - creating a range of numbers\n",
        "    - accessing individual elements of a list or a range of values\n",
        "    - combining lists\n",
        "- Learn basic syntax\n",
        "    - equivalence `=`\n",
        "    - mathematical operations `+`, `-`, `*`, `/`, `**`, `%`\n",
        "    - comparisons `==`, `>`, et. \n",
        "    - `if`, `elif`, `else`\n",
        "    - `for` loops\n",
        "    - defining functions (subroutines)\n",
        "- Learn to create a functions using recursion\n",
        "    - `min_of_two`, `min_of_three`, `min_of_n`\n",
        "- Learn to create a  functions using lists\n",
        "    - `move_to_j` \n",
        "- Implement a basic sorting algorithm"
      ],
      "metadata": {}
    },
    {
      "cell_type": "markdown",
      "source": [
        "## What exactly am I looking at?\n",
        "\n",
        "You are looking at a _jupyter notebook_. It's a more interactive way of dealing with code. Each of the gray boxes are python code that can be edited by clicking inside the box and executed using `command+enter` on a mac or `ctrl+enter` on a PC (If you are using Google Colab these are `shift+enter` on both). If the last line in the box is a variable or a function that outputs a variable, the notebook will automatically print out the value of the variable or the result of the function below. \n",
        "\n",
        "The notebook uses a _Python kernel_ to exeucte the code that remembers what you've done previously. For example if you set `a = 5` in one block and then ask it `a` in the next the output will read `5`. If the kernel stalls or you just want to refresh you can do so using the command bar or menu above. \n",
        "\n",
        "This is incredibly flexible way of using code: It can be anything from a calculator, to an envirnment to develop complex code, to a statistics analysis suite, all depending on your needs"
      ],
      "metadata": {}
    },
    {
      "cell_type": "markdown",
      "source": [
        "## A few keyboard commands for working with the notebook"
      ],
      "metadata": {}
    },
    {
      "cell_type": "markdown",
      "source": [
        "`command+enter` (mac), `ctrl+enter` (PC) `shift+enter` (google): Execute cell\n",
        "\n",
        "`aa`: insert cell above\n",
        "\n",
        "`bb`: insert cell below\n",
        "\n",
        "`dd`: delete cell\n",
        "\n",
        "`y`: trasnform a cell to code (default)\n",
        "\n",
        "`m`: transform a cell into text\n"
      ],
      "metadata": {}
    },
    {
      "cell_type": "markdown",
      "source": [
        "# Euclid's GCD"
      ],
      "metadata": {}
    },
    {
      "cell_type": "markdown",
      "source": [
        "## Basic arithmetic"
      ],
      "metadata": {}
    },
    {
      "cell_type": "markdown",
      "source": [
        "We'll start off by learning to use python as a calculator both for numbers and defined variables. We'll end by learning how to wrap a computation as a function that we can reuse.  "
      ],
      "metadata": {}
    },
    {
      "cell_type": "markdown",
      "source": [
        "additon and subtraction follow the syntax `A + B` and `A - B` where `A` and `B` can be many kinds of objects but for right now we'll use integers (e.g. `34`) and floating point numbers (e.g. `2.1`, `34.0`). These two types are handled differently by your computer (for example how they are stored in memory) but python figures out what you'd like to do just based on what types you use. "
      ],
      "metadata": {}
    },
    {
      "cell_type": "code",
      "source": [
        "3 + 4"
      ],
      "outputs": [],
      "execution_count": null,
      "metadata": {}
    },
    {
      "cell_type": "code",
      "source": [
        "236 - 45"
      ],
      "outputs": [],
      "execution_count": null,
      "metadata": {}
    },
    {
      "cell_type": "markdown",
      "source": [
        "Muliplication is written `A * B` and expoants `A ** B` ($= A^B$)"
      ],
      "metadata": {}
    },
    {
      "cell_type": "code",
      "source": [
        "4 * 6"
      ],
      "outputs": [],
      "execution_count": null,
      "metadata": {}
    },
    {
      "cell_type": "code",
      "source": [
        "2 ** 8"
      ],
      "outputs": [],
      "execution_count": null,
      "metadata": {}
    },
    {
      "cell_type": "markdown",
      "source": [
        "Play around for yourself. Feel free to use paranethesis to make complex expressions and check that things are working sensibly. "
      ],
      "metadata": {}
    },
    {
      "cell_type": "code",
      "source": [],
      "outputs": [],
      "execution_count": null,
      "metadata": {}
    },
    {
      "cell_type": "markdown",
      "source": [
        "What does `A % B` do?"
      ],
      "metadata": {}
    },
    {
      "cell_type": "code",
      "source": [
        "30 % 7"
      ],
      "outputs": [],
      "execution_count": null,
      "metadata": {}
    },
    {
      "cell_type": "code",
      "source": [
        "24 % 3"
      ],
      "outputs": [],
      "execution_count": null,
      "metadata": {}
    },
    {
      "cell_type": "code",
      "source": [
        "24 % 5"
      ],
      "outputs": [],
      "execution_count": null,
      "metadata": {}
    },
    {
      "cell_type": "markdown",
      "source": [
        "### Defining Variables"
      ],
      "metadata": {}
    },
    {
      "cell_type": "markdown",
      "source": [
        "to define a variable use the syntax `A = B` to set `A` equal to `B`. **This is not symmetric**. `B = A` sets B to A. "
      ],
      "metadata": {}
    },
    {
      "cell_type": "code",
      "source": [
        "A = 5\n",
        "A"
      ],
      "outputs": [],
      "execution_count": null,
      "metadata": {}
    },
    {
      "cell_type": "code",
      "source": [
        "B = 2\n",
        "B"
      ],
      "outputs": [],
      "execution_count": null,
      "metadata": {}
    },
    {
      "cell_type": "code",
      "source": [
        "A * B"
      ],
      "outputs": [],
      "execution_count": null,
      "metadata": {}
    },
    {
      "cell_type": "code",
      "source": [
        "A + B"
      ],
      "outputs": [],
      "execution_count": null,
      "metadata": {}
    },
    {
      "cell_type": "code",
      "source": [
        "A = B"
      ],
      "outputs": [],
      "execution_count": null,
      "metadata": {}
    },
    {
      "cell_type": "code",
      "source": [
        "A"
      ],
      "outputs": [],
      "execution_count": null,
      "metadata": {}
    },
    {
      "cell_type": "code",
      "source": [
        "B"
      ],
      "outputs": [],
      "execution_count": null,
      "metadata": {}
    },
    {
      "cell_type": "markdown",
      "source": [
        "### Defining Functions"
      ],
      "metadata": {}
    },
    {
      "cell_type": "markdown",
      "source": [
        "The syntax to define python functions is \n",
        "```\n",
        "def NAME_OF_FUNCTION(INPUT_1, INPUT_2, etc):\n",
        "    return OUTPUT_1, OUTPUT_2, etc\n",
        "```\n",
        "(`def` is short for define) \n",
        "\n",
        "You call a function by simply writing \n",
        "\n",
        "```\n",
        "NAME_OF_FUNCTION(INPUT_1, INPUT_2, etc)\n",
        "```\n",
        "\n",
        "You should think of this whole statement being replaced by the outputs. "
      ],
      "metadata": {}
    },
    {
      "cell_type": "markdown",
      "source": [
        "Define a function called `squared` that takes a number $x$ as an input and outputs $x^2$"
      ],
      "metadata": {}
    },
    {
      "cell_type": "code",
      "source": [],
      "outputs": [],
      "execution_count": null,
      "metadata": {}
    },
    {
      "cell_type": "markdown",
      "source": [
        "Test it out by executing the cell below. "
      ],
      "metadata": {}
    },
    {
      "cell_type": "code",
      "source": [
        "squared(2)"
      ],
      "outputs": [],
      "execution_count": null,
      "metadata": {}
    },
    {
      "cell_type": "markdown",
      "source": [
        "Define a function called `math_widget` that takes three numbers as inputs `x`, `y`, `z` and returns $x^2 + y^z$"
      ],
      "metadata": {}
    },
    {
      "cell_type": "code",
      "source": [],
      "outputs": [],
      "execution_count": null,
      "metadata": {}
    },
    {
      "cell_type": "markdown",
      "source": [
        "Test it out in the cell below and see if it gievs you the correct answer"
      ],
      "metadata": {}
    },
    {
      "cell_type": "code",
      "source": [],
      "outputs": [],
      "execution_count": null,
      "metadata": {}
    },
    {
      "cell_type": "markdown",
      "source": [
        "If you didn't already, rewrite the function `math_widget` using the function `squared`"
      ],
      "metadata": {}
    },
    {
      "cell_type": "code",
      "source": [],
      "outputs": [],
      "execution_count": null,
      "metadata": {}
    },
    {
      "cell_type": "markdown",
      "source": [
        "## Control syntax (Boolean variables and `if` statements)"
      ],
      "metadata": {}
    },
    {
      "cell_type": "markdown",
      "source": [
        "To check if the squared function works we could have written..."
      ],
      "metadata": {}
    },
    {
      "cell_type": "code",
      "source": [
        "squared(2) == 4"
      ],
      "outputs": [],
      "execution_count": null,
      "metadata": {}
    },
    {
      "cell_type": "markdown",
      "source": [
        "`A == B` tests if `A` and `B` are equivalent and returns a Boolean valriable (`True` or `False`). You can also compare numbers using `>`, `>=`, `<`, `<=`."
      ],
      "metadata": {}
    },
    {
      "cell_type": "markdown",
      "source": [
        "We can use this to create flow controls that check if something is true before continuing."
      ],
      "metadata": {}
    },
    {
      "cell_type": "code",
      "source": [
        "if squared(4) == 16:\n",
        "    print(\"Eureka!\")\n",
        "else: #executes if the above are not true\n",
        "    print(\"Uh oh\")"
      ],
      "outputs": [],
      "execution_count": null,
      "metadata": {}
    },
    {
      "cell_type": "markdown",
      "source": [
        "Try editing your definition of squared and see what happens to the output of the above cell."
      ],
      "metadata": {}
    },
    {
      "cell_type": "markdown",
      "source": [
        "defining another function called `add_two`:"
      ],
      "metadata": {}
    },
    {
      "cell_type": "code",
      "source": [
        "def add_two(x):\n",
        "    return(x + 2)"
      ],
      "outputs": [],
      "execution_count": null,
      "metadata": {}
    },
    {
      "cell_type": "markdown",
      "source": [
        "We can make multicase if statements that check a few things before going to `else`. Try changing the value of `mystery_function`."
      ],
      "metadata": {}
    },
    {
      "cell_type": "code",
      "source": [
        "mystery_function = squared\n",
        "\n",
        "if mystery_function(4) == 16:\n",
        "    print(\"I'm a squarer!\")\n",
        "elif mystery_function(4) == 6:\n",
        "    print(\"I'm an add-by-twoer!\")\n",
        "else: #executes if the above are not true\n",
        "    print(\"Uh oh\")"
      ],
      "outputs": [],
      "execution_count": null,
      "metadata": {}
    },
    {
      "cell_type": "markdown",
      "source": [
        "### `min_of_two`, `min_of_three`"
      ],
      "metadata": {}
    },
    {
      "cell_type": "markdown",
      "source": [
        "create a function called `min_of_two` that takes two numbers as inputs and returns the minimum of the two. (Hint: there can be multiple `return` statements)"
      ],
      "metadata": {}
    },
    {
      "cell_type": "code",
      "source": [],
      "outputs": [],
      "execution_count": null,
      "metadata": {}
    },
    {
      "cell_type": "markdown",
      "source": [
        "test it out below"
      ],
      "metadata": {}
    },
    {
      "cell_type": "code",
      "source": [],
      "outputs": [],
      "execution_count": null,
      "metadata": {}
    },
    {
      "cell_type": "markdown",
      "source": [
        "create a function called `min_of_three` that takes three numbers as inputs and returns the minimum of the three. (Hint: there can be multiple `return` statements). Depending on your algorithm you may want to use `min_of_two`"
      ],
      "metadata": {}
    },
    {
      "cell_type": "code",
      "source": [],
      "outputs": [],
      "execution_count": null,
      "metadata": {}
    },
    {
      "cell_type": "markdown",
      "source": [
        "test it out below"
      ],
      "metadata": {}
    },
    {
      "cell_type": "code",
      "source": [],
      "outputs": [],
      "execution_count": null,
      "metadata": {}
    },
    {
      "cell_type": "markdown",
      "source": [
        "### A recursive function:`factorial`"
      ],
      "metadata": {}
    },
    {
      "cell_type": "markdown",
      "source": [
        "First we'd like to come up with a recursive algorithm for a factorial ($n! = n \\cdot n-1 \\cdot n-2 \\cdot ... \\cdot 2 \\cdot 1$). "
      ],
      "metadata": {}
    },
    {
      "cell_type": "markdown",
      "source": [
        "Implement a funtion that takes one number `n` and calculates its factorial called `factorial`"
      ],
      "metadata": {}
    },
    {
      "cell_type": "code",
      "source": [],
      "outputs": [],
      "execution_count": null,
      "metadata": {}
    },
    {
      "cell_type": "markdown",
      "source": [
        "try it out below"
      ],
      "metadata": {}
    },
    {
      "cell_type": "code",
      "source": [],
      "outputs": [],
      "execution_count": null,
      "metadata": {}
    },
    {
      "cell_type": "markdown",
      "source": [
        "What happens if you make n large?"
      ],
      "metadata": {}
    },
    {
      "cell_type": "markdown",
      "source": [],
      "metadata": {}
    },
    {
      "cell_type": "markdown",
      "source": [
        "What happens if you don't put in an integer?"
      ],
      "metadata": {}
    },
    {
      "cell_type": "markdown",
      "source": [],
      "metadata": {}
    },
    {
      "cell_type": "markdown",
      "source": [
        "## Implementing Euclid's GCD"
      ],
      "metadata": {}
    },
    {
      "cell_type": "markdown",
      "source": [
        "We are finally ready for the main event! Lets create a function that takes two numbers `a` and `b` as inputs and implements euclids GCD algorithm called `euclid_gcd` returning the `gcd` as an output."
      ],
      "metadata": {}
    },
    {
      "cell_type": "code",
      "source": [],
      "outputs": [],
      "execution_count": null,
      "metadata": {}
    },
    {
      "cell_type": "markdown",
      "source": [
        "test it out below"
      ],
      "metadata": {}
    },
    {
      "cell_type": "code",
      "source": [
        "euclid_gcd(84, 10)"
      ],
      "outputs": [],
      "execution_count": null,
      "metadata": {}
    },
    {
      "cell_type": "markdown",
      "source": [
        "## Average Complexity of Euclid's GCD"
      ],
      "metadata": {}
    },
    {
      "cell_type": "markdown",
      "source": [
        "the code below loads a few functions we'll need to \n",
        "\n",
        "1. generate a bunch of random examples to test `euclid_gcd` on\n",
        "2. time the `euclid_gcd` function using the `time_it` function\n",
        "3. calculate the average time "
      ],
      "metadata": {}
    },
    {
      "cell_type": "code",
      "source": [
        "import matplotlib.pyplot as plt\n",
        "import numpy as np\n",
        "import time\n",
        "from random import randrange\n",
        "\n",
        "def time_it(f, *args):\n",
        "    \"\"\"\n",
        "    This function runs a function f with args and returns the time in ms. \n",
        "    \"\"\"\n",
        "    start = time.process_time()\n",
        "    f(*args)\n",
        "    return (time.process_time() - start)*1000"
      ],
      "outputs": [],
      "execution_count": null,
      "metadata": {}
    },
    {
      "cell_type": "markdown",
      "source": [
        "`time_it` returns the time it takes to run in ms"
      ],
      "metadata": {}
    },
    {
      "cell_type": "code",
      "source": [
        "time_it(euclid_gcd, 10, 2)"
      ],
      "outputs": [],
      "execution_count": null,
      "metadata": {}
    },
    {
      "cell_type": "markdown",
      "source": [
        "`MAX_T` is the largest sum of $t = a+b$ we'd like to test. `NUM_REPS` is the number of random pairs of numbers we'll try for each value of $t$."
      ],
      "metadata": {}
    },
    {
      "cell_type": "code",
      "source": [
        "MAX_T = 1000\n",
        "NUM_REPS = 1000"
      ],
      "outputs": [],
      "execution_count": null,
      "metadata": {}
    },
    {
      "cell_type": "code",
      "source": [
        "Ts = range(2, MAX_T + 1)\n",
        "worst_times = []\n",
        "avg_times = []\n",
        "for T in Ts:\n",
        "    this_T = []\n",
        "    max_T = []\n",
        "    for i in range(NUM_REPS):\n",
        "        a = randrange(1, T)\n",
        "        b = T - a\n",
        "        this_T.append(time_it(euclid_gcd, a, b))\n",
        "    avg_times.append(np.mean(this_T))\n",
        "    worst_times.append(time_it(euclid_gcd, 1, T-1))"
      ],
      "outputs": [],
      "execution_count": null,
      "metadata": {}
    },
    {
      "cell_type": "code",
      "source": [
        "MAX_T = 1000\n",
        "NUM_REPS = 1000"
      ],
      "outputs": [],
      "execution_count": null,
      "metadata": {}
    },
    {
      "cell_type": "code",
      "source": [
        "Ts = range(2, MAX_T + 1)\n",
        "worst_times = []\n",
        "avg_times = []\n",
        "for T in Ts:\n",
        "    this_T = []\n",
        "    max_T = []\n",
        "    for i in range(NUM_REPS):\n",
        "        a = randrange(1, T)\n",
        "        b = T - a\n",
        "        this_T.append(time_it(euclid_gcd, a, b))\n",
        "    avg_times.append(np.mean(this_T))\n",
        "    worst_times.append(time_it(euclid_gcd, 1, T-1))"
      ],
      "outputs": [],
      "execution_count": null,
      "metadata": {}
    },
    {
      "cell_type": "code",
      "source": [
        "fig, ax = plt.subplots()\n",
        "ax.plot(Ts, avg_times)"
      ],
      "outputs": [],
      "execution_count": null,
      "metadata": {}
    },
    {
      "cell_type": "code",
      "source": [
        "fig, ax = plt.subplots()\n",
        "ax.plot(Ts, worst_times, color='r')"
      ],
      "outputs": [],
      "execution_count": null,
      "metadata": {}
    },
    {
      "cell_type": "markdown",
      "source": [
        "### A better GCD?"
      ],
      "metadata": {}
    },
    {
      "cell_type": "code",
      "source": [],
      "outputs": [],
      "execution_count": null,
      "metadata": {}
    },
    {
      "cell_type": "code",
      "source": [
        "worst_times_b = []\n",
        "avg_times_b = []\n",
        "for T in Ts:\n",
        "    this_T = []\n",
        "    max_T = []\n",
        "    for i in range(NUM_REPS):\n",
        "        a = randrange(1, T)\n",
        "        b = T - a\n",
        "        this_T.append(time_it(better_euclid_gcd, a, b))\n",
        "    avg_times_b.append(np.mean(this_T))\n",
        "    worst_times_b.append(np.max(this_T))"
      ],
      "outputs": [],
      "execution_count": null,
      "metadata": {}
    },
    {
      "cell_type": "code",
      "source": [
        "fig, ax = plt.subplots()\n",
        "ax.plot(Ts, avg_times, color='b', alpha=.2)\n",
        "ax.plot(Ts, avg_times_b, color='b')"
      ],
      "outputs": [],
      "execution_count": null,
      "metadata": {}
    },
    {
      "cell_type": "code",
      "source": [
        "fig, ax = plt.subplots()\n",
        "ax.plot(Ts, worst_times, color='r', alpha=.2)\n",
        "ax.plot(Ts, worst_times_b, color='r')"
      ],
      "outputs": [],
      "execution_count": null,
      "metadata": {}
    },
    {
      "cell_type": "markdown",
      "source": [
        "# Sorting algorithms"
      ],
      "metadata": {}
    },
    {
      "cell_type": "markdown",
      "source": [
        "The goal of a sorting algoirthm is to take a randomly ordered list of a set of objects that can be compared (like numbers), and place them in order. For example, "
      ],
      "metadata": {}
    },
    {
      "cell_type": "code",
      "source": [
        "from random import randrange\n",
        "LEN = 10\n",
        "LIM = 100\n",
        "\n",
        "def make_messy_list(l, lim):\n",
        "    messy_list = [randrange(lim) for i in range(l)]\n",
        "    return messy_list \n",
        "\n",
        "messy_list = make_messy_list(LEN, LIM)\n",
        "messy_list"
      ],
      "outputs": [],
      "execution_count": null,
      "metadata": {}
    },
    {
      "cell_type": "markdown",
      "source": [
        "would be reorderded to "
      ],
      "metadata": {}
    },
    {
      "cell_type": "code",
      "source": [
        "messy_list.sort()\n",
        "messy_list "
      ],
      "outputs": [],
      "execution_count": null,
      "metadata": {}
    },
    {
      "cell_type": "markdown",
      "source": [
        "Sorting algorithms are fundamental in programming. Every piece of code you use relies on fast efficient sorting. To work with these algorithms we'll need a bit more knowdlge about how to work with lists of objects in python."
      ],
      "metadata": {}
    },
    {
      "cell_type": "markdown",
      "source": [
        "## Working with lists in python"
      ],
      "metadata": {}
    },
    {
      "cell_type": "markdown",
      "source": [
        "### Defining lists"
      ],
      "metadata": {}
    },
    {
      "cell_type": "markdown",
      "source": [
        "Lists can be declared just as you see them above, as a set of numbers surrounded by `[` and `]` and seperated by `'`. "
      ],
      "metadata": {}
    },
    {
      "cell_type": "code",
      "source": [
        "A = [2, 4, 7]"
      ],
      "outputs": [],
      "execution_count": null,
      "metadata": {}
    },
    {
      "cell_type": "markdown",
      "source": [
        "They can also be generated using functions like `range`"
      ],
      "metadata": {}
    },
    {
      "cell_type": "code",
      "source": [
        "B = range(5) \n",
        "# b = [0, 1, 2, 3, 4]"
      ],
      "outputs": [],
      "execution_count": null,
      "metadata": {}
    },
    {
      "cell_type": "code",
      "source": [
        "C = range(4, 10)\n",
        "# c = [4 , 5, 6, 7, 8, 9]"
      ],
      "outputs": [],
      "execution_count": null,
      "metadata": {}
    },
    {
      "cell_type": "markdown",
      "source": [
        "### Accessing lists"
      ],
      "metadata": {}
    },
    {
      "cell_type": "markdown",
      "source": [
        "To access an element of a list you use `a[x]` where x is the index of the item you want (starting with 0)"
      ],
      "metadata": {}
    },
    {
      "cell_type": "code",
      "source": [
        "A[0]"
      ],
      "outputs": [],
      "execution_count": null,
      "metadata": {}
    },
    {
      "cell_type": "code",
      "source": [
        "B[4]"
      ],
      "outputs": [],
      "execution_count": null,
      "metadata": {}
    },
    {
      "cell_type": "markdown",
      "source": [
        "You can also index starting from the end of the list using negative numbers (-1 would be the last item, -2 second to last, etc.)"
      ],
      "metadata": {}
    },
    {
      "cell_type": "code",
      "source": [
        "C[-1]"
      ],
      "outputs": [],
      "execution_count": null,
      "metadata": {}
    },
    {
      "cell_type": "code",
      "source": [
        "A[-2]"
      ],
      "outputs": [],
      "execution_count": null,
      "metadata": {}
    },
    {
      "cell_type": "markdown",
      "source": [
        "python also has the ability to return a range of items in a list with the slice notation `a[start:end]`"
      ],
      "metadata": {}
    },
    {
      "cell_type": "code",
      "source": [
        "messy_list[1:5] # returns 2nd through 5th elements of the list"
      ],
      "outputs": [],
      "execution_count": null,
      "metadata": {}
    },
    {
      "cell_type": "markdown",
      "source": [
        "To go through the end you simply leave off `end`"
      ],
      "metadata": {}
    },
    {
      "cell_type": "code",
      "source": [
        "messy_list[1:]"
      ],
      "outputs": [],
      "execution_count": null,
      "metadata": {}
    },
    {
      "cell_type": "markdown",
      "source": [
        "To calculate the length of a list simply use the function `len`"
      ],
      "metadata": {}
    },
    {
      "cell_type": "code",
      "source": [
        "len(A)"
      ],
      "outputs": [],
      "execution_count": null,
      "metadata": {}
    },
    {
      "cell_type": "code",
      "source": [
        "len(C)"
      ],
      "outputs": [],
      "execution_count": null,
      "metadata": {}
    },
    {
      "cell_type": "markdown",
      "source": [
        "## Loops (`for`)"
      ],
      "metadata": {}
    },
    {
      "cell_type": "markdown",
      "source": [
        "Loops in python are handled with the syntax \n",
        "\n",
        "```\n",
        "for i in SOME_LIST:\n",
        "    SOME_CODE_THAT_USES_i\n",
        "```\n",
        "\n",
        "the code `SOME_CODE_THAT_USES_i` runs over and over where`i` sequentially takes on the values in `SOME_LIST` . \n",
        "\n",
        "Here's an example that adds the elements of a list `S`"
      ],
      "metadata": {}
    },
    {
      "cell_type": "code",
      "source": [
        "S = [12, 20, 40]\n",
        "\n",
        "total = 0\n",
        "for i in S:\n",
        "    total = total + i\n",
        "\n",
        "total"
      ],
      "outputs": [],
      "execution_count": null,
      "metadata": {}
    },
    {
      "cell_type": "markdown",
      "source": [
        "very often you just want `i` to run through a series of integers sequentially starting with 0, in that case `SOME_LIST` would be `range(NUMBER_OF_ITERATIONS)`. See if you can write a loop that takes a list R and halves each of the elements. "
      ],
      "metadata": {}
    },
    {
      "cell_type": "code",
      "source": [
        "R = [25, 42, 78]\n"
      ],
      "outputs": [],
      "execution_count": null,
      "metadata": {}
    },
    {
      "cell_type": "markdown",
      "source": [
        "### `min_of_n`"
      ],
      "metadata": {}
    },
    {
      "cell_type": "markdown",
      "source": [
        "next we'd like like to create a function that finds the  minimum value of a list of arbitrary length, returns the value and the index where it was found. Call it `min_of_n`"
      ],
      "metadata": {}
    },
    {
      "cell_type": "code",
      "source": [
        "messy_list_2 = make_messy_list(LEN, LIM)\n",
        "messy_list_2"
      ],
      "outputs": [],
      "execution_count": null,
      "metadata": {}
    },
    {
      "cell_type": "code",
      "source": [],
      "outputs": [],
      "execution_count": null,
      "metadata": {}
    },
    {
      "cell_type": "markdown",
      "source": [
        "Try it on `messy_list_2` below. "
      ],
      "metadata": {}
    },
    {
      "cell_type": "code",
      "source": [
        "messy_list_2"
      ],
      "outputs": [],
      "execution_count": null,
      "metadata": {}
    },
    {
      "cell_type": "code",
      "source": [
        "min_of_n(messy_list_2)"
      ],
      "outputs": [],
      "execution_count": null,
      "metadata": {}
    },
    {
      "cell_type": "markdown",
      "source": [
        "### Modifying lists"
      ],
      "metadata": {}
    },
    {
      "cell_type": "code",
      "source": [
        "P = [3, 7, 20, 14, 8, 9]\n",
        "P"
      ],
      "outputs": [],
      "execution_count": null,
      "metadata": {}
    },
    {
      "cell_type": "markdown",
      "source": [
        "To change the value of an element of a list you can simply index the lement and use `=`"
      ],
      "metadata": {}
    },
    {
      "cell_type": "code",
      "source": [
        "P[3] = 1000\n",
        "P"
      ],
      "outputs": [],
      "execution_count": null,
      "metadata": {}
    },
    {
      "cell_type": "markdown",
      "source": [
        "You can also glue to lists together by using addition `A + B`"
      ],
      "metadata": {}
    },
    {
      "cell_type": "code",
      "source": [
        "Q = [75, 84, 100]\n",
        "Q"
      ],
      "outputs": [],
      "execution_count": null,
      "metadata": {}
    },
    {
      "cell_type": "code",
      "source": [
        "P + Q"
      ],
      "outputs": [],
      "execution_count": null,
      "metadata": {}
    },
    {
      "cell_type": "markdown",
      "source": [
        "You can also change a number of elements at the same time by setting a slice of the list to another list"
      ],
      "metadata": {}
    },
    {
      "cell_type": "code",
      "source": [
        "P[4:] = [10, 11]\n",
        "P"
      ],
      "outputs": [],
      "execution_count": null,
      "metadata": {}
    },
    {
      "cell_type": "markdown",
      "source": [
        "If you just want to add one element `x` to an existing list you can also use the command `A.append(x)`. This is what is called a mutuating function that this modifes the original list p."
      ],
      "metadata": {}
    },
    {
      "cell_type": "code",
      "source": [
        "P.append(777)\n",
        "P"
      ],
      "outputs": [],
      "execution_count": null,
      "metadata": {}
    },
    {
      "cell_type": "markdown",
      "source": [
        "`A.insert(i,x)` inserts a value `x` before index `0`. It also modifies `A` in place"
      ],
      "metadata": {}
    },
    {
      "cell_type": "code",
      "source": [
        "P.insert(1, 100000)\n",
        "P"
      ],
      "outputs": [],
      "execution_count": null,
      "metadata": {}
    },
    {
      "cell_type": "markdown",
      "source": [
        "`A.pop(i)` pops the value at index i out of the list and returns it"
      ],
      "metadata": {}
    },
    {
      "cell_type": "code",
      "source": [
        "P"
      ],
      "outputs": [],
      "execution_count": null,
      "metadata": {}
    },
    {
      "cell_type": "code",
      "source": [
        "val = P.pop(3)"
      ],
      "outputs": [],
      "execution_count": null,
      "metadata": {}
    },
    {
      "cell_type": "code",
      "source": [
        "P"
      ],
      "outputs": [],
      "execution_count": null,
      "metadata": {}
    },
    {
      "cell_type": "code",
      "source": [
        "val"
      ],
      "outputs": [],
      "execution_count": null,
      "metadata": {}
    },
    {
      "cell_type": "markdown",
      "source": [
        "### `move_to_front` "
      ],
      "metadata": {}
    },
    {
      "cell_type": "markdown",
      "source": [
        "Now, we'd like to write a function called `move_to_front` that takes in a list `A` and an index `i` and returns a new list where the value at `i` has been moved to the beginning. "
      ],
      "metadata": {}
    },
    {
      "cell_type": "code",
      "source": [],
      "outputs": [],
      "execution_count": null,
      "metadata": {}
    },
    {
      "cell_type": "code",
      "source": [
        "messy_list_3 = make_messy_list(LEN, LIM)\n",
        "messy_list_3"
      ],
      "outputs": [],
      "execution_count": null,
      "metadata": {}
    },
    {
      "cell_type": "code",
      "source": [
        "move_to_j(messy_list_3, 1, 4)"
      ],
      "outputs": [],
      "execution_count": null,
      "metadata": {}
    },
    {
      "cell_type": "markdown",
      "source": [
        "## Implement our sorting algorithm"
      ],
      "metadata": {}
    },
    {
      "cell_type": "markdown",
      "source": [
        "It's time for the main event! We'd like a function called `simple_sort` that takes in a list and returns the sorted version. "
      ],
      "metadata": {}
    },
    {
      "cell_type": "code",
      "source": [],
      "outputs": [],
      "execution_count": null,
      "metadata": {}
    },
    {
      "cell_type": "code",
      "source": [
        "messy_list_4 = make_messy_list(LEN, LIM)\n",
        "messy_list_4"
      ],
      "outputs": [],
      "execution_count": null,
      "metadata": {}
    },
    {
      "cell_type": "code",
      "source": [
        "simple_sort(messy_list_4)"
      ],
      "outputs": [],
      "execution_count": null,
      "metadata": {}
    },
    {
      "cell_type": "markdown",
      "source": [
        "## Complexity of our sorting algorithm"
      ],
      "metadata": {}
    },
    {
      "cell_type": "code",
      "source": [
        "MAX_L = 200\n",
        "NUM_REPS = 1000"
      ],
      "outputs": [],
      "execution_count": null,
      "metadata": {}
    },
    {
      "cell_type": "code",
      "source": [
        "Ls = range(2, MAX_L + 1)\n",
        "\n",
        "avg_times = []\n",
        "for L in Ls:\n",
        "    this_L = []\n",
        "    max_L = []\n",
        "    for i in range(NUM_REPS):\n",
        "        this_L.append(time_it(simple_sort, make_messy_list(L, 2*L)))\n",
        "    avg_times.append(np.mean(this_L))\n",
        "    worst_times.append(np.max(this_L))"
      ],
      "outputs": [],
      "execution_count": null,
      "metadata": {}
    },
    {
      "cell_type": "code",
      "source": [
        "fig, ax = plt.subplots()\n",
        "ax.plot(Ls, avg_times, color='b')"
      ],
      "outputs": [],
      "execution_count": null,
      "metadata": {}
    },
    {
      "cell_type": "code",
      "source": [
        "fig, ax = plt.subplots()\n",
        "ax.plot(Ls, worst_times, color='r')"
      ],
      "outputs": [],
      "execution_count": null,
      "metadata": {}
    },
    {
      "cell_type": "code",
      "source": [],
      "outputs": [],
      "execution_count": null,
      "metadata": {}
    }
  ],
  "metadata": {
    "kernelspec": {
      "display_name": "Python 3",
      "language": "python",
      "name": "python3"
    },
    "language_info": {
      "codemirror_mode": {
        "name": "ipython",
        "version": 3
      },
      "file_extension": ".py",
      "mimetype": "text/x-python",
      "name": "python",
      "nbconvert_exporter": "python",
      "pygments_lexer": "ipython3",
      "version": "3.7.2"
    },
    "nteract": {
      "version": "0.21.0"
    }
  },
  "nbformat": 4,
  "nbformat_minor": 2
}