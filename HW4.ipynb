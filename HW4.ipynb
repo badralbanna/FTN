{
 "metadata": {
  "language_info": {
   "codemirror_mode": {
    "name": "ipython",
    "version": 3
   },
   "file_extension": ".py",
   "mimetype": "text/x-python",
   "name": "python",
   "nbconvert_exporter": "python",
   "pygments_lexer": "ipython3",
   "version": "3.8.3"
  },
  "orig_nbformat": 2,
  "kernelspec": {
   "name": "python383jvsc74a57bd0afcfdf4cba00ac50e638f57c6797cfbdea9b2bd674f33252d57dc646e66fe742",
   "display_name": "Python 3.8.3 64-bit ('base': conda)"
  }
 },
 "nbformat": 4,
 "nbformat_minor": 2,
 "cells": [
  {
   "source": [
    "# Homework 4\n",
    "\n",
    "On this Homework you'll get a chance to \n",
    "\n",
    "1. Practice applying the definitions of probability and entropy described in class \n",
    "2. Experiment with Olshausen & Field's sparse coding model "
   ],
   "cell_type": "markdown",
   "metadata": {}
  },
  {
   "source": [
    "## Setting up the notebook"
   ],
   "cell_type": "markdown",
   "metadata": {}
  },
  {
   "cell_type": "code",
   "execution_count": 6,
   "metadata": {},
   "outputs": [
    {
     "output_type": "stream",
     "name": "stdout",
     "text": [
      "Downloading O&F images and circuit board...\nhttp://www.rctn.org/bruno/sparsenet/IMAGES.mat has already been downloaded.\nhttp://www.rctn.org/bruno/sparsenet/IMAGES_RAW.mat has already been downloaded.\nhttps://dz2cdn1.dzone.com/storage/temp/3542733-printed-circuit-boards.jpg has already been downloaded.\n...all downloads complete.\nImporting natural_imgs, natural_imgs_raw, circuit_imgs_raw.\n"
     ]
    }
   ],
   "source": [
    "import numpy as np\n",
    "import matplotlib.pyplot as plt\n",
    "from matplotlib import cm\n",
    "from tqdm.notebook import tqdm\n",
    "import scipy.io as sio\n",
    "import os\n",
    "\n",
    "# Importing functions from class\n",
    "from OF import *"
   ]
  },
  {
   "source": [
    "## Question 1: Probability Definitions\n",
    "\n",
    "Below is a joint probability distribution for the chance of rain ($R$) and the cloudiness ($C$) on any given day in the spring in Pittsburgh. For simplicity we are considering each as binary:\n",
    "\n",
    "$$\n",
    "\\begin{align}\n",
    "    R & = \\{\\textrm{no rain}, \\textrm{rain}\\} \\\\\n",
    "    C & = \\{\\textrm{sunny}, \\textrm{cloudy}\\} \\\\\n",
    "\\end{align}\n",
    "$$\n",
    "\n",
    "Below is a table of values for $p(R, S)$:\n",
    "\n",
    "| $R \\backslash C$  | $\\textrm{sunny}$ |  $\\textrm{cloudy}$ |\n",
    "|:------:|:----------------:|:------------------:|\n",
    "| $\\textrm{no rain}$ | 0.3 | 0.2 |\n",
    "| $\\textrm{rain}$ | 0.1 | 0.4 |\n"
   ],
   "cell_type": "markdown",
   "metadata": {}
  },
  {
   "source": [
    "### 1.1 \n",
    "\n",
    "In class, we discussed how all probability distributions are _implicity_ conditional distributions. What are some of the unwritten variables we are conditioning on here? "
   ],
   "cell_type": "markdown",
   "metadata": {}
  },
  {
   "source": [
    "_Type your answer here or include as a seperate scan_"
   ],
   "cell_type": "markdown",
   "metadata": {}
  },
  {
   "source": [
    "### 1.2 \n",
    "\n",
    "Calculate the marginal probabilities of rain ($p(R)$, two values) and cloudiness ($p(C)$, two values). Based on these values does $R$ appear to be _statsitically independent_ of $S$?"
   ],
   "cell_type": "markdown",
   "metadata": {}
  },
  {
   "source": [],
   "cell_type": "markdown",
   "metadata": {}
  },
  {
   "source": [
    "_Type your answer here or include as a seperate scan_"
   ],
   "cell_type": "markdown",
   "metadata": {}
  },
  {
   "source": [
    "### 1.3\n",
    "\n",
    "Calculate the _conditional_ probability distribution $p(R|C)$ (four values)."
   ],
   "cell_type": "markdown",
   "metadata": {}
  },
  {
   "source": [
    "_Type your answer here or include as a seperate scan_"
   ],
   "cell_type": "markdown",
   "metadata": {}
  },
  {
   "source": [
    "### 1.4\n",
    "\n",
    "Use Bayes' rule and your previous answers to calculate $p(C|R)$"
   ],
   "cell_type": "markdown",
   "metadata": {}
  },
  {
   "source": [
    "_Type your answer here or include as a seperate scan_"
   ],
   "cell_type": "markdown",
   "metadata": {}
  },
  {
   "source": [
    "## Question 2: Intro to information Theory\n",
    "\n",
    "In this question, you'll use the probabilty distribution from question 1 to calcualte some relevant quantities from information theory.\n",
    "\n",
    "Recall the following expressions to calculate _entropy_ ($H(X)$, $H(X,Y)$), _conditional entropy_ ($H(X|Y)$), and the _mutual information_ ($I(X;Y)$)\n",
    "\n",
    "$$\n",
    "\\begin{align}\n",
    "    H(X) & = \\sum_x - p(x) \\log_2 p(x) \\\\\n",
    "    H(X,Y) & = \\sum_{x,y} - p(x,y) \\log_2 p(x, y) \\\\\n",
    "    H(X|Y) & = \\sum_{x,y} - p(x,y) \\log_2 p(x|y) \\\\\n",
    "    I(X;Y)  & = D_{KL}(p(x,y) || p(x)p(y)) = \\sum_{x,y} p(x,y) \\log_2 \\frac{p(x,y)}{p(x)p(y)} \\\\\n",
    "            & = H(X) + H(Y) - H(X,Y) \\\\\n",
    "            & = H(X) - H(X|Y) = H(Y) - H(Y|X)  \n",
    "\\end{align}\n",
    "$$\n"
   ],
   "cell_type": "markdown",
   "metadata": {}
  },
  {
   "source": [
    "### 2.1\n",
    "\n",
    "Caculate the entropy of $R$ ($H(R)$) and the entropy of $C$ ($H(C)$). Before the day begins are you more uncertain about whether it will rain or whether it will be cloudy? "
   ],
   "cell_type": "markdown",
   "metadata": {}
  },
  {
   "source": [
    "_Type your answer here or include as a seperate scan_"
   ],
   "cell_type": "markdown",
   "metadata": {}
  },
  {
   "source": [
    "### 2.2 \n",
    "\n",
    "caculate the coniditional entropy of rain given you know whether it is cloudy ($H(R|C)$). Compare this to the uncertainty about whether it will rain _whithout_ knowing it is cloudy $H(R)$. Does seeing whether it is cloudy teach you anything about whether it will rain? "
   ],
   "cell_type": "markdown",
   "metadata": {}
  },
  {
   "source": [
    "_Type your answer here or include as a seperate scan_"
   ],
   "cell_type": "markdown",
   "metadata": {}
  },
  {
   "source": [
    "### 2.3 \n",
    "\n",
    "Calculate the _mutual information_ between the rain ($R$) and cloudiness ($C$) using any of the forumlas above for the mutual information. Before you use your chosen formula, interpret it. how much does knowing $C$ teach you about $R$? How much does knowing $R$ teach you about $C$?"
   ],
   "cell_type": "markdown",
   "metadata": {}
  },
  {
   "source": [
    "_Type your answer here or include as a seperate scan_"
   ],
   "cell_type": "markdown",
   "metadata": {}
  },
  {
   "source": [
    "## Question 3"
   ],
   "cell_type": "markdown",
   "metadata": {}
  },
  {
   "cell_type": "code",
   "execution_count": null,
   "metadata": {},
   "outputs": [],
   "source": []
  },
  {
   "source": [
    "## Question 4: O&F sparse coding model\n",
    "\n",
    "In this question, you will get a chace to investigate the O&F model. Specifically we'll look at the role of two factors in producing the receptive fields observed. \n",
    "\n",
    "1. The size of the network (`num_units`)\n",
    "2. The weight given to sparsity (`lmda`)\n"
   ],
   "cell_type": "markdown",
   "metadata": {}
  },
  {
   "source": [
    "### 4.1: Side of network (`num_units`)\n",
    "\n",
    "Generate receptive fields for networks of three sizes $n = 20, 100, 500$ and compare the results. You should keep all other constants fixed to the defaults used in class."
   ],
   "cell_type": "markdown",
   "metadata": {}
  },
  {
   "cell_type": "code",
   "execution_count": null,
   "metadata": {},
   "outputs": [],
   "source": [
    "# Default simulation constants \n",
    "patch_size = 16 # image patch size\n",
    "\n",
    "num_iter = 500 # number of iterations\n",
    "batch_size = 250 # Batch size\n",
    "\n",
    "lmda = 5e-3 # Sparisty weight\n",
    "\n",
    "# Image set\n",
    "image_set = natural_imgs"
   ]
  },
  {
   "cell_type": "code",
   "execution_count": 12,
   "metadata": {},
   "outputs": [],
   "source": [
    "# Simulation constants\n",
    "num_units = 20 # number of neurons (units)\n",
    "\n",
    "# Define model\n",
    "model_20 = OlshausenField1996Model(num_inputs=patch_size**2, \n",
    "                                num_units=num_units,\n",
    "                                batch_size=batch_size,\n",
    "                                lmda=lmda)"
   ]
  },
  {
   "cell_type": "code",
   "execution_count": 13,
   "metadata": {},
   "outputs": [
    {
     "output_type": "display_data",
     "data": {
      "text/plain": "HBox(children=(FloatProgress(value=0.0, max=500.0), HTML(value='')))",
      "application/vnd.jupyter.widget-view+json": {
       "version_major": 2,
       "version_minor": 0,
       "model_id": "39c59e37a0964471bc1740570b8559d6"
      }
     },
     "metadata": {}
    },
    {
     "output_type": "stream",
     "name": "stdout",
     "text": [
      "iter: 100/500, Moving error: 0.06712372328444503\n",
      "iter: 200/500, Moving error: 0.06521196309220463\n",
      "iter: 300/500, Moving error: 0.06504775296723132\n",
      "iter: 400/500, Moving error: 0.0651273545445652\n",
      "iter: 500/500, Moving error: 0.06510604105494949\n",
      "\n"
     ]
    }
   ],
   "source": [
    "# Run simulation\n",
    "error_list = [] # List to save errors\n",
    "for iter_ in tqdm(range(num_iter)):\n",
    "    patches = generate_patches(image_set, patch_size, batch_size) # Generating image patches\n",
    "    error = model_20.train(patches) # train model with patches \n",
    "\n",
    "    error_list.append(model.calculate_total_error(error))\n",
    "    # Print moving average error\n",
    "    if iter_ % 100 == 99:  \n",
    "        print(\"iter: \"+str(iter_+1)+\"/\"+str(num_iter)+\", Moving error:\",\n",
    "              np.mean(error_list[iter_-99:iter_]))"
   ]
  },
  {
   "cell_type": "code",
   "execution_count": 14,
   "metadata": {},
   "outputs": [
    {
     "output_type": "display_data",
     "data": {
      "text/plain": "HBox(children=(FloatProgress(value=0.0, max=20.0), HTML(value='')))",
      "application/vnd.jupyter.widget-view+json": {
       "version_major": 2,
       "version_minor": 0,
       "model_id": "061b512bc0784ab48e9532c13a26cd53"
      }
     },
     "metadata": {}
    },
    {
     "output_type": "stream",
     "name": "stdout",
     "text": [
      "\n"
     ]
    },
    {
     "output_type": "display_data",
     "data": {
      "text/plain": "<Figure size 432x259.2 with 20 Axes>",
      "image/svg+xml": "<?xml version=\"1.0\" encoding=\"utf-8\" standalone=\"no\"?>\n<!DOCTYPE svg PUBLIC \"-//W3C//DTD SVG 1.1//EN\"\n  \"http://www.w3.org/Graphics/SVG/1.1/DTD/svg11.dtd\">\n<!-- Created with matplotlib (https://matplotlib.org/) -->\n<svg height=\"190.547913pt\" version=\"1.1\" viewBox=\"0 0 424.8 190.547913\" width=\"424.8pt\" xmlns=\"http://www.w3.org/2000/svg\" xmlns:xlink=\"http://www.w3.org/1999/xlink\">\n <defs>\n  <style type=\"text/css\">\n*{stroke-linecap:butt;stroke-linejoin:round;}\n  </style>\n </defs>\n <g id=\"figure_1\">\n  <g id=\"patch_1\">\n   <path d=\"M 0 190.547913 \nL 424.8 190.547913 \nL 424.8 -0 \nL 0 -0 \nz\n\" style=\"fill:none;\"/>\n  </g>\n  <g id=\"axes_1\">\n   <g clip-path=\"url(#p072aceb748)\">\n    <image height=\"32\" id=\"imaged7e06326d4\" transform=\"scale(1 -1)translate(0 -32)\" width=\"32\" x=\"7.2\" xlink:href=\"data:image/png;base64,\niVBORw0KGgoAAAANSUhEUgAAACAAAAAgCAYAAABzenr0AAAABHNCSVQICAgIfAhkiAAAAqRJREFUWIXN18lKbEkUheHPvu+7qygqCCoORPBdfGCHIg6d2GODfe+19w6qVkVlOiooSGMSRJ6Tm73/WHtFnLqVlZUvOD09BZ2dnaCpqQm8vr6C4eFhMD8/D/r6+sDg4GDF+uXlBbS0tID6+npwe3sLnp6eKua/ntZwNPb394Pr62vw+PgI3t7ewM3NDbi8vETJvLe3F0xNTYHl5WXw69cv0N7eDj4/P1GIPjw8oJCuPYHsYSp6fn4Gh4eHKAROTk5QyOT97G1+X1xcBEtLS2BiYqLivd3dXRSitScQ9U5OToLW1lawt7dXsd7Y2ADn5+coFezv74ODg4OK521tbWBkZAR0d3eDjo6OivdqTyAVZo4mMo+NjaEQWl9fB5ubm2Bra6tiPjo6Qqnw+PgYzM7OovjK79+/8RMIRJ1RfTIcHR0F09PTKHsazQwNDaGQiwbOzs7A6uoqilbm5uZAT08P/uWU/39N/200vr+/o/Rp9UjGzc3NYGFhAd+1sba2hrLncdRq/wixdEftCWRvPz4+UEjEw/85tf4+1dLP4+Pj+H4qbm9vg52dHRS1d3V1gbq6OhQStSeQjFJhMg6R7F3WIRJCITIzM4PvXXJ1dVURP3FCpPYEUkn1HmVEIznPc86nktwjcopWE7i4uEC5cd3f36N01c8h0NjYiFJxKh0YGEAh8PX1hdLncbrcBeMP1f4R54vT5v3aE0jlySgjfZq9zvM4ZwikohBKl+Q0zDpxMidO7Qlkz6PijNxe7+7uUCqpHumaxMk6fpI41b7ycwhU/5BMU0E0Ut0tcbZoIwRDIupP14TEzyMQFaeiZJxMU0lus+nnhoYGFGIZWSde4odA/hdStSeQjKLyeHdI5NsxBKpVn9MwWog/JG78JO/FIX/Mt+EfOwV8Hcbm7sAAAAAASUVORK5CYII=\" y=\"-79.204087\"/>\n   </g>\n  </g>\n  <g id=\"axes_2\">\n   <g clip-path=\"url(#p13e3f12036)\">\n    <image height=\"32\" id=\"imagebf644e5c1b\" transform=\"scale(1 -1)translate(0 -32)\" width=\"32\" x=\"49.32\" xlink:href=\"data:image/png;base64,\niVBORw0KGgoAAAANSUhEUgAAACAAAAAgCAYAAABzenr0AAAABHNCSVQICAgIfAhkiAAAApNJREFUWIXNl8tOKkEURRfaoDwEDaIQSHBkwoTf5b+IcUpiiA9Q8An4gjvAdSs0uQNuSNqaFDTVRZ919j6nOtXpdBYAhUIBgNlsBsDr6ysAOzs7ABwcHACQSqUAWCwWADw/PwPw9PS08vvn5ycA0+kUgIeHBwAeHx8BODw8XO5PwiPK5/MAOBuxEXx9fQGQTqdX1s3n85V1d3d3QCAnUdd/f38DcHp6CsDe3t7y/7Yf02YjMjIjco7nOj67LooiAHK5HBCI7O/vr8y7u7sAlMtlIJBOnkAmkwFCruMRvr+/AyGH8eu6RgLFYhEIKpewGtEVEk6egKqNq34ymQDw9vYGhFy6zt/1v4RUvWS8z4hdryaSJ+AHn9AnM6fOVkIjGI/HQMip4+PjAwgVz3F7ewuE+lCv14HfQEA/lkolYL0iSsRZUvYAh9fNvVoZDocAXF1dAdBoNACoVCrL/9lqOP8xIlUqAX3sdUe8K+pzI1YLg8EAWO8hcS3pmuQJWMtVr773if9Vy//m8IeMBKx47qNrrJySub+/X96//Zg2G9H19TUQ+ri9odVqAXBycgKESF9eXoBAqFqtAnB8fAxArVYDQk8xciunhC4vL5f7bj+mzUbU7XYBuLm5AUKkkjHn8S6oW/S1rpBIs9kEAhnvl7AkkyfQ7/cB6PV6QDi9XlxcLBf8uET1Onu2UyPW+PPzcwDa7TYQ3JLNZoFA2H2TJ6C/zdFoNALW1R5/X7AXWOuteN5nHTBic69Wft+p2ByqXnuDLtDHaib+XiAR95OANV8C7ifZ5AnYx/WrPj46OgKC2o3UCNSEEaoFr+sq1X52dgYE0pJKnoBP4hnN73bB+AlJYs7m0q5nrXe2y3oOsB78mlPxH8JIYR3tARl5AAAAAElFTkSuQmCC\" y=\"-79.204087\"/>\n   </g>\n  </g>\n  <g id=\"axes_3\">\n   <g clip-path=\"url(#p2afd2c2aac)\">\n    <image height=\"32\" id=\"imagecdc7d02aad\" transform=\"scale(1 -1)translate(0 -32)\" width=\"32\" x=\"91.44\" xlink:href=\"data:image/png;base64,\niVBORw0KGgoAAAANSUhEUgAAACAAAAAgCAYAAABzenr0AAAABHNCSVQICAgIfAhkiAAAAp9JREFUWIXN18dOJEEQBNA3eO+9AOEkOPJL/CoHxIk7RsAB4YX3bvayodqZ/YCmLqXuqu6uiIyMzK5tbGzUYWJiAiwtLYHh4WHQ0tICDg8PwcnJCRgcHAS1Wg3s7++Ds7MzMDAwAEZGRhr2j46O+ne0qHi09fb2ojAwOTmJwkBnZyf4/PwEt7e34ObmBjw+PoLz83Pw9vYGxsfHGz70/v4O6vV6w3urZ2BmZgaMjY2B/v5+lNi1traCvr6+hgdPT09REEcrYXJqagr8/PyA7+9v8PX1hd/EQGLy8PCAovKcvKurCyX2l5eXKGrv6OhA0Uxi36z219fXhuswUj0DT09PKDHMHMTRQpiK6pMFWc8c5GEmDLa3t6NkQxiunoEga2trQ8mGubk5MDs7i+Jsm5ub4OPjAyULMoLw6uoKDA0Noai/eX/1DAR5Yp/8jCOGgcT8/v4eRDtBGEaCNDFPrcic9WRd9QwEaapVVBuVJt+3trbA9vY2CiNra2soTtnT04OCOAyHqay/vLzgNzCwvr6OcsIgj5qPj49RGIhTRit5LjUkyK6vr1Fqw/z8PIrWklXVM5C8jwbi9RcXF2B3d7fhfpwunp+ql/vpC6L2ZEecNdfRSPUMPD8/o8T+6OgIHBwcgL29PZB9ccjFxUWwvLwMVlZWUJiM2vPeaCP+8XtqQfI8J053u7Ozg+IDGQsLC2B1dRX/1/1kR3wh2ZAakNjne9UzkH4/3p3r5i43eTs9PY1SKxLL+EUcsrl7DuLm3rN6BhKj7u5ulBjlpMnbxDZMpadLhxSfuLu7Q1F9RjqkPJ+5egbSreZEQZ6YpybkzyjeH8aynuuMZsTJitSC39MV5yRhIuoM0iBPJxQtBGEQZeT5/zz/7768L39clTPwBweRVcIMBNFhAAAAAElFTkSuQmCC\" y=\"-79.204087\"/>\n   </g>\n  </g>\n  <g id=\"axes_4\">\n   <g clip-path=\"url(#p97fd4ffe38)\">\n    <image height=\"32\" id=\"image72fd9bb159\" transform=\"scale(1 -1)translate(0 -32)\" width=\"32\" x=\"133.56\" xlink:href=\"data:image/png;base64,\niVBORw0KGgoAAAANSUhEUgAAACAAAAAgCAYAAABzenr0AAAABHNCSVQICAgIfAhkiAAAAklJREFUWIXNl0lvIjEQRh/QLCFsgYgr/5XfySEgIZBYw5KwMwf0xmprLjMTqalLye1u42+pssn1+/07QL1eB+B6vQKwWCwAaLVaADSbTQDO5zMAx+MRgNPplPquWCymss+TJAHgdrulcp6MIxGh+XA4AGGHIhFxqVQC4OXlBQgMlMtlAHK5HACr1QoIjLn+6+srAN/f38AzMPD29gZApVIBAgP5/GNvIjDXajUgIC4UCn98f7/fAwHp+/t76rvNZvP47ucx/V0kIl6v10BA4E51r0j0xuVySS3kOPaOntArs9kMgOVyCTwDA7vdDgCzCGJvqLXaypwMOV+tVoHgCRmI+8vz9IH4gVqLzHqPO+XX1xcQEOoBtfe7eF2Z+l09PwLjPyLRnWqi5nY8tRbZ/X5PZZmyelxHxuIzQW/puewZUBt7vTuXie12C4TeLnK1lyk11Qv2lbgqzEb2DLTbbSBoqKZ2Qpkxy4ChR2ROZqwStZcp13keD+hKQw3VLr4nOC9S3zOLMO4TVoNesSNmz4Cae147tgrcuaGLG41GKlv/4/EYCEzYEWXC8Wg0eqz3o3D+IRLdL2I1j8OqkJH4LqmrRejNySwjesnfzZ6BwWAABAT2hbjDeZv17DB8Hte3TLmO4fx0OgWegYGPjw8AJpMJELxgvXtW2NEcx3dHq8Mq8n1Dr8SnafYMxKedWs7ncwCGwyEQOpf1LNL4VDTLUKfTAaDX6wGBGc+O7BlQQzWxp3e7XSB4Ie4DZufjf7+fn5+p9WJmHGfOwC+ifWS84jW0PAAAAABJRU5ErkJggg==\" y=\"-79.204087\"/>\n   </g>\n  </g>\n  <g id=\"axes_5\">\n   <g clip-path=\"url(#pe999f9d479)\">\n    <image height=\"32\" id=\"imageb31a30ac55\" transform=\"scale(1 -1)translate(0 -32)\" width=\"32\" x=\"175.68\" xlink:href=\"data:image/png;base64,\niVBORw0KGgoAAAANSUhEUgAAACAAAAAgCAYAAABzenr0AAAABHNCSVQICAgIfAhkiAAAAqVJREFUWIXN17lOZDEUBNDT0Ow7AgJAQoCEhMQHkPBFfCsBCQJEAAFi3/d9gqbG6p6IUUuPm7ifn+3nqlt17a6tr69/QUdHB+ju7gZdXV2gt7cXjI2Ngb6+PvD29gZeX1/B19cXuL+/BycnJ2B3d7fpOfOzXuOrFUb99va2qWNgYAAFeRhJm/7h4WHQ09ODwmDWCyNh4OzsDNRqNfDy8tKY11Y4/xH17Oj6+hocHR2h5HhiYgIF4ezsLBgdHQUzMzMoOf38/Gx6f3V1hYI87fj4eGPd9mP6WdTz4+7uDhwcHIDz83MwNDSEwkgiOY5mgmhxcbFpXlwyPz+PwmTWq56Bzs5OFCT9/f0odSDa2NzcBKenp42J9QZ5c3NzYHV1FaytrYHBwUEUzYSBzDs8PMRvYCA7itpTqaLiVLaMOz4+Bvv7+2BjYwNsb2+jMLWwsIDC0MrKStN34obqGYia00bNyWFUG03s7OygaCPu2draQtFI6sPS0lLT+OXlZfDx8dFYv/2Yfhb1IH56ekJxQSKaCCNxTRgJ4svLS/Dw8AD29vbA8/MzSoW8ublBOVuqZyCIgzDPYeTvwG8XTE5Ooqh4amoKpeZfXFygMPL+/o7immgh36megdT85DTndGp4mAiy5DLjMi9qz3NuQGEm48NAGKqegVS65Coqj/+j4vRHK603pLQZl/tB+lvXy82pegZGRkZQdpiKGJVHA3menp5GOT3j+9z5UhmjlbgnZ8s/d8n2Y/pZ1KPaMPH3xffOgzCuiH+DJBFVh8HU+jARjWXd9FfPQPydHSfCTCuS5DiaCUOJnB3RTvyfMyDt72EgvkyOW/2aiGrTH1ekjjw+PjaNyzqpC5kXt/weF+RHctL6X7BVxUEStbf6PchaK2vaaC4MVc7AH8NqYLEyRCjIAAAAAElFTkSuQmCC\" y=\"-79.204087\"/>\n   </g>\n  </g>\n  <g id=\"axes_6\">\n   <g clip-path=\"url(#pbb28b526c7)\">\n    <image height=\"32\" id=\"image92a82b6202\" transform=\"scale(1 -1)translate(0 -32)\" width=\"32\" x=\"217.8\" xlink:href=\"data:image/png;base64,\niVBORw0KGgoAAAANSUhEUgAAACAAAAAgCAYAAABzenr0AAAABHNCSVQICAgIfAhkiAAAAnlJREFUWIXNlttOIlEQRRfQAoog18iL0R/hI/htvwKjJBDlIqCIIMwDLA7d8+TESVsvJ307nFq1qzaZbre7A5hMJgAsFgsAnp+fAcjlcgBks1kAdrsdALVajdO4uLgA4OrqitP9Xl5eACgWi7Hv6vX6fl9SjqhUKsVunJ2dATCbzQB4e3uLrdvtFoBMJgNAtVqNfff+/g7AYDAA4OnpCYCPjw8gEL29vQV+A4FOpwNApVIBYLPZAKF2w+EQCJowE2suAWs7Ho8BkGyz2QSCttTQzc0N8AsIZO7v73cQTnR5eQmEWpv5aDQC4PPzM7aqBTUgMQnaPfl8PrZGUbR//h+S+lZE5XIZCJlbW0/uen5+DgQyq9UKgOVyud/okJH73d3dAYGMmigUCsAJoR9P6ZsRPTw8AKHvrZGTSwKq2Jq7vr6+xjaUoM+dC37vHHCupE/g8fERgF6vB4STNxoNIMxsT+wcsJ+n02lsw1arBQTNqBXf89rn6RMwMyeY8fX1BQQNGEmXm8/n+40OXSAZCaotteKklUT6BMzQfvVaAk5A1W2obgn43My8L1nJ2F1ep0/g+voaCKq0RhKRgP5uBkZy8ul+akRSuqbvHzX2k9n8S0TtdhsIE9BMk26XdDX/P0gkOfutvd3h6n5+nz4BMzV0NyeeLqlWJGCN1Uy/3weCup0vut/R/w8kdcf0CZiJJ7cbVKn9rSckPcBJ5yo5teBqSMDuSJ+AJ9enzdCaeV8iyTBD+1vfT75/9P+Et6RPwJntyfzPp9q9tq/N2G4xY99X9XaHmpKs3/8eL7BWnigZR7UeCDnJdD19fr1eA3+r34knGX9HsqkT+APn1mXoiUsvWgAAAABJRU5ErkJggg==\" y=\"-79.204087\"/>\n   </g>\n  </g>\n  <g id=\"axes_7\">\n   <g clip-path=\"url(#p02546f070d)\">\n    <image height=\"32\" id=\"imageb76db63836\" transform=\"scale(1 -1)translate(0 -32)\" width=\"32\" x=\"259.92\" xlink:href=\"data:image/png;base64,\niVBORw0KGgoAAAANSUhEUgAAACAAAAAgCAYAAABzenr0AAAABHNCSVQICAgIfAhkiAAAAmJJREFUWIXNl8luIjEURQ8zYUoQUYJYICHxbXw1bEHMBJIwQy86B6uqd62W3N44ZZcLv/Puu3Yyg8HgDpDL5QAol8sAtNttADqdDgCXywWA0WgEwGazAaBSqSTWZbNZAI7HIwDz+RyAQqEAQL1eB+B8Pv9+n8gtv91uAfj8/ATCDl9eXpIv5vMANBoNAEqlUqK/Xq8A3O93IBCxOZ/JZBLj8QncbjcAJpMJEHJnLiVSrVYBaLVaACwWi0Rv5MViMdFL7uvrCwgkbPEJqEbVao6M2Cp4fn4GYL/fAyFy131/fwNQq9UAeH19TTz7O2rO78Qn4I6WyyUQ6toq6Pf7QKjj4XAIBB9w3W63A4IW3t/fgUBSDTjv9+ITUPXm0F4tNJvNxAKr5nQ6ASG3Ngmqfh3UyH12Pj4BI3GHqnM6nQLBIZ+enoA/I0g7ptXy8fEBwGw2A+BwOABBC4+z45+G8xftQUDn0vnMtTu3GYHjngUSUjsSWK/XQCAsuf+nCvR2nct7gPVrVdj0ctUvKceNXFLOWx1qRGLxCXS7XSDs2B2qjfF4DARCj4U/uTQye53VG5a92lBrEo5PoNfrAaG+rXu93dPOXJpj/UItGJEE7T011ZK/430jPgFz47ltfatqd26kq9UKCIQkZq51RjUiOc8cteV4fAJpr9ajdSrPfQn4nr0ErBLXpW/bErXaJBGfgKpMR+64VZBungGq3dzrcKpfbTiupjwj4hPwD+tYAuZK9ep0OpkRS8pxm89vb2+Jce+QtvgEHvX440zmVpUboapN36D0kfT/hhJ13u/4fbURncAv2KOD6+gP8eIAAAAASUVORK5CYII=\" y=\"-79.204087\"/>\n   </g>\n  </g>\n  <g id=\"axes_8\">\n   <g clip-path=\"url(#p1d5a6a762d)\">\n    <image height=\"32\" id=\"image4e7c6f8285\" transform=\"scale(1 -1)translate(0 -32)\" width=\"32\" x=\"302.04\" xlink:href=\"data:image/png;base64,\niVBORw0KGgoAAAANSUhEUgAAACAAAAAgCAYAAABzenr0AAAABHNCSVQICAgIfAhkiAAAAo1JREFUWIXNl8tOAkEQRQ84qKgoCohRiSsT/4Kv8lfZmKgQowYJ+ObhAxfmWM7sTEyG3jQz3TOZe6rqVlM4PT2d82sMBgMAXl5eACiXy7+XmU6nACRJAkC1WgWgVCoB8Pn5CUCxWARgY2MjdX11dZV6f5GcR+IPlU0mEwDm828wKvWLXa/X6wDMZjMgyC0vLwOwubkJBBHvr66upu7nT2BlZQWIL1paWkrN6+vrqXXJrK2tAfD6+grA8/MzAFtbW6l9kvV5ibmeP4GPjw8ACoVCauH9/R2I2DtUaEzf3t4A2NvbA6DZbAJBUEJZ5YtD4PLyEojsfnp6+l7IZL9EVOY+69xcUqnvG4/HQBB2/vGHf5f0x5Hc3t4CcH19DcDDwwMQiiqVSuqB+/t7ILJaP7AqVGaMJaejmkPO+RPQmfxiYzcajVKzJB4fH4HIgeFwCASxVqsFRI+QgL3AnFqcKjg6OgKijs1aq0PFkmo0GkCQ0inthru7u6n9Ks06qkTyJ9ButwE4ODgAwtl6vR4QSr0voWxP0B/MBXPEHlGr1YBQbm7lTqDQ6XTmACcnJ0AoU0G2u3nfHuJ9CemgNzc3AJyfnwOwvb0NRDV5MsqdQGKdOqtMpXq3sVWh1+6XgNWgD+iM7ss6aP4EjIV9295gDP3S7FnOmKrY/RKzOuwtvt/9Ozs7wCIQODs7A6I+u90uEGe54+NjIOr87u4OiGxW6cXFBRC+sb+/D8TJKXs6/ukR/6/pbyPp9/tAZKtK7d9eGzvJ6HBZMirUMbNnSslZRfkTsEsdHh4C0RXtgta9VWDMXbe+rXuz22v9xCrQLzw75k/A/p79p6PHe+Lxv55DIs4Oc8cYS9hcyFZD7gS+AD/kgK8q/3luAAAAAElFTkSuQmCC\" y=\"-79.204087\"/>\n   </g>\n  </g>\n  <g id=\"axes_9\">\n   <g clip-path=\"url(#p8e7600e06b)\">\n    <image height=\"32\" id=\"imagebe426c514d\" transform=\"scale(1 -1)translate(0 -32)\" width=\"32\" x=\"344.16\" xlink:href=\"data:image/png;base64,\niVBORw0KGgoAAAANSUhEUgAAACAAAAAgCAYAAABzenr0AAAABHNCSVQICAgIfAhkiAAAApZJREFUWIXNl8tOKkEQhj+Um4qIRqO4grhSF2xY+ww8G49m4oYIMfGSSFQUxBsoLsh3+vS4O55kqE1Pd7p7qv7666+ZTLvdngH0ej0Avr6+ACgWiwCsr69Hc8dKpcLfdnV1BcDNzQ0Aq6urAGxubgKwsrISnR8MBgAskbJl397eAFhbWwPg8/Mz2jCbzQCYTqcATCYTADz3+voKQL/fj/bl8/noPs9lMpno3vQR0KO9vT0geDoejwFYWpr7KDf03Pn7+zsQENFyuVw0F6mXl5fonvQR8EGWmjsR0GMjTubSHMshbXl5GYBCoQAEpEajEbBICMhaIzJ3Rvr09DTfmJ2DJRJGqHkuGbnIev/z8zMQEEkfAT03Ms11c2skrpdKJSBwwCpIVs1wOAQCMirr4nDACPVcz5Ks1oxM7mjJujfn7pdD9oiPj4/5e3/n/+8ta3ey/pOemsOHh4dovL29BUJO5YjImPOtra1o3dH3po9AuVwGoFqtArCxsQGE3D0+PgJweXkJBLbb/dQL75FD6oCIes5RJNJHQEWS9QcHB0CIwC8X7f7+Hgi9Qh0wIhGQK3d3d9G69kc3/lck/2rZs7MzILBdPajVakBAZnt7G4CdnR0g1LEccG73tOuJsDrhqE6kjkCm1WrNIOTk+PgYgEajAcDR0REQqsMI7ZJywmpxlAMiYcTqhtWROgLZ8/NzALrdLgCnp6fReHJyAkCz2QRClezv7wOhGq6vrwG4uLgAfvYW9yW7bPoIWL9+tcpae4N/QEbivsPDQyAooLm1WsyxOuG9Kqzr6SMg6zUjlPXOO50OEPRC9qsLstwuJ0fsknZHq2hxEKjX68DPfzkjkbXm0L9glW93dzc6L3J2V9dFSl1YmC+ib+0ngnpuIQgEAAAAAElFTkSuQmCC\" y=\"-79.204087\"/>\n   </g>\n  </g>\n  <g id=\"axes_10\">\n   <g clip-path=\"url(#p7f165b9179)\">\n    <image height=\"32\" id=\"imageb07fb4f345\" transform=\"scale(1 -1)translate(0 -32)\" width=\"32\" x=\"386.28\" xlink:href=\"data:image/png;base64,\niVBORw0KGgoAAAANSUhEUgAAACAAAAAgCAYAAABzenr0AAAABHNCSVQICAgIfAhkiAAAAnhJREFUWIXNl8tOIkEUhj8QAQHxgpgICQnGhY/GO/FeJLgw0Y0LvCAIqCjMAj+PtJnNZJLus6l0d1V1/ZdzqirX7/fX/IjlcgnA7u4uAIVCAYCPjw8AXl9fAfj8/ARgvd4Mz+fzACwWi63vzjefzwGYTqcAzGazzThSjsLFxQUABwcHQKzcFfr8/v4OwP39PQCTyQQIxCK0vwwajnfe1WoFZIGB09NTADqdDhArH41GAIzHYyCQi1gt9YReKBaLW+9l6u3tbevHtVoNyAIDaqeLS6XS5sOX+/3++PgIwMPDAwDPz8/Ab2SOf3p6AkLznZ2drdb502dgMBgAgfTo6AgIjYfDIQBXV1cA3N3dAeHiJCK11/XVahWAvb29rf5mS+oM5Hq93hpCSzV0xSK+vb0FArlMWT/MHiumSFutFgDHx8dAeC07lfDm5gaA6+trIPJdZJVKBYg8V1MRi1QPWTdkUKYM32fGA4UkAvNcrdTw5OQECASNRgMIBhz38vIChJf0jO/dHc2W9BnY398HQnNXeH5+DsDl5SUQyGXm8PAQCIS633pgrZcJ64pM+Z/0GdDl3W4XgGazCcTueHZ2BgQC9wCzwpAJmSyXy0BURFu1/96D/iucf4iC+dxut4HITzXM5XJAaKx25rthfVBzveI4Q2ayUwdkQC+I2FAr892a7slIL9TrdeA38r9liYylz4D57YqSlUqkrlwmPPvJoM/Js6L9ZcZ+2TkTiiC5m8mE5wT7qbnMqb3udh77fZ/9vhiwNdJnwHz0FOs5Pqld8o7os8yY/1ZCsym52yZvVOkzICKRJjUVoW3yJiQi93vns3Wc8zs+M7vhH6nKfd/WqyMSAAAAAElFTkSuQmCC\" y=\"-79.204087\"/>\n   </g>\n  </g>\n  <g id=\"axes_11\">\n   <g clip-path=\"url(#p8ae6a74c0d)\">\n    <image height=\"32\" id=\"image220cb67bf7\" transform=\"scale(1 -1)translate(0 -32)\" width=\"32\" x=\"7.2\" xlink:href=\"data:image/png;base64,\niVBORw0KGgoAAAANSUhEUgAAACAAAAAgCAYAAABzenr0AAAABHNCSVQICAgIfAhkiAAAAmtJREFUWIXNl0tPKkEQhT9gQEVAHgaikLgg7vzl/iwWYCTIG3nKXdx89KV315AMtZkwM1XT59Sp003m/f39CJDNZgFYrVYA7HY7AAqFAgC5XA6ATCYDwPF4BOD29pZ/8/f7PQDT6RSA8XgMwHa7BWA4HJ699zcrxUg2mw0QkC4WCwC+v78BKBaLANzf3wOBCcN882az2dn18/MTCMyKvNFoANfAgL0RQb/fB2C5XAKBmXw+D8DNzQ0Ad3d3QNDKZDI5u4q81+sB8PHxcVbn7e0NuAYG7LFIRGivVPt8PgdgNBoBQf0/Pz9A6LHqV+2DwQAIzPq9r68v4BoYWK/XQFB3q9UCgrpFJnKnQ0b0BeuYZ5TLZQC63e5Z/Xa7DVwDA06BSFS9oRZEIlNOiRoplUoAVKtVAB4fHwF4fX0FoNlsAtDpdAA4HA7ANTAQe7uqTpIEgOfnZyAg9H2dLnZM66iJSqUCwMvLCwBPT09A2CPSZ0DVunKvDw8PANTrdSD01vtqw2mQMfPdHfV868jkaRe9PKb/i8Se6+16tYjstX5g+J7hdHjf3js9ql6ntG76DOj9zqkrd29wV1PVhnnxHlKr1YDAiEhl2lA76TNgz1SlPfN8oGoNEemgXtVQ7APW8Tsy4f30GVDt+oG7nkicf9/zuVNhnr7gXuJz6/g8PkOmz4DqdU4904nYldtrHU7NGObLkFrSOeP/Fad6F4Xzi0jskfOsSuOTT7xXyJxM2Fvz1YK/45OXU5M+A/bElcZqlZm4d7FviMg6aiV2QjWhxtJnIFZnjFx1GyKRCbUi4njuYw35nVPeReH8Iv4A2FWfzA9EXpIAAAAASUVORK5CYII=\" y=\"-151.347913\"/>\n   </g>\n  </g>\n  <g id=\"axes_12\">\n   <g clip-path=\"url(#p2c05bfcde2)\">\n    <image height=\"32\" id=\"image3edfca152c\" transform=\"scale(1 -1)translate(0 -32)\" width=\"32\" x=\"49.32\" xlink:href=\"data:image/png;base64,\niVBORw0KGgoAAAANSUhEUgAAACAAAAAgCAYAAABzenr0AAAABHNCSVQICAgIfAhkiAAAAn1JREFUWIXNl8tOKkEURRfYvkCUACIwMYT/9CsdEhMSCAYwAoIPVLgTVleqHV01aWtS6e56nL3P3qeqCzc3NzuA5+dnAJbLJQDHx8cAnJycADCbzQC4v78HoFwuA3B9fQ3A4eEhAA8PDwC8v79H75MkAWC73QJwdHQEQJGcW1KpVIAQ6Wq1ivpisRj1Im80GtFzoVAA4Pz8HAhMbjabaMPT09NofP4MmOvdbgfAy8sLAOv1GggakKFqtQoEpDLjfJsIS6VStI65l5n8GVD9r6+v0QeRpQP3Kv74+ADg7e0NgIODg2ic73VBloEv+/ws/p+3xFzrTyM2R0YsUjXis+PNbXa+LctU6q7fQvLdljw9PQEhR/YiUf3mVs04Tm3IgAyJUM18fn5G8/5OJZxOpwBcXl4CIbKsz+fzOQBZxrII1Yx1wNyrMRl1Xv4MGJmRG5m5Nffj8RgIDMiYFdB1ROwZI5O6Qte5X/4MXFxcACFnaY3OqFh1i9QzRKY8FWu1WvTs9+FwCMBisQACU/kzoHpFLBPWcpH7XgYeHx+BkOurqysAer1eNF7kjreOpC77fUz/1xL9beUzZ1lN6F/vhqPRCIBWqwVAvV4HoN1uA2B9EbnrWD/+jgayp5gRmmub770rikAXeTvudDpAULt1JL0D7rWWnhm/CucbLbGi6VuReau1concnDrOXv83m00gaEVNOc9el+XPgH60HuhTa75/Oqo66wo1cHZ2Fi0sQpkcDAZAOFOcnz8DRq5qzXn2Xm/FU+3dbhcI/rf573h3dwfAZDKJ1k033msjfwb0qb0+9Q/IU8+cqQEZsZLe3t4C4fTs9/vRsy5xnuvmzsA/LxtSKZ3IegAAAAAASUVORK5CYII=\" y=\"-151.347913\"/>\n   </g>\n  </g>\n  <g id=\"axes_13\">\n   <g clip-path=\"url(#pb197b47b08)\">\n    <image height=\"32\" id=\"image69f20ec56b\" transform=\"scale(1 -1)translate(0 -32)\" width=\"32\" x=\"91.44\" xlink:href=\"data:image/png;base64,\niVBORw0KGgoAAAANSUhEUgAAACAAAAAgCAYAAABzenr0AAAABHNCSVQICAgIfAhkiAAAAshJREFUWIXN18dOXE0UBOAPGHIOJguEEAIkYMGKd+C5eEcQeGEwOZhoTDD8i6HcGv6VLaThbFo9t29Pn6o6dfo2bGxsvEJfXx9oamoCp6en4OLiAvz+/btmfH5+Bs3NzTXj7e0tuLm5AVNTU+DLly81+/369Qs0qnNUcqLW1laUzA4ODsD9/T1oa2sDnZ2dKEjl+fX1NUpm2SfPM29srObc09NTnX98Tn8XlUqlgnLScBcEHh8fwcTEBAoCibu7OxTuk2kQa29vBw0NDTXrgnj9Eejv70fhLhmHq8HBQTA2Nga6u7vB1dUVeHl5qW70hmSqIeu6urpQNPNeC/VHIBzlhE9PTyi+8H7MyYNU1ifiE3keTQWpINPS0lLd70PT+YeoJKNwlXhf13HGZHJ+fo5SLfGTaCEOmHqP6qOpP1r70HT+ISqXl5comUYLf5zqDaHUbzIOAicnJzXvx/ODRMbh4WEwPT0Nfvz4Ud3/43P6u6gcHR2hcBgHy4mjjdRvtPHz58/qBm8ZxilnZ2fB6Ogo6OjoqBmz/vM4YbiMs72+vqJwGkSildR96nlkZARMTk6iIDAwMFCzX/ZJz8n/1R+BqPHs7Az/v/kkcvI4YjgO94uLizXzIHh4eIiimfwezdUfgZxwa2sLxQcSca7U99LSElhYWEDpktFAPH5vbw9FM9FakAii9Ufg4eEBZEzdx8vX1tbA+Pg4mJubAzMzMyj1HG7jK8fHxygOuru7C3Z2dvCZumEyCdep4/X1dRQEUsdxtNzxUj3fv38H29vb4Nu3byi9IplHG729vfgMCCwvL6N0v5WVFbC6uoqi7nAZVcc/kvHm5iZKNUULuUdkfbgPkvVHIF0vdT0/P49yD4hPvP9SSncMp1+/fq2Z5y4YjSSGhobwmRB4/wUTrlK34Xx/f79mnvfi6el66ZLvv7gyT/eM49Ydgf8A0gyB4U6c9EIAAAAASUVORK5CYII=\" y=\"-151.347913\"/>\n   </g>\n  </g>\n  <g id=\"axes_14\">\n   <g clip-path=\"url(#pe6ad27d9a0)\">\n    <image height=\"32\" id=\"image4033e3026d\" transform=\"scale(1 -1)translate(0 -32)\" width=\"32\" x=\"133.56\" xlink:href=\"data:image/png;base64,\niVBORw0KGgoAAAANSUhEUgAAACAAAAAgCAYAAABzenr0AAAABHNCSVQICAgIfAhkiAAAAsZJREFUWIXN1klLXVsQBeDPXmPfYlBJBEVEFBTBkQOH/kf/jjObkZqJgpEkgn3sYhcz8K238c7eI3BvTQ57n33P3WtVrVVVt7a29gofPnwAnz9/Bq2treD4+Bhsbm6CnZ0d8OvXL/D7929QX18PGhoaQGdnJ+jt7X33fnBwEIyMjLztq3I0dnV1gfHxcRQGrq+vURBvbGyA7e1tFETd3d0oyMNcc3Pzu3UYbm9vBw8PD2/f+euQ/mM0Pj8/o+T08PAQHBwcgPX1dbC1tQWOjo5QchuEQ0NDYGZmBkxMTIAwHIbq6urAxcUFaoGBIPr69SvKzcLE3t4eODs7Q8nh5OQkmJqaQqmh+fl58PHjR3B3dweurq7Az58/UWqs+gx8+fIFJefR/dPTE0rOkuPh4WGwsrICFhcXUWqio6MDJfctLS0oDJ6fn4PHx0fUAgPfv38HYeL+/h4lp9PT0ygOlufc3Bz49OkTioqCMAxm/+TkBAV5f38/aoGB3CgRZwvy1dXVd+u2trZ35+IjUdH+/j5K7vP+8vIS9PT0oKip+gzkRrOzsyhdbGlpCSwvL6PUxM3NDXh5eQGnp6co/vHt2zcU5FFFU1MTSg9IrdUOAwsLC2B0dBQFcbw+SH/8+AFub2/f7afKMx8kwkByHmfM76vPwMDAAIqnh4HX11ewu7uLkrPoPJ6eZ5hIxDHjoGEmvlA7KsgElJsmktMgC4JUe7pZekUmpPhEX18fyhwQVUQNjY2Nb7/7m2j+TzRW3jQ6jZfn5qneOFoYiafHGYMsM2HO//uH/7zPd6vPQHpBvDw3zH6qP8xUIq3UeWogOg8DYTjn4qjVZyDIMglF/5X9PHPA2NgYSi+IGlLdUUP8IrNgmErUHgOVXSo1EJ2HmaxzPuqorJlM29mvZLR2VJAbJ5KrIExkHYcMgiBLpPoTqfrKmomaqs7AHz/CivDkd8FvAAAAAElFTkSuQmCC\" y=\"-151.347913\"/>\n   </g>\n  </g>\n  <g id=\"axes_15\">\n   <g clip-path=\"url(#pae56fd47fc)\">\n    <image height=\"32\" id=\"image2fa2a11bc1\" transform=\"scale(1 -1)translate(0 -32)\" width=\"32\" x=\"175.68\" xlink:href=\"data:image/png;base64,\niVBORw0KGgoAAAANSUhEUgAAACAAAAAgCAYAAABzenr0AAAABHNCSVQICAgIfAhkiAAAAsdJREFUWIXNl8lOKlEURReKIjZRBOyIJkYkTJwZp4z8Lz7H73Bq4kRHamyixt4Y+w55A1w5r5i95CXFnVyKOrfqnn322ftWptlstgEGBgYAGBoaAqBQKPD3+Pr6AqCvrw+AdrsNwPPzMwAvLy8A9Pf3A/Dw8JCIn5ubA+Dt7Q2AVqvVuU/KI+uOzHB4eLhzI5sFYqeDg4MAjI2NJR7g+vf390SciD49PQFwcXGRuD85OQn0EgKO6enpxPXr6ysAmUwGgJ+fHyAQ8/7IyAgA4+PjQCDnOuM/Pj6AQC59BMzo+/sbiB1bK7kgu42T5a63psY9Pj4CgYTd1Y1I+gj4w8zcmZnkcjkgELHGo6OjANzd3QGRmdcnJyeJ/2dnZ4FAwq5JHwH7VSW7ubkBoo8/Pz+B0AcVLZ/PA4GY8WasQprxxMREIl4lTR8Bayybj4+PATg6OkoETk1NAZG5XqEyViqVRLwZyy1rLsK9g4B96rB2arc7L5fLQCjfzMwMEOz2ulgsAtH/6sX19TUQHHFOHwFrJLtVNIf9fH5+DoSGX15eAnB1dQUEh1ZWVoDwFJ8nggsLCwDc3t4CvYCA/b24uAhEv8/PzwOwtbUFwM7ODhD+LhdOT0+BQEpkGo0GAPV6HYBqtdp54a+3nJ2dAb2AgDtz1gPse3XCnctq+1kE9vf3ATg8PATg/v4egPX1dQBWV1eB6Bo9JX0ESqUSECcad64eyN61tTUgPEPX293dBYIrBwcHQCid5wKRWV5eTjw3dQQyGxsbbYgai4BDzfd877nADGX/9vZ2YlYfdEm9wm5bWlrqPPf/5vPvIyur9X1r74lHL3CYkcjIZtltbTc3NwHY29tLzCIsh9JHoFvLZXm34tkleoeZqJyeC1TQWq3WecEvt1RIvcTuSB8Ba2xtZbtnN5Ho/mYUAV1N93O9ruds5upBz3wX/AEhFHi98IHR+AAAAABJRU5ErkJggg==\" y=\"-151.347913\"/>\n   </g>\n  </g>\n  <g id=\"axes_16\">\n   <g clip-path=\"url(#p8ca73d785f)\">\n    <image height=\"32\" id=\"imagef52494c872\" transform=\"scale(1 -1)translate(0 -32)\" width=\"32\" x=\"217.8\" xlink:href=\"data:image/png;base64,\niVBORw0KGgoAAAANSUhEUgAAACAAAAAgCAYAAABzenr0AAAABHNCSVQICAgIfAhkiAAAApxJREFUWIXN1sdKZEEUBuCvzTmgqBgwgitf00dzo64EQUUQFYyYc+pZOD81c2f219p01+1Ldf3pnNNYXV1twsvLC7i/v/fn/unpCdzd3flzzczMgOnpaTA4OAgGBgZAR0fHX++3tLSA5+dncHR09P1czavt7e0NvL+/o9w0+8/Pz+8X29pQkI2MjICFhQUwPj4OJicnQVdXFzg7OwPX19f/Pad+BqJ1s9kEPT09KDfM84+PD9De3o6i/dzcHJidnQWjo6Mo3tnb2wMHBwcozMYL9TPQ2dmJgjif0TCahanu7m4UBqJ9mDs+Pgbb29tgbW0N7OzsoDCQtNTPQBB+fX2h3LCvrw8FWT6T96Qg3tjd3QUbGxsoyLe2tlAYSKpWVlbwExi4urpCyX8QhoGhoSFwc3ODUilPTk5QKtr+/j7Y3NwE6+vr4PT0FDw8PID+/n6UNNXPQNwdpL29vSiaxyNh4OLiAsUz5+fnKEiTgryfc5eWlsDU1BSYmJjAT2AgSFPBUgcuLy+/X/jNQJAHafaHh4fg8fERReswmV6xuLiI0kXjufoZSEWK619fX0HS0drailIJ83sQJ9dZYTBdcXl5Gf92zcwX9TOQL0GSLhUXpxvmedwfjePq6jwxPz+PgnxsbAwlXTm/fgZSy9O/c7N4oNFooDCUCSrdMsiifTVV6bZJR/4naaqfgSCsap8ZLlpnDognkoowkMkotT6eSKXMuVlJUf0MxLXVfGdf7Y7RMExE+zCUdXt7i8JA9nnv50xEyXUQh5HqRBQ3Dw8Po0xE8Ujm/6QkTIXRrJyblNTPQG4e5NGoOhWnJ4SBaJ/6kNoeb4SxIE5q8j+pP/UzkLxH62ga5GEi9SIIgjxa53nOCfK4PQzk3HildgZ+AdI+aflqzy7cAAAAAElFTkSuQmCC\" y=\"-151.347913\"/>\n   </g>\n  </g>\n  <g id=\"axes_17\">\n   <g clip-path=\"url(#p0fadacc68c)\">\n    <image height=\"32\" id=\"imagecf94ffe6d4\" transform=\"scale(1 -1)translate(0 -32)\" width=\"32\" x=\"259.92\" xlink:href=\"data:image/png;base64,\niVBORw0KGgoAAAANSUhEUgAAACAAAAAgCAYAAABzenr0AAAABHNCSVQICAgIfAhkiAAAAnBJREFUWIXNl8lOAkEURQ/YKJMMAQwQXPl5/jMJC4JEmRFwQFzAoezeaUjat6l0TdS9795XRebx8fEAcHV1BUChUAAgn88DcH19DcD7+zs/o1wu83NdFEUA5HI5AJ6fnwEYDAaxed1uF4BGowFAlpQjKpVKAGSzx7P4bXs4HAB4e3sDYLPZHBeeELfbbQBubm5i89brNQDz+RwITH58fMTmpc+AOTt3nJCpBRl4eXkBYDabAUEjzWYTgEqlAsBkMgECI+5nyMByuQT+AwPJnBgiNHTB5+cnAPv9Pjbv7u4OgK+vr+PGJ+TOc32SwfQZSCLXDWeVnr71sZoR0WKxAKDX6wEBmUyIeLfbAUEDrVbruP9F4fwhInNkZatWq0BALhK/DftXqxUQGKvVarFWzciU9aDT6Rz3vSicP0SkWj2ZTBjb7TY2boWs1+tAYMxWDVgHrIjj8dgfBAIz6TPgiTOZDBBUas7ViOoXuXfAw8MDAPf39wBMp1MgqP719RUIt+Pt7S0QKuz/YcCciCBZyVS9J3fc3JtzEbuf4yK3Pbvt8ph+F5GIRKrqi8VirNXnjtta6Xz59Pv9WL/a0V0y4O2ZPgOqXybMtb73pPpZJmRsOBwCMBqNAHh6egKCC2TA94WtkT4D3nL637AOeOvJlPe+zCTvAl2gS7wTZNj1/6cSmlsRWhdkxLegiHzXm0s1I1PmPukmXWAlNdJnQLVbmUSazG3yZSRimTL33vt+J/9v+Hu6I30GfNd7QnPnCa1cMiNiGVAjIrZfpmTA3KuF80vr8ph+F+c3YTJ3+la161srXXKd4zIpgyLVDbpMt6TOwDcWnmOKCgd//wAAAABJRU5ErkJggg==\" y=\"-151.347913\"/>\n   </g>\n  </g>\n  <g id=\"axes_18\">\n   <g clip-path=\"url(#pae11c9d83a)\">\n    <image height=\"32\" id=\"image58bfdde30f\" transform=\"scale(1 -1)translate(0 -32)\" width=\"32\" x=\"302.04\" xlink:href=\"data:image/png;base64,\niVBORw0KGgoAAAANSUhEUgAAACAAAAAgCAYAAABzenr0AAAABHNCSVQICAgIfAhkiAAAAmpJREFUWIXNl1lrIkEURo9G4xJ3UTQqCP4tf7oQ4lMi7lsWt3kIJzU2Mw+BQHtfiu4qy/qWe+t2YjgcXgASiQQAx+MRgMvlAsD9/T0A2WwWgHw+z9/r397eADifzwB0u92r8e7uDoDn52cAnp6eAKjX6wAkiTlSmUwGgPf396vRKBQKABwOBwBms9nVvIw1m00AOp0OAK1WCwgMOb68vACB2fgZULtisfj1IpW6GtXy9fUVgNFoBARG9EKtVgOg3W4D0O/3ARiPxwAsFgsgeOB0OgG3wIBIy+UyEFwrMl3vqOaTyQSAz89PAB4fH4HA5GAwAGC/3wOw2WyAwIBei58B81svROvBbrcDAjLdrSc+Pj6AgEhv6HKzzIiuj58Bkaulee9JnS+VSgBUKhUAksmvs8uUGlsn1uv1P/e1Aj48PHzt8/uYfhbfDIhE5EY6nQYCYsP1InQfw/dqbRZVq1UgZFv8DHgSK5Ma6mZDRN6Saqr2ul3GDJlyXg+5X/wMeGLz3Lown8+BUAdkRAbU0nVqrfu9/fydDMucFfJ2GBB5LpcDgmYidhSRSGROL+mJ6XQKwHa7BUJ2WWm/s+v3Mf0sUiKyU7FCmbdqZ5777Ly3oAyuVisg3BWudz7KbPwMRN2rlmoUzQJDRDLgvO42O7wVG40GEDomO6T4GbAj8qQ+W8HUUM108f86J/eRAfeTMfuJ2+mKo19CItL1UWR6ZblcXm3U6/WA4HJ7RpnSA+53O5Uw2guqWbS3s2uOZoWVU6TeATJkxfR/zDrn42fA+9mTGzISvSNkxGe/iKwbVkK9JaNmhRVXL8XOwB+A7XbCJqyxtgAAAABJRU5ErkJggg==\" y=\"-151.347913\"/>\n   </g>\n  </g>\n  <g id=\"axes_19\">\n   <g clip-path=\"url(#p52bbc3582f)\">\n    <image height=\"32\" id=\"image7d3aadc1a2\" transform=\"scale(1 -1)translate(0 -32)\" width=\"32\" x=\"344.16\" xlink:href=\"data:image/png;base64,\niVBORw0KGgoAAAANSUhEUgAAACAAAAAgCAYAAABzenr0AAAABHNCSVQICAgIfAhkiAAAAnNJREFUWIXNl0tPKkEQRg9PQcAAGoILBDbwj/y5/BSMQOICeanIG+7CHPvO7G5yk6E3ne5pZqpOfVVdpJ6fny/8NarVKgClUgmA9/d3AHa7XeR5oVAA4Pb2NrL23Pl8BmC/3wOwXq8BOJ1Okd+lSXhktTyfzwPBspubGwBqtRoAi8UCgMPhAEClUomcc3+73QKBiMQc8/kcgM1mA1wDAT3J5XKRB8bw7u4OCDH8/v4Ggqeec325/EhKMpLwPRL4/PwEroGAsddSVZvJZIDgkTH++vqK7JfLZSAQTKVSQMgGYy2h4/EIQDr943vyBLRcEnquNrRcAmogm80C0Gq1gJAtPlczZo/7klEjyRPQY9VcLBYBqNfrQFCtJPRIYqr78fERgOl0Gjmn52rG2YqYPAE1oGUOyeipsyRmsxkQCN3f3wMhxmpAst4tZolZlzwBLXI2T61Uqt0Yv76+AqEeTCYTIKja2Pq+eJ3xnOSTJ/D29gaEmDebTSCo27WWD4dDAJbLJRBUb0WM364StcL+xv5qKuF4PAaCxU9PTwD0ej0A+v0+EPqEwWAABM/UgtkR75Dcd5aE30uegHmqKp3VgPntWq3oidni2t+b92pHzVgZHckTeHh4AIKH5r0qjXe38Q5Ij1arFQCdTifyHjVihZSQWZM8Ae99CTQajcjaymZt13NjGteCRNwfjUZAIOD7fzuj/+/Tv42st6D5a4cT74gkYGdkNtj3x/v/j4+PyKymHBJKnoCWxf8X2NGoYmMuqXa7DYBZ5Nr8VzuSMXskdz13gTXZ2L68vADhljOG3ppWtm63CwSt6Jnqdm0ldei530ucwB8WR2upaq0vMQAAAABJRU5ErkJggg==\" y=\"-151.347913\"/>\n   </g>\n  </g>\n  <g id=\"axes_20\">\n   <g clip-path=\"url(#p3951f0df11)\">\n    <image height=\"32\" id=\"imageaec50112f7\" transform=\"scale(1 -1)translate(0 -32)\" width=\"32\" x=\"386.28\" xlink:href=\"data:image/png;base64,\niVBORw0KGgoAAAANSUhEUgAAACAAAAAgCAYAAABzenr0AAAABHNCSVQICAgIfAhkiAAAAmdJREFUWIXNl0lTIkEQRh8IKggqSxDimb/NPwOCwA1EAUHZlzm9qema28RENHlpiiqS/F5mZVVn2u32CeB4PAKw2+0AOBwOAMxmMwD2+z0AjUYDgO12m1hXLpcBqFQqAFxeXvKn34uLCwCm0ykAT09PAGRJ2XK3t7dAUG6Ejn1qKvf7+/t7IChX8Wq1AuDm5gaAUqmUmPd/0idgRNfX18DfkebzeSDk1HXmXstkMgBsNhsgkDqdTgk/uVwOCGTSJ7Ber4EQqco1iRixBNwVKjbn8W7Sv0QkeXd3B5wDgff3dyDsYxXN53MACoVCYt5cfn19AfDx8QEEha5zrEkmm80m/KZPYDKZAKGq7ViaObu6ugJCtVszKl0ul4n1cU3pXwL6S5/Aw8MDEKraHNdqNSBUvWRU7LrHx0cA7KjuFhW6i5zXn37SJ9BqtYBQ1ZrVbA7NqTWgIhVK0jMhJuI6+0Ov1wPOgYAfjFBzn9rhtDi3KlSxteHv4n4i0ZeXF+AcCPz8/AAht/FNR4v7gUqtahV703l9fQVgOBwm5mMS6ROwgy0WCwDsjEbq05tPtVoFQHKedt/f3wB0u10AOp0OEEiMRiMgkGs2m8A5ELAaVSABc22OJeVp+fn5CUC/3wfC7fnt7Q2AwWCQ8Oe8HVVy6RMwkvi81lSsAjvi8/MzEAhY5dZS3DElKgH7SPoEisUiECL1qdkXJOSZYc1IzLNDZb5BOfY2rP2+H/wvJf9qufi00sxpfEccj8dA6APmVAISVLG7yH7iWH/pE/CDHcrcxGdB/IZjJ7M2JFmv14FA0HdAx+6Gs3kz+gX+AnV1cRGykAAAAABJRU5ErkJggg==\" y=\"-151.347913\"/>\n   </g>\n  </g>\n  <g id=\"text_1\">\n   <!-- Receptive Fields -->\n   <defs>\n    <path d=\"M 7.859375 0 \nL 7.859375 71.578125 \nL 39.59375 71.578125 \nQ 49.171875 71.578125 54.140625 69.640625 \nQ 59.125 67.71875 62.109375 62.828125 \nQ 65.09375 57.953125 65.09375 52.046875 \nQ 65.09375 44.4375 60.15625 39.203125 \nQ 55.21875 33.984375 44.921875 32.5625 \nQ 48.6875 30.765625 50.640625 29 \nQ 54.78125 25.203125 58.5 19.484375 \nL 70.953125 0 \nL 59.03125 0 \nL 49.5625 14.890625 \nQ 45.40625 21.34375 42.71875 24.75 \nQ 40.046875 28.171875 37.921875 29.53125 \nQ 35.796875 30.90625 33.59375 31.453125 \nQ 31.984375 31.78125 28.328125 31.78125 \nL 17.328125 31.78125 \nL 17.328125 0 \nz\nM 17.328125 39.984375 \nL 37.703125 39.984375 \nQ 44.1875 39.984375 47.84375 41.328125 \nQ 51.515625 42.671875 53.421875 45.625 \nQ 55.328125 48.578125 55.328125 52.046875 \nQ 55.328125 57.125 51.640625 60.390625 \nQ 47.953125 63.671875 39.984375 63.671875 \nL 17.328125 63.671875 \nz\n\" id=\"ArialMT-82\"/>\n    <path d=\"M 42.09375 16.703125 \nL 51.171875 15.578125 \nQ 49.03125 7.625 43.21875 3.21875 \nQ 37.40625 -1.171875 28.375 -1.171875 \nQ 17 -1.171875 10.328125 5.828125 \nQ 3.65625 12.84375 3.65625 25.484375 \nQ 3.65625 38.578125 10.390625 45.796875 \nQ 17.140625 53.03125 27.875 53.03125 \nQ 38.28125 53.03125 44.875 45.953125 \nQ 51.46875 38.875 51.46875 26.03125 \nQ 51.46875 25.25 51.421875 23.6875 \nL 12.75 23.6875 \nQ 13.234375 15.140625 17.578125 10.59375 \nQ 21.921875 6.0625 28.421875 6.0625 \nQ 33.25 6.0625 36.671875 8.59375 \nQ 40.09375 11.140625 42.09375 16.703125 \nz\nM 13.234375 30.90625 \nL 42.1875 30.90625 \nQ 41.609375 37.453125 38.875 40.71875 \nQ 34.671875 45.796875 27.984375 45.796875 \nQ 21.921875 45.796875 17.796875 41.75 \nQ 13.671875 37.703125 13.234375 30.90625 \nz\n\" id=\"ArialMT-101\"/>\n    <path d=\"M 40.4375 19 \nL 49.078125 17.875 \nQ 47.65625 8.9375 41.8125 3.875 \nQ 35.984375 -1.171875 27.484375 -1.171875 \nQ 16.84375 -1.171875 10.375 5.78125 \nQ 3.90625 12.75 3.90625 25.734375 \nQ 3.90625 34.125 6.6875 40.421875 \nQ 9.46875 46.734375 15.15625 49.875 \nQ 20.84375 53.03125 27.546875 53.03125 \nQ 35.984375 53.03125 41.359375 48.75 \nQ 46.734375 44.484375 48.25 36.625 \nL 39.703125 35.296875 \nQ 38.484375 40.53125 35.375 43.15625 \nQ 32.28125 45.796875 27.875 45.796875 \nQ 21.234375 45.796875 17.078125 41.03125 \nQ 12.9375 36.28125 12.9375 25.984375 \nQ 12.9375 15.53125 16.9375 10.796875 \nQ 20.953125 6.0625 27.390625 6.0625 \nQ 32.5625 6.0625 36.03125 9.234375 \nQ 39.5 12.40625 40.4375 19 \nz\n\" id=\"ArialMT-99\"/>\n    <path d=\"M 6.59375 -19.875 \nL 6.59375 51.859375 \nL 14.59375 51.859375 \nL 14.59375 45.125 \nQ 17.4375 49.078125 21 51.046875 \nQ 24.5625 53.03125 29.640625 53.03125 \nQ 36.28125 53.03125 41.359375 49.609375 \nQ 46.4375 46.1875 49.015625 39.953125 \nQ 51.609375 33.734375 51.609375 26.3125 \nQ 51.609375 18.359375 48.75 11.984375 \nQ 45.90625 5.609375 40.453125 2.21875 \nQ 35.015625 -1.171875 29 -1.171875 \nQ 24.609375 -1.171875 21.109375 0.6875 \nQ 17.625 2.546875 15.375 5.375 \nL 15.375 -19.875 \nz\nM 14.546875 25.640625 \nQ 14.546875 15.625 18.59375 10.84375 \nQ 22.65625 6.0625 28.421875 6.0625 \nQ 34.28125 6.0625 38.453125 11.015625 \nQ 42.625 15.96875 42.625 26.375 \nQ 42.625 36.28125 38.546875 41.203125 \nQ 34.46875 46.140625 28.8125 46.140625 \nQ 23.1875 46.140625 18.859375 40.890625 \nQ 14.546875 35.640625 14.546875 25.640625 \nz\n\" id=\"ArialMT-112\"/>\n    <path d=\"M 25.78125 7.859375 \nL 27.046875 0.09375 \nQ 23.34375 -0.6875 20.40625 -0.6875 \nQ 15.625 -0.6875 12.984375 0.828125 \nQ 10.359375 2.34375 9.28125 4.8125 \nQ 8.203125 7.28125 8.203125 15.1875 \nL 8.203125 45.015625 \nL 1.765625 45.015625 \nL 1.765625 51.859375 \nL 8.203125 51.859375 \nL 8.203125 64.703125 \nL 16.9375 69.96875 \nL 16.9375 51.859375 \nL 25.78125 51.859375 \nL 25.78125 45.015625 \nL 16.9375 45.015625 \nL 16.9375 14.703125 \nQ 16.9375 10.9375 17.40625 9.859375 \nQ 17.875 8.796875 18.921875 8.15625 \nQ 19.96875 7.515625 21.921875 7.515625 \nQ 23.390625 7.515625 25.78125 7.859375 \nz\n\" id=\"ArialMT-116\"/>\n    <path d=\"M 6.640625 61.46875 \nL 6.640625 71.578125 \nL 15.4375 71.578125 \nL 15.4375 61.46875 \nz\nM 6.640625 0 \nL 6.640625 51.859375 \nL 15.4375 51.859375 \nL 15.4375 0 \nz\n\" id=\"ArialMT-105\"/>\n    <path d=\"M 21 0 \nL 1.265625 51.859375 \nL 10.546875 51.859375 \nL 21.6875 20.796875 \nQ 23.484375 15.765625 25 10.359375 \nQ 26.171875 14.453125 28.265625 20.21875 \nL 39.796875 51.859375 \nL 48.828125 51.859375 \nL 29.203125 0 \nz\n\" id=\"ArialMT-118\"/>\n    <path id=\"ArialMT-32\"/>\n    <path d=\"M 8.203125 0 \nL 8.203125 71.578125 \nL 56.5 71.578125 \nL 56.5 63.140625 \nL 17.671875 63.140625 \nL 17.671875 40.96875 \nL 51.265625 40.96875 \nL 51.265625 32.515625 \nL 17.671875 32.515625 \nL 17.671875 0 \nz\n\" id=\"ArialMT-70\"/>\n    <path d=\"M 6.390625 0 \nL 6.390625 71.578125 \nL 15.1875 71.578125 \nL 15.1875 0 \nz\n\" id=\"ArialMT-108\"/>\n    <path d=\"M 40.234375 0 \nL 40.234375 6.546875 \nQ 35.296875 -1.171875 25.734375 -1.171875 \nQ 19.53125 -1.171875 14.328125 2.25 \nQ 9.125 5.671875 6.265625 11.796875 \nQ 3.421875 17.921875 3.421875 25.875 \nQ 3.421875 33.640625 6 39.96875 \nQ 8.59375 46.296875 13.765625 49.65625 \nQ 18.953125 53.03125 25.34375 53.03125 \nQ 30.03125 53.03125 33.6875 51.046875 \nQ 37.359375 49.078125 39.65625 45.90625 \nL 39.65625 71.578125 \nL 48.390625 71.578125 \nL 48.390625 0 \nz\nM 12.453125 25.875 \nQ 12.453125 15.921875 16.640625 10.984375 \nQ 20.84375 6.0625 26.5625 6.0625 \nQ 32.328125 6.0625 36.34375 10.765625 \nQ 40.375 15.484375 40.375 25.140625 \nQ 40.375 35.796875 36.265625 40.765625 \nQ 32.171875 45.75 26.171875 45.75 \nQ 20.3125 45.75 16.375 40.96875 \nQ 12.453125 36.1875 12.453125 25.875 \nz\n\" id=\"ArialMT-100\"/>\n    <path d=\"M 3.078125 15.484375 \nL 11.765625 16.84375 \nQ 12.5 11.625 15.84375 8.84375 \nQ 19.1875 6.0625 25.203125 6.0625 \nQ 31.25 6.0625 34.171875 8.515625 \nQ 37.109375 10.984375 37.109375 14.3125 \nQ 37.109375 17.28125 34.515625 19 \nQ 32.71875 20.171875 25.53125 21.96875 \nQ 15.875 24.421875 12.140625 26.203125 \nQ 8.40625 27.984375 6.46875 31.125 \nQ 4.546875 34.28125 4.546875 38.09375 \nQ 4.546875 41.546875 6.125 44.5 \nQ 7.71875 47.46875 10.453125 49.421875 \nQ 12.5 50.921875 16.03125 51.96875 \nQ 19.578125 53.03125 23.640625 53.03125 \nQ 29.734375 53.03125 34.34375 51.265625 \nQ 38.96875 49.515625 41.15625 46.5 \nQ 43.359375 43.5 44.1875 38.484375 \nL 35.59375 37.3125 \nQ 35.015625 41.3125 32.203125 43.546875 \nQ 29.390625 45.796875 24.265625 45.796875 \nQ 18.21875 45.796875 15.625 43.796875 \nQ 13.03125 41.796875 13.03125 39.109375 \nQ 13.03125 37.40625 14.109375 36.03125 \nQ 15.1875 34.625 17.484375 33.6875 \nQ 18.796875 33.203125 25.25 31.453125 \nQ 34.578125 28.953125 38.25 27.359375 \nQ 41.9375 25.78125 44.03125 22.75 \nQ 46.140625 19.734375 46.140625 15.234375 \nQ 46.140625 10.84375 43.578125 6.953125 \nQ 41.015625 3.078125 36.171875 0.953125 \nQ 31.34375 -1.171875 25.25 -1.171875 \nQ 15.140625 -1.171875 9.84375 3.03125 \nQ 4.546875 7.234375 3.078125 15.484375 \nz\n\" id=\"ArialMT-115\"/>\n   </defs>\n   <g transform=\"translate(138.482813 21.515625)scale(0.2 -0.2)\">\n    <use xlink:href=\"#ArialMT-82\"/>\n    <use x=\"72.216797\" xlink:href=\"#ArialMT-101\"/>\n    <use x=\"127.832031\" xlink:href=\"#ArialMT-99\"/>\n    <use x=\"177.832031\" xlink:href=\"#ArialMT-101\"/>\n    <use x=\"233.447266\" xlink:href=\"#ArialMT-112\"/>\n    <use x=\"289.0625\" xlink:href=\"#ArialMT-116\"/>\n    <use x=\"316.845703\" xlink:href=\"#ArialMT-105\"/>\n    <use x=\"339.0625\" xlink:href=\"#ArialMT-118\"/>\n    <use x=\"389.0625\" xlink:href=\"#ArialMT-101\"/>\n    <use x=\"444.677734\" xlink:href=\"#ArialMT-32\"/>\n    <use x=\"472.460938\" xlink:href=\"#ArialMT-70\"/>\n    <use x=\"533.544922\" xlink:href=\"#ArialMT-105\"/>\n    <use x=\"555.761719\" xlink:href=\"#ArialMT-101\"/>\n    <use x=\"611.376953\" xlink:href=\"#ArialMT-108\"/>\n    <use x=\"633.59375\" xlink:href=\"#ArialMT-100\"/>\n    <use x=\"689.208984\" xlink:href=\"#ArialMT-115\"/>\n   </g>\n  </g>\n </g>\n <defs>\n  <clipPath id=\"p072aceb748\">\n   <rect height=\"31.32\" width=\"31.32\" x=\"7.2\" y=\"79.884087\"/>\n  </clipPath>\n  <clipPath id=\"p13e3f12036\">\n   <rect height=\"31.32\" width=\"31.32\" x=\"49.32\" y=\"79.884087\"/>\n  </clipPath>\n  <clipPath id=\"p2afd2c2aac\">\n   <rect height=\"31.32\" width=\"31.32\" x=\"91.44\" y=\"79.884087\"/>\n  </clipPath>\n  <clipPath id=\"p97fd4ffe38\">\n   <rect height=\"31.32\" width=\"31.32\" x=\"133.56\" y=\"79.884087\"/>\n  </clipPath>\n  <clipPath id=\"pe999f9d479\">\n   <rect height=\"31.32\" width=\"31.32\" x=\"175.68\" y=\"79.884087\"/>\n  </clipPath>\n  <clipPath id=\"pbb28b526c7\">\n   <rect height=\"31.32\" width=\"31.32\" x=\"217.8\" y=\"79.884087\"/>\n  </clipPath>\n  <clipPath id=\"p02546f070d\">\n   <rect height=\"31.32\" width=\"31.32\" x=\"259.92\" y=\"79.884087\"/>\n  </clipPath>\n  <clipPath id=\"p1d5a6a762d\">\n   <rect height=\"31.32\" width=\"31.32\" x=\"302.04\" y=\"79.884087\"/>\n  </clipPath>\n  <clipPath id=\"p8e7600e06b\">\n   <rect height=\"31.32\" width=\"31.32\" x=\"344.16\" y=\"79.884087\"/>\n  </clipPath>\n  <clipPath id=\"p7f165b9179\">\n   <rect height=\"31.32\" width=\"31.32\" x=\"386.28\" y=\"79.884087\"/>\n  </clipPath>\n  <clipPath id=\"p8ae6a74c0d\">\n   <rect height=\"31.32\" width=\"31.32\" x=\"7.2\" y=\"152.027913\"/>\n  </clipPath>\n  <clipPath id=\"p2c05bfcde2\">\n   <rect height=\"31.32\" width=\"31.32\" x=\"49.32\" y=\"152.027913\"/>\n  </clipPath>\n  <clipPath id=\"pb197b47b08\">\n   <rect height=\"31.32\" width=\"31.32\" x=\"91.44\" y=\"152.027913\"/>\n  </clipPath>\n  <clipPath id=\"pe6ad27d9a0\">\n   <rect height=\"31.32\" width=\"31.32\" x=\"133.56\" y=\"152.027913\"/>\n  </clipPath>\n  <clipPath id=\"pae56fd47fc\">\n   <rect height=\"31.32\" width=\"31.32\" x=\"175.68\" y=\"152.027913\"/>\n  </clipPath>\n  <clipPath id=\"p8ca73d785f\">\n   <rect height=\"31.32\" width=\"31.32\" x=\"217.8\" y=\"152.027913\"/>\n  </clipPath>\n  <clipPath id=\"p0fadacc68c\">\n   <rect height=\"31.32\" width=\"31.32\" x=\"259.92\" y=\"152.027913\"/>\n  </clipPath>\n  <clipPath id=\"pae11c9d83a\">\n   <rect height=\"31.32\" width=\"31.32\" x=\"302.04\" y=\"152.027913\"/>\n  </clipPath>\n  <clipPath id=\"p52bbc3582f\">\n   <rect height=\"31.32\" width=\"31.32\" x=\"344.16\" y=\"152.027913\"/>\n  </clipPath>\n  <clipPath id=\"p3951f0df11\">\n   <rect height=\"31.32\" width=\"31.32\" x=\"386.28\" y=\"152.027913\"/>\n  </clipPath>\n </defs>\n</svg>\n",
      "image/png": "[encoded data removed]"
     },
     "metadata": {
      "needs_background": "light"
     }
    }
   ],
   "source": [
    "plot_receptive_fields(model_20.Phi.T)"
   ]
  },
  {
   "cell_type": "code",
   "execution_count": 15,
   "metadata": {},
   "outputs": [],
   "source": [
    "# Simulation constants\n",
    "num_units = 100 # number of neurons (units)\n",
    "\n",
    "# Define model\n",
    "model_100 = OlshausenField1996Model(num_inputs=patch_size**2, \n",
    "                                num_units=num_units,\n",
    "                                batch_size=batch_size,\n",
    "                                lmda=lmda)"
   ]
  },
  {
   "cell_type": "code",
   "execution_count": null,
   "metadata": {},
   "outputs": [],
   "source": [
    "# Run simulation\n",
    "error_list = [] # List to save errors\n",
    "for iter_ in tqdm(range(num_iter)):\n",
    "    patches = generate_patches(image_set, patch_size, batch_size) # Generating image patches\n",
    "    error = model_100.train(patches) # train model with patches \n",
    "\n",
    "    error_list.append(model.calculate_total_error(error))\n",
    "    # Print moving average error\n",
    "    if iter_ % 100 == 99:  \n",
    "        print(\"iter: \"+str(iter_+1)+\"/\"+str(num_iter)+\", Moving error:\",\n",
    "              np.mean(error_list[iter_-99:iter_]))"
   ]
  },
  {
   "cell_type": "code",
   "execution_count": null,
   "metadata": {},
   "outputs": [],
   "source": [
    "plot_receptive_fields(model_100.Phi.T)"
   ]
  },
  {
   "cell_type": "code",
   "execution_count": null,
   "metadata": {},
   "outputs": [],
   "source": [
    "# Simulation constants\n",
    "num_units = 500 # number of neurons (units)\n",
    "\n",
    "# Define model\n",
    "model_500 = OlshausenField1996Model(num_inputs=patch_size**2, \n",
    "                                num_units=num_units,\n",
    "                                batch_size=batch_size,\n",
    "                                lmda=lmda)"
   ]
  },
  {
   "cell_type": "code",
   "execution_count": null,
   "metadata": {},
   "outputs": [],
   "source": [
    "# Run simulation\n",
    "error_list = [] # List to save errors\n",
    "for iter_ in tqdm(range(num_iter)):\n",
    "    patches = generate_patches(image_set, patch_size, batch_size) # Generating image patches\n",
    "    error = model_500.train(patches) # train model with patches \n",
    "\n",
    "    error_list.append(model.calculate_total_error(error))\n",
    "    # Print moving average error\n",
    "    if iter_ % 100 == 99:  \n",
    "        print(\"iter: \"+str(iter_+1)+\"/\"+str(num_iter)+\", Moving error:\",\n",
    "              np.mean(error_list[iter_-99:iter_]))"
   ]
  },
  {
   "cell_type": "code",
   "execution_count": null,
   "metadata": {},
   "outputs": [],
   "source": [
    "plot_receptive_fields(model_500.Phi.T)"
   ]
  },
  {
   "source": [
    "###: 4.2 Sparsity (`lmda`)\n",
    "\n",
    "Generate receptive fields for networks of three sizes $\\lambda = 50, 100, 200$ and compare the results. You should keep all other constants fixed to the defaults used in class."
   ],
   "cell_type": "markdown",
   "metadata": {}
  },
  {
   "cell_type": "code",
   "execution_count": null,
   "metadata": {},
   "outputs": [],
   "source": []
  },
  {
   "cell_type": "code",
   "execution_count": null,
   "metadata": {},
   "outputs": [],
   "source": []
  }
 ]
}