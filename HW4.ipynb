{
 "metadata": {
  "language_info": {
   "codemirror_mode": {
    "name": "ipython",
    "version": 3
   },
   "file_extension": ".py",
   "mimetype": "text/x-python",
   "name": "python",
   "nbconvert_exporter": "python",
   "pygments_lexer": "ipython3",
   "version": "3.8.5"
  },
  "orig_nbformat": 2,
  "kernelspec": {
   "name": "python385jvsc74a57bd0afcfdf4cba00ac50e638f57c6797cfbdea9b2bd674f33252d57dc646e66fe742",
   "display_name": "Python 3.8.5 64-bit ('base': conda)"
  }
 },
 "nbformat": 4,
 "nbformat_minor": 2,
 "cells": [
  {
   "source": [
    "# Homework 4\n",
    "\n",
    "On this Homework you'll get a chance to \n",
    "\n",
    "1. Practice applying the definitions of probability and entropy described in class \n",
    "2. Experiment with Olshausen & Field's sparse coding model "
   ],
   "cell_type": "markdown",
   "metadata": {}
  },
  {
   "source": [
    "## Setting up the notebook"
   ],
   "cell_type": "markdown",
   "metadata": {}
  },
  {
   "cell_type": "code",
   "execution_count": 1,
   "metadata": {},
   "outputs": [
    {
     "output_type": "stream",
     "name": "stdout",
     "text": [
      "Downloading O&F images and circuit board...\n",
      "http://www.rctn.org/bruno/sparsenet/IMAGES.mat has already been downloaded.\n",
      "http://www.rctn.org/bruno/sparsenet/IMAGES_RAW.mat has already been downloaded.\n",
      "Starting to download https://dz2cdn1.dzone.com/storage/temp/3542733-printed-circuit-boards.jpg...\n",
      "...download complete.\n",
      "...all downloads complete.\n",
      "Importing natural_imgs, natural_imgs_raw, circuit_imgs_raw.\n"
     ]
    }
   ],
   "source": [
    "import numpy as np\n",
    "import matplotlib.pyplot as plt\n",
    "from matplotlib import cm\n",
    "from tqdm.notebook import tqdm\n",
    "import scipy.io as sio\n",
    "import os\n",
    "\n",
    "# Importing functions from class\n",
    "from OF import *"
   ]
  },
  {
   "source": [
    "## Question 1: Probability Definitions\n",
    "\n",
    "Below is a joint probability distribution for the chance of rain ($R$) and the cloudiness ($C$) on any given day in the spring in Pittsburgh. For simplicity we are considering each as binary:\n",
    "\n",
    "$$\n",
    "\\begin{align}\n",
    "    R & = \\{\\textrm{no rain}, \\textrm{rain}\\} \\\\\n",
    "    C & = \\{\\textrm{sunny}, \\textrm{cloudy}\\} \\\\\n",
    "\\end{align}\n",
    "$$\n",
    "\n",
    "Below is a table of values for $p(R, S)$:\n",
    "\n",
    "| $R \\backslash C$  | $\\textrm{sunny}$ |  $\\textrm{cloudy}$ |\n",
    "|:------:|:----------------:|:------------------:|\n",
    "| $\\textrm{no rain}$ | 0.3 | 0.2 |\n",
    "| $\\textrm{rain}$ | 0.1 | 0.4 |\n"
   ],
   "cell_type": "markdown",
   "metadata": {}
  },
  {
   "source": [
    "### 1.1 \n",
    "\n",
    "In class, we discussed how all probability distributions are _implicity_ conditional distributions. What are some of the unwritten variables we are conditioning on here? "
   ],
   "cell_type": "markdown",
   "metadata": {}
  },
  {
   "source": [
    "_Type your answer here or include as a seperate scan_"
   ],
   "cell_type": "markdown",
   "metadata": {}
  },
  {
   "source": [
    "### 1.2 \n",
    "\n",
    "Calculate the marginal probabilities of rain ($p(R)$, two values) and cloudiness ($p(C)$, two values). Based on these values does $R$ appear to be _statsitically independent_ of $S$?"
   ],
   "cell_type": "markdown",
   "metadata": {}
  },
  {
   "source": [],
   "cell_type": "markdown",
   "metadata": {}
  },
  {
   "source": [
    "_Type your answer here or include as a seperate scan_"
   ],
   "cell_type": "markdown",
   "metadata": {}
  },
  {
   "source": [
    "### 1.3\n",
    "\n",
    "Calculate the _conditional_ probability distribution $p(R|C)$ (four values)."
   ],
   "cell_type": "markdown",
   "metadata": {}
  },
  {
   "source": [
    "_Type your answer here or include as a seperate scan_"
   ],
   "cell_type": "markdown",
   "metadata": {}
  },
  {
   "source": [
    "### 1.4\n",
    "\n",
    "Use Bayes' rule and your previous answers to calculate $p(C|R)$"
   ],
   "cell_type": "markdown",
   "metadata": {}
  },
  {
   "source": [
    "_Type your answer here or include as a seperate scan_"
   ],
   "cell_type": "markdown",
   "metadata": {}
  },
  {
   "source": [
    "## Question 2: Intro to information Theory\n",
    "\n",
    "In this question, you'll use the probabilty distribution from question 1 to calcualte some relevant quantities from information theory.\n",
    "\n",
    "Recall the following expressions to calculate _entropy_ ($H(X)$, $H(X,Y)$), _conditional entropy_ ($H(X|Y)$), and the _mutual information_ ($I(X;Y)$)\n",
    "\n",
    "$$\n",
    "\\begin{align}\n",
    "    H(X) & = \\sum_x - p(x) \\log_2 p(x) \\\\\n",
    "    H(X,Y) & = \\sum_{x,y} - p(x,y) \\log_2 p(x, y) \\\\\n",
    "    H(X|Y) & = \\sum_{x,y} - p(x,y) \\log_2 p(x|y) \\\\\n",
    "    I(X;Y)  & = D_{KL}(p(x,y) || p(x)p(y)) = \\sum_{x,y} p(x,y) \\log_2 \\frac{p(x,y)}{p(x)p(y)} \\\\\n",
    "            & = H(X) + H(Y) - H(X,Y) \\\\\n",
    "            & = H(X) - H(X|Y) = H(Y) - H(Y|X)  \n",
    "\\end{align}\n",
    "$$\n"
   ],
   "cell_type": "markdown",
   "metadata": {}
  },
  {
   "source": [
    "### 2.1\n",
    "\n",
    "Caculate the entropy of $R$ ($H(R)$) and the entropy of $C$ ($H(C)$). Before the day begins are you more uncertain about whether it will rain or whether it will be cloudy? "
   ],
   "cell_type": "markdown",
   "metadata": {}
  },
  {
   "source": [
    "_Type your answer here or include as a seperate scan_"
   ],
   "cell_type": "markdown",
   "metadata": {}
  },
  {
   "source": [
    "### 2.2 \n",
    "\n",
    "caculate the coniditional entropy of rain given you know whether it is cloudy ($H(R|C)$). Compare this to the uncertainty about whether it will rain _whithout_ knowing it is cloudy $H(R)$. Does seeing whether it is cloudy teach you anything about whether it will rain? "
   ],
   "cell_type": "markdown",
   "metadata": {}
  },
  {
   "source": [
    "_Type your answer here or include as a seperate scan_"
   ],
   "cell_type": "markdown",
   "metadata": {}
  },
  {
   "source": [
    "### 2.3 \n",
    "\n",
    "Calculate the _mutual information_ between the rain ($R$) and cloudiness ($C$) using any of the forumlas above for the mutual information. Before you use your chosen formula, interpret it. how much does knowing $C$ teach you about $R$? How much does knowing $R$ teach you about $C$?"
   ],
   "cell_type": "markdown",
   "metadata": {}
  },
  {
   "source": [
    "_Type your answer here or include as a seperate scan_"
   ],
   "cell_type": "markdown",
   "metadata": {}
  },
  {
   "source": [
    "## Question 3: Entropy of the possion distribution. \n",
    "\n",
    "In class, we discussed the _poisson distribution_, the chance of observing a number of $x$ events in set period of time, such as a neuron firing (under the assumption that the chance of an event occurring at one time is uncorrelated with any other). If the mean number of events $E(X) = \\mu$.\n",
    "\n",
    "$$\n",
    "p(x) = \\frac{\\mu^x e^{-\\mu}}{x!}\n",
    "$$\n",
    "\n",
    "Calculate the entropy of the possion distribution using _Sterling's approximation_ \n",
    "\n",
    "$$\n",
    "\\log_2 x! = x \\log_2 x - \\frac{x}{\\ln{2}}.\n",
    "$$\n",
    "\n",
    "Rember that $x$ can take all whole numbers $x = 0, 1, 2, \\dots, \\infty$ "
   ],
   "cell_type": "markdown",
   "metadata": {}
  },
  {
   "source": [
    "_Type your answer here or include as a seperate scan_"
   ],
   "cell_type": "markdown",
   "metadata": {}
  },
  {
   "source": [
    "## Question 4: O&F sparse coding model\n",
    "\n",
    "In this question, you will get a chace to investigate the O&F model. Specifically we'll look at the role of two factors in producing the receptive fields observed. \n",
    "\n",
    "1. The size of the network (`num_units`)\n",
    "2. The weight given to sparsity (`lmda`)\n"
   ],
   "cell_type": "markdown",
   "metadata": {}
  },
  {
   "source": [
    "### 4.1: Size of network (`num_units`)\n",
    "\n",
    "Generate receptive fields for networks of three sizes $n = 20, 100, 500$ and compare the results. You should keep all other constants fixed to the defaults used in class."
   ],
   "cell_type": "markdown",
   "metadata": {}
  },
  {
   "cell_type": "code",
   "execution_count": 2,
   "metadata": {},
   "outputs": [],
   "source": [
    "# Default simulation constants \n",
    "patch_size = 16 # image patch size\n",
    "\n",
    "num_iter = 500 # number of iterations\n",
    "batch_size = 250 # Batch size\n",
    "\n",
    "lmda = 5e-3 # Sparisty weight\n",
    "\n",
    "# Image set\n",
    "image_set = natural_imgs"
   ]
  },
  {
   "source": [
    "### 4.2 Sparsity (`lmda`)\n",
    "\n",
    "Generate receptive fields for networks of three sparsity weights $\\lambda = 2.5, 5, 10 \\times 10^3$ and compare the results. This paramater controlls to what extent sparsity is valued over reconstruction error. Larger values of `lmda` encourage the model to prioritize sparsity over reconstruction error. You may wish to compare these to the results produced by PCA - the method which prioritizes reconstruction error entirely without regard for sparsity. You should keep all other constants fixed to the defaults used in class."
   ],
   "cell_type": "markdown",
   "metadata": {}
  },
  {
   "cell_type": "code",
   "execution_count": 15,
   "metadata": {},
   "outputs": [],
   "source": [
    "# Default simulation constants \n",
    "num_units = 100 # number of neurons (units)\n",
    "patch_size = 16 # image patch size\n",
    "\n",
    "num_iter = 500 # number of iterations\n",
    "batch_size = 250 # Batch size\n",
    "\n",
    "# Image set\n",
    "image_set = natural_imgs"
   ]
  },
  {
   "cell_type": "code",
   "execution_count": null,
   "metadata": {},
   "outputs": [],
   "source": []
  }
 ]
}