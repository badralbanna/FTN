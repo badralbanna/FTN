{
 "cells": [
  {
   "cell_type": "markdown",
   "metadata": {},
   "source": [
    "# HH simulation\n",
    "\n",
    "\n",
    "## Table of Contents \n",
    "\n",
    "* Defining equations of motion\n",
    "\n",
    "## Setup"
   ]
  },
  {
   "cell_type": "code",
   "execution_count": 2,
   "metadata": {},
   "outputs": [],
   "source": [
    "import numpy as np\n",
    "from scipy.optimize import fsolve\n",
    "from scipy.misc import derivative\n",
    "import matplotlib as mpl\n",
    "import matplotlib.pyplot as plt\n",
    "\n",
    "# For retina displays only \n",
    "from IPython.display import set_matplotlib_formats\n",
    "set_matplotlib_formats('retina')"
   ]
  },
  {
   "cell_type": "markdown",
   "metadata": {},
   "source": [
    "## Defining variables and eqations of motion\n",
    "\n",
    "There are 4 variables in the HH model \n",
    "\n",
    "1. $V$ (membrane voltage)\n",
    "2. $n$ (activation gate for K+ channel)\n",
    "3. $m$ (activation gate for Na+ channel)\n",
    "4. $h$ (inactivation gate for Na+ channel)\n",
    "\n",
    "n, m, & h rely of the rate functions which depend on V\n",
    "\n",
    "1. $\\alpha$ \n",
    "2. $\\beta$\n",
    "\n",
    "albeit with different constants depending on the gate. "
   ]
  },
  {
   "cell_type": "code",
   "execution_count": 29,
   "metadata": {},
   "outputs": [],
   "source": [
    "# Function defining external current\n",
    "def static_i(t, i_0=1000):\n",
    "    return(i_0) \n",
    "\n",
    "# Membrane voltage dynamics\n",
    "def dVdt(V, n, m, h, t, i=static_i, gL=0.003, gK=0.36, gNa=1.2, eL=-54.387, eK=-77, eNa=50, c=10):\n",
    "    return((1./c)*(gL*(eL-V) + gK*(n**4)*(eK-V) + gNa*(m**3)*h*(eNa-V) + i(t)))\n",
    "\n",
    "# Voltage-gated channel subunit dynamics\n",
    "def dndt(V, n):\n",
    "    alpha = 0.01*(V + 55) / (1 - np.exp(-0.1*(V + 55)))\n",
    "    beta = 0.125*np.exp(-0.0125*(V + 65))\n",
    "    delta = alpha*(1.0-n) - beta*n\n",
    "    if delta > 1.-n:\n",
    "        delta = 1.-n\n",
    "    elif delta < -n:\n",
    "        delta = -n\n",
    "    return(delta) \n",
    "\n",
    "def dmdt(V, m):\n",
    "    alpha =  0.1*(V + 40) / (1 - np.exp(-0.1*(V + 40)))\n",
    "    beta = 4*np.exp(-0.0556*(V + 65))\n",
    "    delta = alpha*(1.0-m) - beta*m\n",
    "    if delta > 1.-m:\n",
    "        delta = 1. - m\n",
    "    elif delta < -m:\n",
    "        delta = -m\n",
    "    return(delta) \n",
    "\n",
    "def dhdt(V, h):\n",
    "    alpha = 0.07*np.exp(-0.05*(V + 65))\n",
    "    beta = 1 / (1 + np.exp(-0.1*(V + 35)))\n",
    "    delta = alpha*(1.0-h) - beta*h\n",
    "    if delta > 1.-h:\n",
    "        delta = 1.-h\n",
    "    elif delta < -h:\n",
    "        delta = -h\n",
    "    return(delta) \n",
    "\n",
    "# Putting the dynamics together\n",
    "def dSdt(V, n, m, h, t):\n",
    "    return(np.array([dVdt(V, n, m, h, t), dndt(V, n), dmdt(V, m), dhdt(V, h), 1.]))"
   ]
  },
  {
   "cell_type": "code",
   "execution_count": 30,
   "metadata": {},
   "outputs": [],
   "source": [
    "# Simulation functions \n",
    "DT = 0.1\n",
    "\n",
    "# Function implimenting the midpoint method aka RK2\n",
    "def find_next_point_midpoint(s, dsdt, dt=DT):\n",
    "    s_test = s + dsdt(*s)*dt\n",
    "    s_next = s + dsdt(*((s + s_test)/2.))*dt\n",
    "    return(s_next)\n",
    "\n",
    "# Simulation function\n",
    "def simulate(s_0, t_f, dsdt=dSdt, simulation_function=find_next_point_midpoint, dt=DT, verbose=False):\n",
    "    S_solution = [s_0]\n",
    "    T = np.arange(s_0[-1], t_f + dt, dt)\n",
    "    for t in T[1:]:\n",
    "        s_previous = S_solution[-1]\n",
    "        s_next = simulation_function(s_previous, dsdt, dt=dt)\n",
    "        if verbose:\n",
    "            print(s_next)\n",
    "        S_solution.append(s_next)\n",
    "    S_solution = np.array(S_solution)\n",
    "    return(S_solution)"
   ]
  },
  {
   "cell_type": "code",
   "execution_count": 38,
   "metadata": {},
   "outputs": [],
   "source": [
    "S_0 = [-54, 0, 0, 0, 0]\n",
    "\n",
    "S = simulate(S_0, 2000, verbose=False)"
   ]
  },
  {
   "cell_type": "code",
   "execution_count": 39,
   "metadata": {},
   "outputs": [
    {
     "data": {
      "text/plain": [
       "[<matplotlib.lines.Line2D at 0x7fc737c6e730>]"
      ]
     },
     "execution_count": 39,
     "metadata": {},
     "output_type": "execute_result"
    },
    {
     "data": {
      "image/png": "[encoded data removed]",
      "text/plain": [
       "<Figure size 432x288 with 1 Axes>"
      ]
     },
     "metadata": {
      "image/png": {
       "height": 280,
       "width": 424
      },
      "needs_background": "light"
     },
     "output_type": "display_data"
    }
   ],
   "source": [
    "V = S[:,0]\n",
    "T = S[:,-1]\n",
    "plt.plot(T, V)"
   ]
  },
  {
   "cell_type": "code",
   "execution_count": 37,
   "metadata": {},
   "outputs": [
    {
     "data": {
      "text/plain": [
       "array([0.1       , 0.11084651, 0.12747283, ..., 1.05263158, 1.05263158,\n",
       "       1.05263158])"
      ]
     },
     "execution_count": 37,
     "metadata": {},
     "output_type": "execute_result"
    }
   ],
   "source": [
    "S[:,1]"
   ]
  },
  {
   "cell_type": "code",
   "execution_count": null,
   "metadata": {},
   "outputs": [],
   "source": []
  }
 ],
 "metadata": {
  "kernelspec": {
   "display_name": "Python 3 (QN)",
   "language": "python",
   "name": "py3-qn"
  },
  "language_info": {
   "codemirror_mode": {
    "name": "ipython",
    "version": 3
   },
   "file_extension": ".py",
   "mimetype": "text/x-python",
   "name": "python",
   "nbconvert_exporter": "python",
   "pygments_lexer": "ipython3",
   "version": "3.8.2"
  }
 },
 "nbformat": 4,
 "nbformat_minor": 4
}
