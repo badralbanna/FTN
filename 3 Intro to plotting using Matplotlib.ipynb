{
 "cells": [
  {
   "cell_type": "markdown",
   "metadata": {},
   "source": [
    "# Plotting Using Matplotlib\n",
    "\n",
    "* [The Matplotlib docs can be found here](https://matplotlib.org/contents.html)\n",
    "* [The Matplotlib code gallery can be found here](https://matplotlib.org/gallery/index.html)\n",
    "\n",
    "\n",
    "## Table of Contents \n",
    "\n",
    "* `Hello World` \n",
    "    * scatter\n",
    "    * plot\n",
    "    * setting limits\n",
    "    * formatting plots\n",
    "* Multiple plots \n",
    "* Annotating plots\n",
    "    * labels\n",
    "    * ticks\n",
    "    * axes scales\n",
    "    * legends\n",
    "    * text\n",
    "* Other types of matplotlib plots\n",
    "    * bars \n",
    "    * histograms\n",
    "    * imshow\n",
    "* Plotting uncertainty\n",
    "    * errorbars\n",
    "    * boxplot\n",
    "    * fillbetween\n",
    "    * raw data\n",
    "* Saving plots"
   ]
  },
  {
   "cell_type": "markdown",
   "metadata": {},
   "source": [
    "## Setup"
   ]
  },
  {
   "cell_type": "code",
   "execution_count": null,
   "metadata": {},
   "outputs": [],
   "source": [
    "import numpy as np\n",
    "import matplotlib as mpl\n",
    "import matplotlib.pyplot as plt\n",
    "\n",
    "# For retina displays only \n",
    "from IPython.display import set_matplotlib_formats\n",
    "set_matplotlib_formats('retina')"
   ]
  },
  {
   "cell_type": "markdown",
   "metadata": {},
   "source": [
    "### Customizing plot styles"
   ]
  },
  {
   "cell_type": "code",
   "execution_count": null,
   "metadata": {},
   "outputs": [],
   "source": [
    "# this is how you set plot styling globally\n",
    "\n",
    "# Make legend text small\n",
    "plt.rcParams['legend.fontsize'] = 'small' \n",
    "# Shrink axes labels a bit \n",
    "plt.rcParams['axes.labelsize'] = 'medium'\n",
    "plt.rcParams['xtick.labelsize'] = 'small'\n",
    "plt.rcParams['ytick.labelsize'] = 'small'\n",
    "# Set limits on when scientific notation is used\n",
    "plt.rcParams['axes.formatter.limits'] = [-2, 3] \n",
    "# Use LaTeX to format axes labels and numbers\n",
    "plt.rcParams['axes.formatter.use_mathtext'] = True\n",
    "# Get rid of spines on top and bottom\n",
    "plt.rcParams['axes.spines.top'] = False\n",
    "plt.rcParams['axes.spines.right'] = False\n",
    "# Ticks point in  \n",
    "plt.rcParams['xtick.direction'] = 'in'\n",
    "plt.rcParams['ytick.direction'] = 'in'\n",
    "# Change DPI of figure images\n",
    "plt.rcParams['figure.dpi'] = 150"
   ]
  },
  {
   "cell_type": "code",
   "execution_count": null,
   "metadata": {},
   "outputs": [],
   "source": [
    "# Here are ALL the options\n",
    "\n",
    "plt.rcParams"
   ]
  },
  {
   "cell_type": "markdown",
   "metadata": {},
   "source": [
    "## `Hello World`"
   ]
  },
  {
   "cell_type": "code",
   "execution_count": null,
   "metadata": {},
   "outputs": [],
   "source": [
    "# Generating some random data  \n",
    "\n",
    "X = np.random.rand(100)\n",
    "Y = np.random.rand(100)"
   ]
  },
  {
   "cell_type": "code",
   "execution_count": null,
   "metadata": {},
   "outputs": [],
   "source": [
    "# Quickest code for making a scatter plot\n",
    "\n",
    "plt.scatter(X, Y)"
   ]
  },
  {
   "cell_type": "code",
   "execution_count": null,
   "metadata": {},
   "outputs": [],
   "source": [
    "# Generating some very not random data\n",
    "\n",
    "X2 = np.linspace(-10, 10, 1000)\n",
    "Y2 = np.sin(X2)"
   ]
  },
  {
   "cell_type": "code",
   "execution_count": null,
   "metadata": {},
   "outputs": [],
   "source": [
    "# Quickest way to plot a pair of variables\n",
    "\n",
    "plt.plot(X2, Y2)"
   ]
  },
  {
   "cell_type": "code",
   "execution_count": null,
   "metadata": {},
   "outputs": [],
   "source": [
    "# Preferred object-oriented method for creating a plot \n",
    "# (Trust me it will help later)\n",
    "\n",
    "fig = plt.figure()\n",
    "ax = fig.add_subplot()\n",
    "ax.plot(X2, Y2)"
   ]
  },
  {
   "cell_type": "code",
   "execution_count": null,
   "metadata": {},
   "outputs": [],
   "source": [
    "# Now it's easy to modify things about the plot (such as the limits displayed)\n",
    "\n",
    "fig = plt.figure()\n",
    "ax = fig.add_subplot()\n",
    "ax.plot(X2, Y2)\n",
    "ax.set_xlim(0, 5)"
   ]
  },
  {
   "cell_type": "code",
   "execution_count": null,
   "metadata": {},
   "outputs": [],
   "source": [
    "# Or plot two things on the same set of axes\n",
    "\n",
    "# Making some new data with the same X values\n",
    "Y3 = np.cos(X2)\n",
    "\n",
    "fig = plt.figure()\n",
    "ax = fig.add_subplot()\n",
    "ax.plot(X2, Y2)\n",
    "ax.plot(X2, Y3)"
   ]
  },
  {
   "cell_type": "code",
   "execution_count": null,
   "metadata": {},
   "outputs": [],
   "source": [
    "### Formatting plots"
   ]
  },
  {
   "cell_type": "code",
   "execution_count": null,
   "metadata": {},
   "outputs": [],
   "source": [
    "# Can change LOTS of styling elements of plots. For example\n",
    "\n",
    "fig = plt.figure()\n",
    "ax = fig.add_subplot()\n",
    "ax.plot(X2, Y2, linewidth=5, linestyle=\":\", color='green')"
   ]
  },
  {
   "cell_type": "code",
   "execution_count": null,
   "metadata": {},
   "outputs": [],
   "source": [
    "# OR \n",
    "\n",
    "fig = plt.figure()\n",
    "ax = fig.add_subplot()\n",
    "ax.scatter(X, Y, marker='2', c='red', s=200)"
   ]
  },
  {
   "cell_type": "code",
   "execution_count": null,
   "metadata": {},
   "outputs": [],
   "source": [
    "# PROBLEM: \n",
    "# 1. Generate some new data \n",
    "# 2. Look up some new ways to style in the matplotlib documentation or gallery,\n",
    "# 3. Make something beautiful \n",
    "\n",
    "\n",
    "\n",
    "\n",
    "\n",
    "\n",
    "\n"
   ]
  },
  {
   "cell_type": "markdown",
   "metadata": {},
   "source": [
    "## Multiple plots "
   ]
  },
  {
   "cell_type": "code",
   "execution_count": null,
   "metadata": {},
   "outputs": [],
   "source": [
    "# Quick way to make two plots size by side\n",
    "\n",
    "fig, (ax1, ax2) = plt.subplots(ncols=2)\n",
    "ax1.scatter(X, Y)\n",
    "ax2.plot(X2, Y2)"
   ]
  },
  {
   "cell_type": "code",
   "execution_count": null,
   "metadata": {},
   "outputs": [],
   "source": [
    "# Quick way to make two plots size by side. \n",
    "# Note that here we are taking both axes together as one object `axs` \n",
    "# and accessing them when you \n",
    "\n",
    "fig, axs = plt.subplots(ncols=2)\n",
    "axs[0].scatter(X, Y)\n",
    "axs[1].plot(X2, Y2)"
   ]
  },
  {
   "cell_type": "code",
   "execution_count": null,
   "metadata": {},
   "outputs": [],
   "source": [
    "# Here I'm using the `sharey` keyword to have them use the same ylimits automatically\n",
    "\n",
    "fig, axs = plt.subplots(ncols=2, sharey=True)\n",
    "axs[0].scatter(X, Y)\n",
    "axs[1].plot(X2, Y2)\n",
    "axs[0].set_ylim(-.25, 1)"
   ]
  },
  {
   "cell_type": "code",
   "execution_count": null,
   "metadata": {},
   "outputs": [],
   "source": [
    "# Can even access axes as an array \n",
    "\n",
    "fig, axs = plt.subplots(nrows=5, ncols=4)\n",
    "axs[0,0].scatter(X, Y)\n",
    "axs[0,1].plot(X2, Y2)"
   ]
  },
  {
   "cell_type": "code",
   "execution_count": null,
   "metadata": {},
   "outputs": [],
   "source": [
    "Y3 = np.cos(X2)\n",
    "\n",
    "fig, axs = plt.subplots(ncols=2,  sharey=True)\n",
    "axs[0].scatter(X, Y)\n",
    "axs[1].plot(X2, Y2)\n",
    "axs[1].plot(X2, Y3)\n",
    "fig.tight_layout()"
   ]
  },
  {
   "cell_type": "markdown",
   "metadata": {},
   "source": [
    "## Annotating plots"
   ]
  },
  {
   "cell_type": "code",
   "execution_count": null,
   "metadata": {},
   "outputs": [],
   "source": [
    "# using a legend\n",
    "fig, axs = plt.subplots(ncols=2, sharey=True)\n",
    "axs[0].scatter(X, Y)\n",
    "axs[1].plot(X2, Y2, label=\"$\\sin(\\chi)$\")\n",
    "axs[1].plot(X2, Y3, label=\"$\\cos(\\chi)$\")\n",
    "axs[1].set_ylim(-3, 1)\n",
    "fig.tight_layout()\n",
    "axs[1].legend(loc='lower right')"
   ]
  },
  {
   "cell_type": "code",
   "execution_count": null,
   "metadata": {},
   "outputs": [],
   "source": [
    "fig, axs = plt.subplots(ncols=2, figsize=(10, 6), sharey=True)\n",
    "axs[0].scatter(X, Y)\n",
    "axs[1].plot(X2, Y2, label=\"$\\sin(\\chi)$\")\n",
    "axs[1].plot(X2, Y3, label=\"$\\cos(\\chi)$\")\n",
    "axs[1].set_ylim(-3, 1)\n",
    "axs[1].text()\n",
    "fig.tight_layout()"
   ]
  },
  {
   "cell_type": "markdown",
   "metadata": {},
   "source": [
    "## Other types of matplotlib plots"
   ]
  },
  {
   "cell_type": "markdown",
   "metadata": {},
   "source": [
    "### Bar plots"
   ]
  },
  {
   "cell_type": "code",
   "execution_count": null,
   "metadata": {},
   "outputs": [],
   "source": [
    "XB = [0, 1, 2, 3]\n",
    "H = [2, -1, 4, 3]"
   ]
  },
  {
   "cell_type": "code",
   "execution_count": null,
   "metadata": {},
   "outputs": [],
   "source": [
    "fig, ax = plt.subplots()\n",
    "ax.bar(XB, H)\n",
    "ax.set_xticks(XB)\n",
    "ax.set_xticklabels(XB)"
   ]
  },
  {
   "cell_type": "markdown",
   "metadata": {},
   "source": [
    "### Histograms"
   ]
  },
  {
   "cell_type": "code",
   "execution_count": null,
   "metadata": {},
   "outputs": [],
   "source": [
    "normal_data = np.random.randn(1000)"
   ]
  },
  {
   "cell_type": "code",
   "execution_count": null,
   "metadata": {},
   "outputs": [],
   "source": [
    "fig, ax = plt.subplots()\n",
    "ax.hist(normal_data, bins=100)"
   ]
  },
  {
   "cell_type": "markdown",
   "metadata": {},
   "source": [
    "### imshow & matshow"
   ]
  },
  {
   "cell_type": "code",
   "execution_count": null,
   "metadata": {},
   "outputs": [],
   "source": [
    "matrix_data = np.random.randn(10, 10)"
   ]
  },
  {
   "cell_type": "code",
   "execution_count": null,
   "metadata": {},
   "outputs": [],
   "source": [
    "a = ax.spines[\"top\"]"
   ]
  },
  {
   "cell_type": "code",
   "execution_count": null,
   "metadata": {},
   "outputs": [],
   "source": [
    "a.visi"
   ]
  },
  {
   "cell_type": "code",
   "execution_count": null,
   "metadata": {},
   "outputs": [],
   "source": [
    "fig, ax = plt.subplots()\n",
    "mappable = ax.matshow(matrix_data)\n",
    "ax.spines[\"top\"].set_visible(True)\n",
    "ax.spines[\"bottom\"].set_visible(False)\n",
    "ax.xaxis.set_ticks_position('top')\n",
    "fig.colorbar(mappable)\n"
   ]
  },
  {
   "cell_type": "markdown",
   "metadata": {},
   "source": [
    "## Plotting uncertainty "
   ]
  },
  {
   "cell_type": "markdown",
   "metadata": {},
   "source": [
    "### Error bars"
   ]
  },
  {
   "cell_type": "code",
   "execution_count": null,
   "metadata": {},
   "outputs": [],
   "source": []
  },
  {
   "cell_type": "code",
   "execution_count": null,
   "metadata": {},
   "outputs": [],
   "source": []
  },
  {
   "cell_type": "code",
   "execution_count": null,
   "metadata": {},
   "outputs": [],
   "source": []
  },
  {
   "cell_type": "markdown",
   "metadata": {},
   "source": [
    "### Boxplots"
   ]
  },
  {
   "cell_type": "code",
   "execution_count": null,
   "metadata": {},
   "outputs": [],
   "source": [
    "fig, ax = plt.subplots(figsize = (2,3))\n",
    "ax.boxplot(normal_data)"
   ]
  },
  {
   "cell_type": "markdown",
   "metadata": {},
   "source": [
    "### Fill between"
   ]
  },
  {
   "cell_type": "code",
   "execution_count": null,
   "metadata": {},
   "outputs": [],
   "source": [
    "# Generating 100 curves with random noise\n",
    "\n",
    "X = np.linspace(0, 10, 1000)\n",
    "Y = np.sin(X)\n",
    "Ys = np.array([Y + .1*np.cumsum(np.random.randn(1000)) for i in range(100)])"
   ]
  },
  {
   "cell_type": "code",
   "execution_count": null,
   "metadata": {},
   "outputs": [],
   "source": [
    "# Checking the chape\n",
    "\n",
    "Ys.shape"
   ]
  },
  {
   "cell_type": "code",
   "execution_count": null,
   "metadata": {},
   "outputs": [],
   "source": [
    "# Finding the median and IQR\n",
    "\n",
    "Y_median = np.percentile(Ys, 50, axis=0)\n",
    "Y_Q1 = np.percentile(Ys, 25, axis=0) \n",
    "Y_Q3 = np.percentile(Ys, 75, axis=0)"
   ]
  },
  {
   "cell_type": "code",
   "execution_count": null,
   "metadata": {},
   "outputs": [],
   "source": [
    "# Plotting the median and the IQR\n",
    "\n",
    "fig, ax = plt.subplots()\n",
    "ax.plot(X, Y_median, color=\"blue\")\n",
    "ax.fill_between(X, Y_Q1, Y_Q3, alpha=.2, color=\"blue\", lw=0)"
   ]
  },
  {
   "cell_type": "markdown",
   "metadata": {},
   "source": [
    "### Raw data"
   ]
  },
  {
   "cell_type": "code",
   "execution_count": null,
   "metadata": {},
   "outputs": [],
   "source": [
    "# Plotting all the data using transparency\n",
    "\n",
    "fig, ax = plt.subplots()\n",
    "for Y in Ys:\n",
    "    ax.plot(X, Y, color='k', alpha=.2, lw=.2)"
   ]
  },
  {
   "cell_type": "markdown",
   "metadata": {},
   "source": [
    "## Saving plots"
   ]
  },
  {
   "cell_type": "code",
   "execution_count": null,
   "metadata": {},
   "outputs": [],
   "source": [
    "# As PNG\n",
    "fig.savefig(\"my_plot.png\", dpi=300)\n",
    "# As PDF\n",
    "fig.savefig(\"my_plot.pdf\")\n",
    "# As SVG\n",
    "fig.savefig(\"my_plot.svg\")"
   ]
  }
 ],
 "metadata": {
  "kernelspec": {
   "display_name": "Python 3 (QN)",
   "language": "python",
   "name": "py3-qn"
  },
  "language_info": {
   "codemirror_mode": {
    "name": "ipython",
    "version": 3
   },
   "file_extension": ".py",
   "mimetype": "text/x-python",
   "name": "python",
   "nbconvert_exporter": "python",
   "pygments_lexer": "ipython3",
   "version": "3.8.5"
  }
 },
 "nbformat": 4,
 "nbformat_minor": 4
}
