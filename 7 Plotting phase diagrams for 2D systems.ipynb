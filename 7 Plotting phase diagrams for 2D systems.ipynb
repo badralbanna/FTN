{
 "cells": [
  {
   "cell_type": "code",
   "execution_count": 2,
   "metadata": {},
   "outputs": [],
   "source": [
    "import numpy as np\n",
    "from scipy.linalg import eig\n",
    "import matplotlib.pylab as plt\n",
    "from matplotlib import cm\n",
    "from numpy import sin, cos, tan, exp, pi, e"
   ]
  },
  {
   "cell_type": "markdown",
   "metadata": {},
   "source": [
    "# Defining the variables and equations of motion"
   ]
  },
  {
   "cell_type": "code",
   "execution_count": 65,
   "metadata": {},
   "outputs": [],
   "source": [
    "X_LABEL = \"V\"\n",
    "Y_LABEL = \"w\"\n",
    "\n",
    "def DXDT(x, y):\n",
    "    return(-x*(x-1)*(x-0.1) - y)\n",
    "    \n",
    "def DYDT(x, y):\n",
    "    return(4*x**3 - y)"
   ]
  },
  {
   "cell_type": "markdown",
   "metadata": {},
   "source": [
    "# Rendering the phase portrait"
   ]
  },
  {
   "cell_type": "code",
   "execution_count": 54,
   "metadata": {},
   "outputs": [],
   "source": [
    "from scipy.optimize import fsolve, root\n",
    "from itertools import product\n",
    "\n",
    "## Function to find the critical points, (do not change)\n",
    "def find_2D_critical_points(dxdt, dydt, epsilon=0.0001, res_c=0.1, xlim=(-3, 3), ylim=(-3, 3)):\n",
    "    x_min, x_max = xlim\n",
    "    y_min, y_max = ylim\n",
    "    \n",
    "    ## Helper function needed for fsolve\n",
    "    def DDT(arg):\n",
    "        x, y = arg\n",
    "        return(dxdt(x, y), dydt(x, y))\n",
    "\n",
    "    ## Creating a grid to search for critical points\n",
    "    x = np.arange(*xlim, res_c)\n",
    "    y = np.arange(*ylim, res_c)\n",
    "    X, Y = np.meshgrid(x, y)\n",
    "\n",
    "    ## Finding the critical points\n",
    "    cp_x = []\n",
    "    cp_y = []\n",
    "    for x_0, y_0 in product(x, y):\n",
    "        x_c, y_c = fsolve(DDT, (x_0, y_0), factor=1.0)\n",
    "        \n",
    "        # Checking if its in range\n",
    "        if (x_c >= x_min) & (x_c <= x_max) & (y_c >= y_min) & (y_c <= y_max):\n",
    "            if len(cp_x) > 0:\n",
    "                # Check to make sure the point is not already included\n",
    "                is_included = np.any(np.abs(np.array(cp_x) - x_c) < epsilon) & np.any(np.abs(np.array(cp_y) - y_c) < epsilon)\n",
    "                if not is_included:\n",
    "                    cp_x.append(x_c)\n",
    "                    cp_y.append(y_c)\n",
    "            else:\n",
    "                # first point\n",
    "                cp_x.append(x_c)\n",
    "                cp_y.append(y_c)\n",
    "    \n",
    "    cp_x = np.array(cp_x)\n",
    "    cp_y = np.array(cp_y)\n",
    "    \n",
    "    # Checking which ones actually worked\n",
    "    actually_worked = np.isclose(dxdt(cp_x, cp_y), np.zeros(len(cp_x))) * np.isclose(dydt(cp_x, cp_y), np.zeros(len(cp_x)))\n",
    "    cp_x = cp_x[actually_worked]\n",
    "    cp_y = cp_y[actually_worked]\n",
    "\n",
    "    ## Sorting the lists of critical points\n",
    "    sort_x = np.argsort(cp_x)\n",
    "    cp_x = cp_x[sort_x]\n",
    "    cp_y = cp_y[sort_x]\n",
    "    sort_y = np.argsort(cp_y)\n",
    "    cp_x = cp_x[sort_y]\n",
    "    cp_y = cp_y[sort_y]\n",
    "\n",
    "    print(\"Critical points found at:\")            \n",
    "    print([i for i in zip(cp_x, cp_y)])\n",
    "    print()\n",
    "    return cp_x, cp_y\n",
    "\n",
    "# Function for plotting the phase diagram (do not change)\n",
    "def plot_2D_phase_space(dxdt, dydt, xlim=(-3, 3), ylim=(-3, 3), res=0.1, q_scale=1.0, x_label=X_LABEL, y_label=Y_LABEL, ax=None, figsize=(6,6)):\n",
    "    if ax == None:\n",
    "        fig = plt.figure(figsize=figsize)\n",
    "        ax = fig.add_subplot(1,1,1,aspect='equal')\n",
    "\n",
    "    ## Creating the Grid for plotting\n",
    "    x = np.arange(*xlim, res)\n",
    "    y = np.arange(*ylim, res)\n",
    "    X, Y = np.meshgrid(x, y)\n",
    "\n",
    "    ## Caculating the change vectors\n",
    "    dxdt_q = dxdt(X, Y)\n",
    "    dydt_q = dydt(X, Y)\n",
    "    max_ddt = np.max(np.sqrt(dxdt_q**2 + dydt_q**2))\n",
    "\n",
    "    ## Finding critical points \n",
    "    cp_x, cp_y = find_2D_critical_points(dxdt, dydt, xlim=xlim, ylim=ylim)\n",
    "\n",
    "    ## Plotting quivers and critical points\n",
    "    ax.axhline(0, color='.8')\n",
    "    ax.axvline(0, color='.8')\n",
    "    ax.set_xlim(xlim)\n",
    "    ax.scatter(cp_x, cp_y, s=100, color='blue', marker='o', facecolor='none')\n",
    "    ax.quiver(x, y, dxdt_q, dydt_q, scale_units='width', scale=max_ddt/(.1 * q_scale), color='blue')\n",
    "    ax.set_title(\"2D phase portrait\")\n",
    "    ax.set_ylim(ylim)\n",
    "    ax.set_xlabel(X_LABEL)\n",
    "    ax.set_ylabel(Y_LABEL)"
   ]
  },
  {
   "cell_type": "code",
   "execution_count": 105,
   "metadata": {},
   "outputs": [],
   "source": [
    "# Setting plotting defaults\n",
    "X_MIN = -.1 # minimum X value shown\n",
    "X_MAX = 1.1 # maximum X value shown\n",
    "Y_MIN = -.1 # minimum Y value shown\n",
    "Y_MAX = 0.5 # maximum Y value shown\n",
    "\n",
    "RES = 0.1 # spacing between arrows for the quiver plot), don't need to change\n",
    "Q_SCALE = 1.0 # scale factor to stretch quivers when plotted (for visibility), don't need to change"
   ]
  },
  {
   "cell_type": "code",
   "execution_count": 106,
   "metadata": {},
   "outputs": [
    {
     "name": "stdout",
     "output_type": "stream",
     "text": [
      "Critical points found at:\n",
      "[(0.0, 0.0), (0.10115140803340855, 0.00010468578890607186), (0.5859763583512269, 0.11790178432637491)]\n",
      "\n"
     ]
    },
    {
     "data": {
      "image/png": "[encoded data removed]",
      "text/plain": [
       "<Figure size 432x432 with 1 Axes>"
      ]
     },
     "metadata": {
      "needs_background": "light"
     },
     "output_type": "display_data"
    }
   ],
   "source": [
    "plot_2D_phase_space(DXDT, DYDT, xlim=(X_MIN, X_MAX), ylim=(Y_MIN, Y_MAX), res=RES, q_scale=Q_SCALE)"
   ]
  },
  {
   "cell_type": "markdown",
   "metadata": {},
   "source": [
    "# Simulating solutions to the system"
   ]
  },
  {
   "cell_type": "code",
   "execution_count": 57,
   "metadata": {},
   "outputs": [],
   "source": [
    "# Setting default timestep\n",
    "DT = 0.001\n",
    "\n",
    "# Function to plot phase space diagram w/ critical points \n",
    "from itertools import product\n",
    "\n",
    "# Functions implimenting Euler's method\n",
    "def find_next_point_Euler(x, y, dxdt, dydt, dt=DT):\n",
    "    x_next = x + dxdt(x,y)*dt\n",
    "    y_next = y + dydt(x,y)*dt\n",
    "    return(x_next, y_next)\n",
    "\n",
    "# Function implimenting the midpoint method aka RK2\n",
    "def find_next_point_midpoint(x, y, dxdt, dydt, dt=DT):\n",
    "    x_test = x + dxdt(x,y)*dt\n",
    "    y_test = y + dydt(x,y)*dt\n",
    "    \n",
    "    x_next = x + dxdt((x + x_test)/2., (y + y_test)/2)*dt\n",
    "    y_next = y + dydt((x + x_test)/2., (y + y_test)/2)*dt\n",
    "    \n",
    "    return(x_next, y_next)\n",
    "\n",
    "def simulate(x_0, y_0, t_f, dxdt, dydt, simulation_function, dt=DT):\n",
    "    X_solution = [x_0]\n",
    "    Y_solution = [y_0]\n",
    "    T = np.arange(dt, t_f, dt)\n",
    "    for t in T[1:]:\n",
    "        x_previous, y_previous = X_solution[-1], Y_solution[-1]\n",
    "        x_next, y_next = simulation_function(x_previous, y_previous, dxdt, dydt, dt=dt)\n",
    "        X_solution.append(x_next)\n",
    "        Y_solution.append(y_next)\n",
    "    return (T, X_solution, Y_solution)\n",
    "\n",
    "def simulate_collection(X_0s, Y_0s, t_f, dxdt, dydt, simulation_function, dt=DT):\n",
    "    X = []\n",
    "    Y = []\n",
    "    for X_0, Y_0 in zip(X_0s, Y_0s):\n",
    "        T, X_sol, Y_sol = simulate(X_0, Y_0, t_f, dxdt, dydt, simulation_function, dt=dt)\n",
    "        X.append(X_sol)\n",
    "        Y.append(Y_sol)\n",
    "    return T, X, Y\n",
    "\n",
    "def plot_solutions(T_f, X_0s, Y_0s, dxdt, dydt, simulation_functions, colors=['.k'],dt=DT, xlim=(X_MIN, X_MAX), ylim=(Y_MIN, Y_MAX), res=RES, q_scale=Q_SCALE, x_label=X_LABEL, y_label=Y_LABEL):\n",
    "    fig, (ax, ax_x, ax_y) = plt.subplots(figsize=(12,4), ncols=3)\n",
    "    plot_2D_phase_space(dxdt, dydt, xlim=xlim, ylim=ylim, res=res, q_scale=q_scale, x_label=x_label, y_label=y_label, ax=ax)\n",
    "    ax.set_aspect(aspect='equal')\n",
    "\n",
    "    X_solutions = []\n",
    "    Y_solutions = []\n",
    "    for simulation_function, (X_0, Y_0) in product(simulation_functions, zip(X_0s, Y_0s)):\n",
    "        T, X_solution, Y_solution = simulate(X_0, Y_0, T_f, dxdt, dydt, simulation_function, dt=dt)\n",
    "        X_solutions.append(X_solution)\n",
    "        Y_solutions.append(Y_solution)\n",
    "\n",
    "    if len(colors) != len(X_solutions):\n",
    "        colors = len(X_solutions) * colors\n",
    "\n",
    "    for X_solution, Y_solution, color in zip(X_solutions, Y_solutions, colors):\n",
    "        ax.plot(X_solution, Y_solution, color=color)\n",
    "        ax.scatter(X_solution[0], Y_solution[0], color=color, zorder=10, s=10.0)\n",
    "\n",
    "        ax_x.set_title(\"{0} vs. time\".format(X_LABEL))\n",
    "        ax_x.plot(T, X_solution, color=color)\n",
    "        ax_x.axhline(0, color='.8', zorder=-1)\n",
    "        ax_x.scatter(T[0], X_solution[0], color=color, zorder=10, s=10.0)\n",
    "        ax_x.set_ylabel(X_LABEL)\n",
    "        ax_x.set_xlabel(\"Time\")\n",
    "        ax_x.set_ylim(xlim)\n",
    "\n",
    "        ax_y.set_title(\"{0} vs. time\".format(Y_LABEL))\n",
    "        ax_y.plot(T, Y_solution, color=color)\n",
    "        ax_y.axhline(0, color='.8', zorder=-1)\n",
    "        ax_y.scatter(T[0], Y_solution[0], color=color, zorder=10, s=10.0)\n",
    "        ax_y.set_ylabel(Y_LABEL)\n",
    "        ax_y.set_xlabel(\"Time\")\n",
    "        ax_y.set_ylim(ylim)"
   ]
  },
  {
   "cell_type": "markdown",
   "metadata": {},
   "source": [
    "### Graphing the RK2 simulation"
   ]
  },
  {
   "cell_type": "code",
   "execution_count": 58,
   "metadata": {},
   "outputs": [],
   "source": [
    "X_0 = 0.999 # starting x value\n",
    "Y_0 = 2 # starting y value\n",
    "T_f = 30 # final time, initial time is always 0\n",
    "\n",
    "DT = 0.001 # simulation timestep\n",
    "\n",
    "X_MIN = -.2 # minimum X value shown\n",
    "X_MAX = 2.2 # maximum X value shown\n",
    "Y_MIN = -.2 # minimum X value shown\n",
    "Y_MAX = 2.2 # maximum X value shown\n",
    "\n",
    "RES = 0.2 # spacing between arrows for the quiver plot), don't need to change\n",
    "Q_SCALE = 1.0 # scale factor to stretch quivers when plotted (for visibility), don't need to change"
   ]
  },
  {
   "cell_type": "code",
   "execution_count": 100,
   "metadata": {},
   "outputs": [
    {
     "name": "stdout",
     "output_type": "stream",
     "text": [
      "Critical points found at:\n",
      "[(0.0, 0.0), (0.10115140803340855, 0.00010468578890607186)]\n",
      "\n"
     ]
    },
    {
     "data": {
      "image/png": "[encoded data removed]",
      "text/plain": [
       "<Figure size 864x288 with 3 Axes>"
      ]
     },
     "metadata": {
      "needs_background": "light"
     },
     "output_type": "display_data"
    }
   ],
   "source": [
    "plot_solutions(T_f, [X_0], [Y_0], DXDT, DYDT, [find_next_point_midpoint], colors=['b'], dt=DT, xlim=(X_MIN, X_MAX), ylim=(Y_MIN, Y_MAX), res=RES, q_scale=Q_SCALE)"
   ]
  },
  {
   "cell_type": "markdown",
   "metadata": {},
   "source": [
    "## Plotting a set of trajectories"
   ]
  },
  {
   "cell_type": "code",
   "execution_count": null,
   "metadata": {},
   "outputs": [],
   "source": [
    "# SNIC\n",
    "\n",
    "X_LABEL = \"V\"\n",
    "Y_LABEL = \"w\"\n",
    "\n",
    "def DXDT(x, y):\n",
    "    return(20*(-x*(x-1)*(x-0.1) - y))\n",
    "    \n",
    "def DYDT(x, y):\n",
    "    return(20*.1*(x**4 - y))\n"
   ]
  },
  {
   "cell_type": "code",
   "execution_count": null,
   "metadata": {},
   "outputs": [],
   "source": [
    "# Saddle/node\n",
    "\n",
    "X_LABEL = \"V\"\n",
    "Y_LABEL = \"w\"\n",
    "\n",
    "def DXDT(x, y):\n",
    "    return(20*(-x*(x-1)*(x-0.1) - y))\n",
    "    \n",
    "def DYDT(x, y):\n",
    "    return(20*.1862*(x**4 - y))"
   ]
  },
  {
   "cell_type": "code",
   "execution_count": 325,
   "metadata": {},
   "outputs": [],
   "source": [
    "# Supercirtical AH\n",
    "\n",
    "X_LABEL = \"V\"\n",
    "Y_LABEL = \"w\"\n",
    "\n",
    "def DXDT(x, y):\n",
    "    return(20*(-x*(x-1)*(x-0.1) - y + .07))\n",
    "    \n",
    "def DYDT(x, y):\n",
    "    return(20*.1*(x - y)) "
   ]
  },
  {
   "cell_type": "code",
   "execution_count": 322,
   "metadata": {},
   "outputs": [],
   "source": [
    "# Subcritical AH\n",
    "\n",
    "X_LABEL = \"V\"\n",
    "Y_LABEL = \"w\"\n",
    "\n",
    "def DXDT(x, y):\n",
    "    return(20*(-x*(x-1)*(x-0.4) - y + .031))\n",
    "    \n",
    "def DYDT(x, y):\n",
    "    return(20*.1*(2*x**4 - y))"
   ]
  },
  {
   "cell_type": "code",
   "execution_count": 323,
   "metadata": {},
   "outputs": [],
   "source": [
    "X_MIN = -.5 # minimum X value shown\n",
    "X_MAX = 1.0 # maximum X value shown\n",
    "Y_MIN = -.25 # minimum Y value shown\n",
    "Y_MAX = 0.5 # maximum Y value shown\n",
    "\n",
    "X_0s = [-.1, 0, .1, .2] # list of starting X values\n",
    "Y_0s = [-.01]*5 # list of starting Y values\n",
    "T_f = 10 # Final simulation time, initial time is 0\n",
    "\n",
    "RES = 0.1 # spacing between arrows for the quiver plot), don't need to change\n",
    "Q_SCALE = 1.0 # scale factor to stretch quivers when plotted (for visibility), don't need to change"
   ]
  },
  {
   "cell_type": "code",
   "execution_count": 324,
   "metadata": {},
   "outputs": [
    {
     "name": "stdout",
     "output_type": "stream",
     "text": [
      "Critical points found at:\n",
      "[(0.12897040460047568, 0.0005533376799321346)]\n",
      "\n"
     ]
    },
    {
     "data": {
      "image/png": "[encoded data removed]",
      "text/plain": [
       "<Figure size 864x288 with 3 Axes>"
      ]
     },
     "metadata": {
      "needs_background": "light"
     },
     "output_type": "display_data"
    }
   ],
   "source": [
    "plot_solutions(T_f, X_0s, Y_0s, DXDT, DYDT, [find_next_point_midpoint], colors=[cm.cool(i / float(len(X_0s))) for i in range(len(X_0s))], dt=0.001, xlim=(X_MIN, X_MAX), ylim=(Y_MIN, Y_MAX), res=RES, q_scale=Q_SCALE)"
   ]
  },
  {
   "cell_type": "markdown",
   "metadata": {},
   "source": [
    "# Approximating dynamics near the critical points"
   ]
  },
  {
   "cell_type": "code",
   "execution_count": 185,
   "metadata": {
    "jupyter": {
     "source_hidden": true
    }
   },
   "outputs": [],
   "source": [
    "# Some functions to \"linearize\" a system near crtical points and find eigenvalues and vectors there \n",
    "\n",
    "# Function to \"linearize\" non-linear systems near a point (do not change)\n",
    "def linearize(x, y, dx_func, dy_func, D=0.000001):\n",
    "    L = np.array(\n",
    "        [[(dx_func(x+D,y) - dx_func(x-D,y)) / (2*D), (dx_func(x,y+D) - dx_func(x,y-D)) / (2*D)], \n",
    "        [(dy_func(x+D,y) - dy_func(x-D,y)) / (2*D), (dy_func(x,y+D) - dy_func(x,y-D)) / (2*D)]]\n",
    "    )\n",
    "    return(L)\n",
    "\n",
    "# Function to \"linearize\" non-linear system near all critical points \n",
    "def linearize_all_critical_points(dxdt, dydt, xlim=(X_MIN, X_MAX), ylim=(Y_MIN, Y_MAX)):\n",
    "    cp_x, cp_y = find_2D_critical_points(dxdt, dydt, xlim=xlim, ylim=ylim)\n",
    "    Ls = []\n",
    "    for i, (x, y) in enumerate(zip(cp_x, cp_y)):\n",
    "        L = linearize(x, y, DXDT, DYDT)\n",
    "        Ls.append(L)\n",
    "        print(f\" At critical point #{i}, ({x}, {y}), the functions are approximated by \\n {L}\\n\")\n",
    "    return Ls, cp_x, cp_y\n",
    "\n",
    "# Function to find and print eigenvalues and eigenvectors of a matrix (do not change)\n",
    "def find_eigenvalues_and_eigenvectors(M):\n",
    "    vals, mat = eig(M)\n",
    "    for i in range(len(vals)):\n",
    "        if np.imag(vals[i]) == 0.0:\n",
    "            vals = np.array(vals, dtype='float')\n",
    "        print(f\"\\tEigenvalue {i+1} is {vals[i]:.3}, with vector ({mat[0,i]:.3}, {mat[1,i]:.3})\")\n",
    "    return vals, mat\n",
    "\n",
    "# A function to find and print eigenvalues and eigenvectors at all crtiical points (do not change)\n",
    "def find_all_critcal_eigenvalues_and_eigenvectors(dxdt, dydt, xlim=(X_MIN, X_MAX), ylim=(Y_MIN, Y_MAX)):\n",
    "    Ls, cp_x, cp_y = linearize_all_critical_points(dxdt, dydt)\n",
    "    vals = []\n",
    "    mats = []\n",
    "    for i, (L, x, y) in enumerate(zip(Ls, cp_x, cp_y)):\n",
    "        print(f\"At critical point #{i}, ({x}, {y}),\")\n",
    "        val, mat = find_eigenvalues_and_eigenvectors(Ls[i])\n",
    "        print(\"\")\n",
    "        vals.append(val)\n",
    "        mats.append(mat)\n",
    "    return vals, mats, Ls, cp_x, cp_y"
   ]
  },
  {
   "cell_type": "code",
   "execution_count": 172,
   "metadata": {},
   "outputs": [
    {
     "name": "stdout",
     "output_type": "stream",
     "text": [
      "Critical points found at:\n",
      "[(-5e-324, 0.0), (0.10115140803340858, 0.00010468578890607181), (0.5859763583512689, 0.11790178432638686)]\n",
      "\n",
      " At critical point #0, (-5e-324, 0.0), the functions are approximated by \n",
      " [[ -2. -20.]\n",
      " [  0.  -2.]]\n",
      "\n",
      " At critical point #1, (0.10115140803340858, 0.00010468578890607181), the functions are approximated by \n",
      " [[ 1.83676551e+00 -2.00000000e+01]\n",
      " [ 8.27953192e-03 -2.00000000e+00]]\n",
      "\n",
      " At critical point #2, (0.5859763583512689, 0.11790178432638686), the functions are approximated by \n",
      " [[  3.18086221 -20.        ]\n",
      " [  1.60964561  -2.        ]]\n",
      "\n"
     ]
    }
   ],
   "source": [
    "Ls, cp_x, cp_y = linearize_all_critical_points(DXDT, DYDT, xlim=(X_MIN, X_MAX), ylim=(Y_MIN, Y_MAX))    "
   ]
  },
  {
   "cell_type": "code",
   "execution_count": 258,
   "metadata": {},
   "outputs": [
    {
     "name": "stdout",
     "output_type": "stream",
     "text": [
      "Critical points found at:\n",
      "[(0.1, 0.1)]\n",
      "\n",
      " At critical point #0, (0.1, 0.1), the functions are approximated by \n",
      " [[  1.8 -20. ]\n",
      " [  2.   -2. ]]\n",
      "\n",
      "At critical point #0, (0.1, 0.1),\n",
      "\tEigenvalue 1 is (-0.1+6.03j), with vector ((0.953+0j), (0.0906-0.288j))\n",
      "\tEigenvalue 2 is (-0.1-6.03j), with vector ((0.953-0j), (0.0906+0.288j))\n",
      "\n"
     ]
    }
   ],
   "source": [
    "vals, mats, Ls, cp_x, cp_y = find_all_critcal_eigenvalues_and_eigenvectors(DXDT, DYDT, xlim=(X_MIN, X_MAX), ylim=(Y_MIN, Y_MAX))"
   ]
  },
  {
   "cell_type": "code",
   "execution_count": null,
   "metadata": {},
   "outputs": [],
   "source": []
  }
 ],
 "metadata": {
  "kernelspec": {
   "display_name": "Python 3 (QN)",
   "language": "python",
   "name": "py3-qn"
  },
  "language_info": {
   "codemirror_mode": {
    "name": "ipython",
    "version": 3
   },
   "file_extension": ".py",
   "mimetype": "text/x-python",
   "name": "python",
   "nbconvert_exporter": "python",
   "pygments_lexer": "ipython3",
   "version": "3.8.5"
  },
  "nteract": {
   "version": "0.23.1"
  },
  "toc": {
   "base_numbering": 1,
   "nav_menu": {},
   "number_sections": true,
   "sideBar": true,
   "skip_h1_title": false,
   "title_cell": "Table of Contents",
   "title_sidebar": "Contents",
   "toc_cell": false,
   "toc_position": {},
   "toc_section_display": true,
   "toc_window_display": false
  },
  "varInspector": {
   "cols": {
    "lenName": 16,
    "lenType": 16,
    "lenVar": 40
   },
   "kernels_config": {
    "python": {
     "delete_cmd_postfix": "",
     "delete_cmd_prefix": "del ",
     "library": "var_list.py",
     "varRefreshCmd": "print(var_dic_list())"
    },
    "r": {
     "delete_cmd_postfix": ") ",
     "delete_cmd_prefix": "rm(",
     "library": "var_list.r",
     "varRefreshCmd": "cat(var_dic_list()) "
    }
   },
   "types_to_exclude": [
    "module",
    "function",
    "builtin_function_or_method",
    "instance",
    "_Feature"
   ],
   "window_display": false
  }
 },
 "nbformat": 4,
 "nbformat_minor": 4
}
